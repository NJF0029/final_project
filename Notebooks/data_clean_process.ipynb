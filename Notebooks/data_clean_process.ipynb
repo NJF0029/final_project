{
 "cells": [
  {
   "cell_type": "markdown",
   "metadata": {
    "id": "pZHWnkwop9mx"
   },
   "source": [
    "# Import ingredients\n"
   ]
  },
  {
   "cell_type": "code",
   "execution_count": 7,
   "metadata": {
    "colab": {
     "base_uri": "https://localhost:8080/"
    },
    "executionInfo": {
     "elapsed": 634,
     "status": "ok",
     "timestamp": 1607889655332,
     "user": {
      "displayName": "Nathan Fournillier",
      "photoUrl": "",
      "userId": "17358370230187562492"
     },
     "user_tz": -60
    },
    "id": "b1JbVc3DUM9o",
    "outputId": "4d1528e6-ba96-40a1-98b6-e985232d1c84"
   },
   "outputs": [
    {
     "name": "stdout",
     "output_type": "stream",
     "text": [
      "[nltk_data] Downloading package averaged_perceptron_tagger to\n",
      "[nltk_data]     /root/nltk_data...\n",
      "[nltk_data]   Package averaged_perceptron_tagger is already up-to-\n",
      "[nltk_data]       date!\n",
      "[nltk_data] Downloading package wordnet to /root/nltk_data...\n",
      "[nltk_data]   Package wordnet is already up-to-date!\n",
      "[nltk_data] Downloading package stopwords to /root/nltk_data...\n",
      "[nltk_data]   Package stopwords is already up-to-date!\n"
     ]
    }
   ],
   "source": [
    "\n",
    "import pandas as pd\n",
    "import numpy as np\n",
    "import matplotlib.pyplot as plt\n",
    "import re\n",
    "import os\n",
    "import random\n",
    "from tqdm.notebook import tqdm\n",
    "from sklearn.feature_extraction.text import TfidfVectorizer\n",
    "from sklearn.pipeline import Pipeline\n",
    "from sklearn.model_selection import train_test_split\n",
    "from sklearn.metrics import accuracy_score, classification_report, confusion_matrix, plot_confusion_matrix\n",
    "import spacy\n",
    "import en_core_web_sm\n",
    "from nltk.stem import WordNetLemmatizer \n",
    "import nltk\n",
    "nltk.download('averaged_perceptron_tagger')\n",
    "nltk.download('wordnet')\n",
    "from bs4 import BeautifulSoup as bs\n",
    "import string\n",
    "from nltk import pos_tag\n",
    "from nltk.corpus import stopwords\n",
    "nltk.download('stopwords')\n",
    "from nltk.tokenize import WhitespaceTokenizer\n",
    "from nltk.stem import WordNetLemmatizer\n"
   ]
  },
  {
   "cell_type": "markdown",
   "metadata": {
    "id": "JQ-bqd3Xfyj6"
   },
   "source": [
    "## Loading Data"
   ]
  },
  {
   "cell_type": "code",
   "execution_count": 2,
   "metadata": {
    "executionInfo": {
     "elapsed": 640,
     "status": "ok",
     "timestamp": 1607889575735,
     "user": {
      "displayName": "Nathan Fournillier",
      "photoUrl": "",
      "userId": "17358370230187562492"
     },
     "user_tz": -60
    },
    "id": "_TiNbJ8pauoq"
   },
   "outputs": [],
   "source": [
    "df = pd.read_pickle('Imdb_movie_reviews_database.pckl')"
   ]
  },
  {
   "cell_type": "markdown",
   "metadata": {
    "id": "5ajPQvxPKPd1"
   },
   "source": [
    "## Exploring the data - 1"
   ]
  },
  {
   "cell_type": "code",
   "execution_count": 75,
   "metadata": {
    "colab": {
     "base_uri": "https://localhost:8080/"
    },
    "executionInfo": {
     "elapsed": 2371,
     "status": "ok",
     "timestamp": 1607885406987,
     "user": {
      "displayName": "Nathan Fournillier",
      "photoUrl": "",
      "userId": "17358370230187562492"
     },
     "user_tz": -60
    },
    "id": "pWqQ9JzJYQAT",
    "outputId": "28cccd7b-b10f-401a-f758-0a57d1b6f25a"
   },
   "outputs": [
    {
     "data": {
      "text/plain": [
       "(50000, 2)"
      ]
     },
     "execution_count": 75,
     "metadata": {
      "tags": []
     },
     "output_type": "execute_result"
    }
   ],
   "source": [
    "df.shape"
   ]
  },
  {
   "cell_type": "code",
   "execution_count": 76,
   "metadata": {
    "colab": {
     "base_uri": "https://localhost:8080/",
     "height": 419
    },
    "executionInfo": {
     "elapsed": 2354,
     "status": "ok",
     "timestamp": 1607885406988,
     "user": {
      "displayName": "Nathan Fournillier",
      "photoUrl": "",
      "userId": "17358370230187562492"
     },
     "user_tz": -60
    },
    "id": "rhIxH-8MJJiz",
    "outputId": "4b61915d-6a07-4694-c171-8408bc24916b"
   },
   "outputs": [
    {
     "data": {
      "text/html": [
       "<div>\n",
       "<style scoped>\n",
       "    .dataframe tbody tr th:only-of-type {\n",
       "        vertical-align: middle;\n",
       "    }\n",
       "\n",
       "    .dataframe tbody tr th {\n",
       "        vertical-align: top;\n",
       "    }\n",
       "\n",
       "    .dataframe thead th {\n",
       "        text-align: right;\n",
       "    }\n",
       "</style>\n",
       "<table border=\"1\" class=\"dataframe\">\n",
       "  <thead>\n",
       "    <tr style=\"text-align: right;\">\n",
       "      <th></th>\n",
       "      <th>review</th>\n",
       "      <th>sentiment</th>\n",
       "    </tr>\n",
       "  </thead>\n",
       "  <tbody>\n",
       "    <tr>\n",
       "      <th>0</th>\n",
       "      <td>Bromwell High is a cartoon comedy. It ran at t...</td>\n",
       "      <td>1</td>\n",
       "    </tr>\n",
       "    <tr>\n",
       "      <th>1</th>\n",
       "      <td>Homelessness (or Houselessness as George Carli...</td>\n",
       "      <td>1</td>\n",
       "    </tr>\n",
       "    <tr>\n",
       "      <th>2</th>\n",
       "      <td>Brilliant over-acting by Lesley Ann Warren. Be...</td>\n",
       "      <td>1</td>\n",
       "    </tr>\n",
       "    <tr>\n",
       "      <th>3</th>\n",
       "      <td>This is easily the most underrated film inn th...</td>\n",
       "      <td>1</td>\n",
       "    </tr>\n",
       "    <tr>\n",
       "      <th>4</th>\n",
       "      <td>This is not the typical Mel Brooks film. It wa...</td>\n",
       "      <td>1</td>\n",
       "    </tr>\n",
       "    <tr>\n",
       "      <th>...</th>\n",
       "      <td>...</td>\n",
       "      <td>...</td>\n",
       "    </tr>\n",
       "    <tr>\n",
       "      <th>49995</th>\n",
       "      <td>I occasionally let my kids watch this garbage ...</td>\n",
       "      <td>0</td>\n",
       "    </tr>\n",
       "    <tr>\n",
       "      <th>49996</th>\n",
       "      <td>When all we have anymore is pretty much realit...</td>\n",
       "      <td>0</td>\n",
       "    </tr>\n",
       "    <tr>\n",
       "      <th>49997</th>\n",
       "      <td>The basic genre is a thriller intercut with an...</td>\n",
       "      <td>0</td>\n",
       "    </tr>\n",
       "    <tr>\n",
       "      <th>49998</th>\n",
       "      <td>Four things intrigued me as to this film - fir...</td>\n",
       "      <td>0</td>\n",
       "    </tr>\n",
       "    <tr>\n",
       "      <th>49999</th>\n",
       "      <td>David Bryce's comments nearby are exceptionall...</td>\n",
       "      <td>0</td>\n",
       "    </tr>\n",
       "  </tbody>\n",
       "</table>\n",
       "<p>50000 rows × 2 columns</p>\n",
       "</div>"
      ],
      "text/plain": [
       "                                                  review  sentiment\n",
       "0      Bromwell High is a cartoon comedy. It ran at t...          1\n",
       "1      Homelessness (or Houselessness as George Carli...          1\n",
       "2      Brilliant over-acting by Lesley Ann Warren. Be...          1\n",
       "3      This is easily the most underrated film inn th...          1\n",
       "4      This is not the typical Mel Brooks film. It wa...          1\n",
       "...                                                  ...        ...\n",
       "49995  I occasionally let my kids watch this garbage ...          0\n",
       "49996  When all we have anymore is pretty much realit...          0\n",
       "49997  The basic genre is a thriller intercut with an...          0\n",
       "49998  Four things intrigued me as to this film - fir...          0\n",
       "49999  David Bryce's comments nearby are exceptionall...          0\n",
       "\n",
       "[50000 rows x 2 columns]"
      ]
     },
     "execution_count": 76,
     "metadata": {
      "tags": []
     },
     "output_type": "execute_result"
    }
   ],
   "source": [
    "df"
   ]
  },
  {
   "cell_type": "code",
   "execution_count": 77,
   "metadata": {
    "colab": {
     "base_uri": "https://localhost:8080/",
     "height": 979
    },
    "executionInfo": {
     "elapsed": 2320,
     "status": "ok",
     "timestamp": 1607885406989,
     "user": {
      "displayName": "Nathan Fournillier",
      "photoUrl": "",
      "userId": "17358370230187562492"
     },
     "user_tz": -60
    },
    "id": "ewMYLyB9qprw",
    "outputId": "a3dc13da-eef0-4df5-8edd-90962391b34c"
   },
   "outputs": [
    {
     "data": {
      "text/html": [
       "<div>\n",
       "<style scoped>\n",
       "    .dataframe tbody tr th:only-of-type {\n",
       "        vertical-align: middle;\n",
       "    }\n",
       "\n",
       "    .dataframe tbody tr th {\n",
       "        vertical-align: top;\n",
       "    }\n",
       "\n",
       "    .dataframe thead th {\n",
       "        text-align: right;\n",
       "    }\n",
       "</style>\n",
       "<table border=\"1\" class=\"dataframe\">\n",
       "  <thead>\n",
       "    <tr style=\"text-align: right;\">\n",
       "      <th></th>\n",
       "      <th>review</th>\n",
       "      <th>sentiment</th>\n",
       "    </tr>\n",
       "  </thead>\n",
       "  <tbody>\n",
       "    <tr>\n",
       "      <th>0</th>\n",
       "      <td>Bromwell High is a cartoon comedy. It ran at t...</td>\n",
       "      <td>1</td>\n",
       "    </tr>\n",
       "    <tr>\n",
       "      <th>1</th>\n",
       "      <td>Homelessness (or Houselessness as George Carli...</td>\n",
       "      <td>1</td>\n",
       "    </tr>\n",
       "    <tr>\n",
       "      <th>2</th>\n",
       "      <td>Brilliant over-acting by Lesley Ann Warren. Be...</td>\n",
       "      <td>1</td>\n",
       "    </tr>\n",
       "    <tr>\n",
       "      <th>3</th>\n",
       "      <td>This is easily the most underrated film inn th...</td>\n",
       "      <td>1</td>\n",
       "    </tr>\n",
       "    <tr>\n",
       "      <th>4</th>\n",
       "      <td>This is not the typical Mel Brooks film. It wa...</td>\n",
       "      <td>1</td>\n",
       "    </tr>\n",
       "    <tr>\n",
       "      <th>5</th>\n",
       "      <td>This isn't the comedic Robin Williams, nor is ...</td>\n",
       "      <td>1</td>\n",
       "    </tr>\n",
       "    <tr>\n",
       "      <th>6</th>\n",
       "      <td>Yes its an art... to successfully make a slow ...</td>\n",
       "      <td>1</td>\n",
       "    </tr>\n",
       "    <tr>\n",
       "      <th>7</th>\n",
       "      <td>In this \"critically acclaimed psychological th...</td>\n",
       "      <td>1</td>\n",
       "    </tr>\n",
       "    <tr>\n",
       "      <th>8</th>\n",
       "      <td>THE NIGHT LISTENER (2006) **1/2 Robin Williams...</td>\n",
       "      <td>1</td>\n",
       "    </tr>\n",
       "    <tr>\n",
       "      <th>9</th>\n",
       "      <td>You know, Robin Williams, God bless him, is co...</td>\n",
       "      <td>1</td>\n",
       "    </tr>\n",
       "    <tr>\n",
       "      <th>10</th>\n",
       "      <td>When I first read Armistead Maupins story I wa...</td>\n",
       "      <td>1</td>\n",
       "    </tr>\n",
       "    <tr>\n",
       "      <th>11</th>\n",
       "      <td>I liked the film. Some of the action scenes we...</td>\n",
       "      <td>1</td>\n",
       "    </tr>\n",
       "    <tr>\n",
       "      <th>12</th>\n",
       "      <td>There are many illnesses born in the mind of m...</td>\n",
       "      <td>1</td>\n",
       "    </tr>\n",
       "    <tr>\n",
       "      <th>13</th>\n",
       "      <td>I enjoyed The Night Listener very much. It's o...</td>\n",
       "      <td>1</td>\n",
       "    </tr>\n",
       "    <tr>\n",
       "      <th>14</th>\n",
       "      <td>The Night Listener is probably not one of Will...</td>\n",
       "      <td>1</td>\n",
       "    </tr>\n",
       "    <tr>\n",
       "      <th>15</th>\n",
       "      <td>Like one of the previous commenters said, this...</td>\n",
       "      <td>1</td>\n",
       "    </tr>\n",
       "    <tr>\n",
       "      <th>16</th>\n",
       "      <td>The Night Listener held my attention, with Rob...</td>\n",
       "      <td>1</td>\n",
       "    </tr>\n",
       "    <tr>\n",
       "      <th>17</th>\n",
       "      <td>Popular radio storyteller Gabriel No one(Robin...</td>\n",
       "      <td>1</td>\n",
       "    </tr>\n",
       "    <tr>\n",
       "      <th>18</th>\n",
       "      <td>If there is one thing to recommend about this ...</td>\n",
       "      <td>1</td>\n",
       "    </tr>\n",
       "    <tr>\n",
       "      <th>19</th>\n",
       "      <td>I absolutely LOVED this film! I do not at all ...</td>\n",
       "      <td>1</td>\n",
       "    </tr>\n",
       "    <tr>\n",
       "      <th>20</th>\n",
       "      <td>This Night Listener is better than people are ...</td>\n",
       "      <td>1</td>\n",
       "    </tr>\n",
       "    <tr>\n",
       "      <th>21</th>\n",
       "      <td>When it comes to movies I can be pretty picky,...</td>\n",
       "      <td>1</td>\n",
       "    </tr>\n",
       "    <tr>\n",
       "      <th>22</th>\n",
       "      <td>Somewhat funny and well-paced action thriller ...</td>\n",
       "      <td>1</td>\n",
       "    </tr>\n",
       "    <tr>\n",
       "      <th>23</th>\n",
       "      <td>The legendary Boris Karloff ended his illustri...</td>\n",
       "      <td>1</td>\n",
       "    </tr>\n",
       "    <tr>\n",
       "      <th>24</th>\n",
       "      <td>This tale based on two Edgar Allen Poe pieces ...</td>\n",
       "      <td>1</td>\n",
       "    </tr>\n",
       "    <tr>\n",
       "      <th>25</th>\n",
       "      <td>Aro Tolbukhin burnt alive seven people in a Mi...</td>\n",
       "      <td>1</td>\n",
       "    </tr>\n",
       "    <tr>\n",
       "      <th>26</th>\n",
       "      <td>After seeing several movies of Villaronga, I h...</td>\n",
       "      <td>1</td>\n",
       "    </tr>\n",
       "    <tr>\n",
       "      <th>27</th>\n",
       "      <td>There's so many things to fall for in Aro Tolb...</td>\n",
       "      <td>1</td>\n",
       "    </tr>\n",
       "    <tr>\n",
       "      <th>28</th>\n",
       "      <td>This has got to be a unique twists of two genr...</td>\n",
       "      <td>1</td>\n",
       "    </tr>\n",
       "    <tr>\n",
       "      <th>29</th>\n",
       "      <td>Without Kirsten Miller this project needn't ha...</td>\n",
       "      <td>1</td>\n",
       "    </tr>\n",
       "  </tbody>\n",
       "</table>\n",
       "</div>"
      ],
      "text/plain": [
       "                                               review  sentiment\n",
       "0   Bromwell High is a cartoon comedy. It ran at t...          1\n",
       "1   Homelessness (or Houselessness as George Carli...          1\n",
       "2   Brilliant over-acting by Lesley Ann Warren. Be...          1\n",
       "3   This is easily the most underrated film inn th...          1\n",
       "4   This is not the typical Mel Brooks film. It wa...          1\n",
       "5   This isn't the comedic Robin Williams, nor is ...          1\n",
       "6   Yes its an art... to successfully make a slow ...          1\n",
       "7   In this \"critically acclaimed psychological th...          1\n",
       "8   THE NIGHT LISTENER (2006) **1/2 Robin Williams...          1\n",
       "9   You know, Robin Williams, God bless him, is co...          1\n",
       "10  When I first read Armistead Maupins story I wa...          1\n",
       "11  I liked the film. Some of the action scenes we...          1\n",
       "12  There are many illnesses born in the mind of m...          1\n",
       "13  I enjoyed The Night Listener very much. It's o...          1\n",
       "14  The Night Listener is probably not one of Will...          1\n",
       "15  Like one of the previous commenters said, this...          1\n",
       "16  The Night Listener held my attention, with Rob...          1\n",
       "17  Popular radio storyteller Gabriel No one(Robin...          1\n",
       "18  If there is one thing to recommend about this ...          1\n",
       "19  I absolutely LOVED this film! I do not at all ...          1\n",
       "20  This Night Listener is better than people are ...          1\n",
       "21  When it comes to movies I can be pretty picky,...          1\n",
       "22  Somewhat funny and well-paced action thriller ...          1\n",
       "23  The legendary Boris Karloff ended his illustri...          1\n",
       "24  This tale based on two Edgar Allen Poe pieces ...          1\n",
       "25  Aro Tolbukhin burnt alive seven people in a Mi...          1\n",
       "26  After seeing several movies of Villaronga, I h...          1\n",
       "27  There's so many things to fall for in Aro Tolb...          1\n",
       "28  This has got to be a unique twists of two genr...          1\n",
       "29  Without Kirsten Miller this project needn't ha...          1"
      ]
     },
     "execution_count": 77,
     "metadata": {
      "tags": []
     },
     "output_type": "execute_result"
    }
   ],
   "source": [
    "df.head(30)"
   ]
  },
  {
   "cell_type": "code",
   "execution_count": 3,
   "metadata": {
    "executionInfo": {
     "elapsed": 650,
     "status": "ok",
     "timestamp": 1607889581979,
     "user": {
      "displayName": "Nathan Fournillier",
      "photoUrl": "",
      "userId": "17358370230187562492"
     },
     "user_tz": -60
    },
    "id": "xJJjY7pv4X5C"
   },
   "outputs": [],
   "source": [
    "# renamed column\n",
    "df = df.rename(columns={'review':'reviews'})"
   ]
  },
  {
   "cell_type": "code",
   "execution_count": 79,
   "metadata": {
    "colab": {
     "base_uri": "https://localhost:8080/"
    },
    "executionInfo": {
     "elapsed": 2264,
     "status": "ok",
     "timestamp": 1607885406990,
     "user": {
      "displayName": "Nathan Fournillier",
      "photoUrl": "",
      "userId": "17358370230187562492"
     },
     "user_tz": -60
    },
    "id": "u5YVjAZX4_vt",
    "outputId": "9b56f1c2-471e-4291-f0c7-819660687344"
   },
   "outputs": [
    {
     "data": {
      "text/plain": [
       "Index(['reviews', 'sentiment'], dtype='object')"
      ]
     },
     "execution_count": 79,
     "metadata": {
      "tags": []
     },
     "output_type": "execute_result"
    }
   ],
   "source": [
    "\n",
    "df.columns"
   ]
  },
  {
   "cell_type": "code",
   "execution_count": 80,
   "metadata": {
    "colab": {
     "base_uri": "https://localhost:8080/"
    },
    "executionInfo": {
     "elapsed": 2216,
     "status": "ok",
     "timestamp": 1607885406991,
     "user": {
      "displayName": "Nathan Fournillier",
      "photoUrl": "",
      "userId": "17358370230187562492"
     },
     "user_tz": -60
    },
    "id": "b7gAFy72rSJW",
    "outputId": "2d5dccd5-30dc-415b-e550-4a77a2d7440d"
   },
   "outputs": [
    {
     "data": {
      "text/plain": [
       "0"
      ]
     },
     "execution_count": 80,
     "metadata": {
      "tags": []
     },
     "output_type": "execute_result"
    }
   ],
   "source": [
    "# Check reviews to see if they correspond to sentiment.\n",
    "df['sentiment'][49000]"
   ]
  },
  {
   "cell_type": "code",
   "execution_count": 81,
   "metadata": {
    "colab": {
     "base_uri": "https://localhost:8080/"
    },
    "executionInfo": {
     "elapsed": 2158,
     "status": "ok",
     "timestamp": 1607885406995,
     "user": {
      "displayName": "Nathan Fournillier",
      "photoUrl": "",
      "userId": "17358370230187562492"
     },
     "user_tz": -60
    },
    "id": "Tud6FqlwTmYR",
    "outputId": "ff0f1c8f-2389-4324-be3b-0ebd3a0142a1"
   },
   "outputs": [
    {
     "data": {
      "text/plain": [
       "<bound method DataFrame.sum of        reviews  sentiment\n",
       "0        False      False\n",
       "1        False      False\n",
       "2        False      False\n",
       "3        False      False\n",
       "4        False      False\n",
       "...        ...        ...\n",
       "49995    False      False\n",
       "49996    False      False\n",
       "49997    False      False\n",
       "49998    False      False\n",
       "49999    False      False\n",
       "\n",
       "[50000 rows x 2 columns]>"
      ]
     },
     "execution_count": 81,
     "metadata": {
      "tags": []
     },
     "output_type": "execute_result"
    }
   ],
   "source": [
    "df.isnull().sum"
   ]
  },
  {
   "cell_type": "code",
   "execution_count": 82,
   "metadata": {
    "colab": {
     "base_uri": "https://localhost:8080/"
    },
    "executionInfo": {
     "elapsed": 2149,
     "status": "ok",
     "timestamp": 1607885407005,
     "user": {
      "displayName": "Nathan Fournillier",
      "photoUrl": "",
      "userId": "17358370230187562492"
     },
     "user_tz": -60
    },
    "id": "jfbdX3KqKi_I",
    "outputId": "32741be6-a3e5-440d-b5f7-0d3594a11402"
   },
   "outputs": [
    {
     "name": "stdout",
     "output_type": "stream",
     "text": [
      "First 10 samples of positive reviews\n",
      " 0    Bromwell High is a cartoon comedy. It ran at t...\n",
      "1    Homelessness (or Houselessness as George Carli...\n",
      "2    Brilliant over-acting by Lesley Ann Warren. Be...\n",
      "3    This is easily the most underrated film inn th...\n",
      "4    This is not the typical Mel Brooks film. It wa...\n",
      "5    This isn't the comedic Robin Williams, nor is ...\n",
      "6    Yes its an art... to successfully make a slow ...\n",
      "7    In this \"critically acclaimed psychological th...\n",
      "8    THE NIGHT LISTENER (2006) **1/2 Robin Williams...\n",
      "9    You know, Robin Williams, God bless him, is co...\n",
      "Name: reviews, dtype: object\n",
      "First 10 samples of negative reviews\n",
      " 12500    Story of a man who has unnatural feelings for ...\n",
      "12501    Airport '77 starts as a brand new luxury 747 p...\n",
      "12502    This film lacked something I couldn't put my f...\n",
      "12503    Sorry everyone,,, I know this is supposed to b...\n",
      "12504    When I was little my parents took me along to ...\n",
      "12505    \"It appears that many critics find the idea of...\n",
      "12506    The second attempt by a New York intellectual ...\n",
      "12507    I don't know who to blame, the timid writers o...\n",
      "12508    This film is mediocre at best. Angie Harmon is...\n",
      "12509    The film is bad. There is no other way to say ...\n",
      "Name: reviews, dtype: object\n"
     ]
    }
   ],
   "source": [
    "pos_reviews = df[df['sentiment']==1]['reviews']\n",
    "neg_reviews = df[df['sentiment']==0]['reviews']\n",
    "print(\"First 10 samples of positive reviews\\n\".format(),pos_reviews[:10])\n",
    "print(\"First 10 samples of negative reviews\\n\".format(),neg_reviews[:10])"
   ]
  },
  {
   "cell_type": "code",
   "execution_count": 83,
   "metadata": {
    "executionInfo": {
     "elapsed": 2139,
     "status": "ok",
     "timestamp": 1607885407008,
     "user": {
      "displayName": "Nathan Fournillier",
      "photoUrl": "",
      "userId": "17358370230187562492"
     },
     "user_tz": -60
    },
    "id": "ZSEGuZLVVQBm"
   },
   "outputs": [],
   "source": [
    "df = df.sample(frac = 0.1, replace = False, random_state=42)"
   ]
  },
  {
   "cell_type": "code",
   "execution_count": 84,
   "metadata": {
    "colab": {
     "base_uri": "https://localhost:8080/",
     "height": 204
    },
    "executionInfo": {
     "elapsed": 2113,
     "status": "ok",
     "timestamp": 1607885407009,
     "user": {
      "displayName": "Nathan Fournillier",
      "photoUrl": "",
      "userId": "17358370230187562492"
     },
     "user_tz": -60
    },
    "id": "6vy4jvvoax0r",
    "outputId": "ad250d74-111c-4b13-b9c1-06e84146c15c"
   },
   "outputs": [
    {
     "data": {
      "text/html": [
       "<div>\n",
       "<style scoped>\n",
       "    .dataframe tbody tr th:only-of-type {\n",
       "        vertical-align: middle;\n",
       "    }\n",
       "\n",
       "    .dataframe tbody tr th {\n",
       "        vertical-align: top;\n",
       "    }\n",
       "\n",
       "    .dataframe thead th {\n",
       "        text-align: right;\n",
       "    }\n",
       "</style>\n",
       "<table border=\"1\" class=\"dataframe\">\n",
       "  <thead>\n",
       "    <tr style=\"text-align: right;\">\n",
       "      <th></th>\n",
       "      <th>reviews</th>\n",
       "      <th>sentiment</th>\n",
       "    </tr>\n",
       "  </thead>\n",
       "  <tbody>\n",
       "    <tr>\n",
       "      <th>33553</th>\n",
       "      <td>When I first saw the ad for this, I was like '...</td>\n",
       "      <td>1</td>\n",
       "    </tr>\n",
       "    <tr>\n",
       "      <th>9427</th>\n",
       "      <td>\"A Girl's Folly\" is a sort of half-comedy, hal...</td>\n",
       "      <td>1</td>\n",
       "    </tr>\n",
       "    <tr>\n",
       "      <th>199</th>\n",
       "      <td>I started watching the show from the first sea...</td>\n",
       "      <td>1</td>\n",
       "    </tr>\n",
       "    <tr>\n",
       "      <th>12447</th>\n",
       "      <td>This is a more interesting than usual porn mov...</td>\n",
       "      <td>1</td>\n",
       "    </tr>\n",
       "    <tr>\n",
       "      <th>39489</th>\n",
       "      <td>I suppose for 1961 this film was supposed to b...</td>\n",
       "      <td>0</td>\n",
       "    </tr>\n",
       "  </tbody>\n",
       "</table>\n",
       "</div>"
      ],
      "text/plain": [
       "                                                 reviews  sentiment\n",
       "33553  When I first saw the ad for this, I was like '...          1\n",
       "9427   \"A Girl's Folly\" is a sort of half-comedy, hal...          1\n",
       "199    I started watching the show from the first sea...          1\n",
       "12447  This is a more interesting than usual porn mov...          1\n",
       "39489  I suppose for 1961 this film was supposed to b...          0"
      ]
     },
     "execution_count": 84,
     "metadata": {
      "tags": []
     },
     "output_type": "execute_result"
    }
   ],
   "source": [
    "df.head()"
   ]
  },
  {
   "cell_type": "code",
   "execution_count": 85,
   "metadata": {
    "executionInfo": {
     "elapsed": 2089,
     "status": "ok",
     "timestamp": 1607885407010,
     "user": {
      "displayName": "Nathan Fournillier",
      "photoUrl": "",
      "userId": "17358370230187562492"
     },
     "user_tz": -60
    },
    "id": "8xocGLyjb25G"
   },
   "outputs": [],
   "source": [
    "df = df.reset_index(drop=True)"
   ]
  },
  {
   "cell_type": "code",
   "execution_count": 86,
   "metadata": {
    "colab": {
     "base_uri": "https://localhost:8080/"
    },
    "executionInfo": {
     "elapsed": 2069,
     "status": "ok",
     "timestamp": 1607885407010,
     "user": {
      "displayName": "Nathan Fournillier",
      "photoUrl": "",
      "userId": "17358370230187562492"
     },
     "user_tz": -60
    },
    "id": "Vpl1Uk8_cCxF",
    "outputId": "02e8db31-de71-44e5-8b5c-2387d2528303"
   },
   "outputs": [
    {
     "data": {
      "text/plain": [
       "<bound method NDFrame.head of                                                 reviews  sentiment\n",
       "0     When I first saw the ad for this, I was like '...          1\n",
       "1     \"A Girl's Folly\" is a sort of half-comedy, hal...          1\n",
       "2     I started watching the show from the first sea...          1\n",
       "3     This is a more interesting than usual porn mov...          1\n",
       "4     I suppose for 1961 this film was supposed to b...          0\n",
       "...                                                 ...        ...\n",
       "4995  his has to surely be one of the worst gay-them...          0\n",
       "4996  I wanted to punch the TV. Watching it was tort...          0\n",
       "4997  i was enjoying this movie most of the time, bu...          0\n",
       "4998  Sometimes when a film is panned by the critics...          0\n",
       "4999  well after watching this i can say that it ain...          0\n",
       "\n",
       "[5000 rows x 2 columns]>"
      ]
     },
     "execution_count": 86,
     "metadata": {
      "tags": []
     },
     "output_type": "execute_result"
    }
   ],
   "source": [
    "df.head"
   ]
  },
  {
   "cell_type": "code",
   "execution_count": 87,
   "metadata": {
    "colab": {
     "base_uri": "https://localhost:8080/"
    },
    "executionInfo": {
     "elapsed": 2053,
     "status": "ok",
     "timestamp": 1607885407011,
     "user": {
      "displayName": "Nathan Fournillier",
      "photoUrl": "",
      "userId": "17358370230187562492"
     },
     "user_tz": -60
    },
    "id": "bMX9klIoa_2o",
    "outputId": "ce5b97d9-7993-4cd9-ea9b-d513573fa27d"
   },
   "outputs": [
    {
     "name": "stdout",
     "output_type": "stream",
     "text": [
      "First 10 samples of positive reviews\n",
      " 0     When I first saw the ad for this, I was like '...\n",
      "1     \"A Girl's Folly\" is a sort of half-comedy, hal...\n",
      "2     I started watching the show from the first sea...\n",
      "3     This is a more interesting than usual porn mov...\n",
      "6     I saw this movie when it was new. Later I rent...\n",
      "8     First, what I didn't like. The acting was not ...\n",
      "9     As spectacle, it's hard to fault Nihon chinbot...\n",
      "12    It starts slowly, showing the dreary lives of ...\n",
      "13    A year after losing gorgeous Jane Parker (Maur...\n",
      "15    After \"Attack of the Fifty Foot Woman\" with Al...\n",
      "Name: reviews, dtype: object\n",
      "First 10 samples of negative reviews\n",
      " 4     I suppose for 1961 this film was supposed to b...\n",
      "5     This is a poor film. It certainly belongs in t...\n",
      "7     This meandering tale of mob revenge is simply ...\n",
      "10    4 Oscar winners, Karl Malden, Sally Field, Shi...\n",
      "11    Horror films are a curious thing, sometimes th...\n",
      "14    'Nobody knows anybody' is a conspiracy theory ...\n",
      "16    I think everyone was quite disappointed with t...\n",
      "18    Thank God! I didn't waste my money renting it ...\n",
      "21    Connie Hoffman is very pretty and is attractiv...\n",
      "23    I'll be short and to the point. This movie was...\n",
      "Name: reviews, dtype: object\n"
     ]
    }
   ],
   "source": [
    "pos_reviews = df[df['sentiment']==1]['reviews']\n",
    "neg_reviews = df[df['sentiment']==0]['reviews']\n",
    "print(\"First 10 samples of positive reviews\\n\".format(),pos_reviews[:10])\n",
    "print(\"First 10 samples of negative reviews\\n\".format(),neg_reviews[:10])"
   ]
  },
  {
   "cell_type": "code",
   "execution_count": 88,
   "metadata": {
    "colab": {
     "base_uri": "https://localhost:8080/",
     "height": 137
    },
    "executionInfo": {
     "elapsed": 2029,
     "status": "ok",
     "timestamp": 1607885407012,
     "user": {
      "displayName": "Nathan Fournillier",
      "photoUrl": "",
      "userId": "17358370230187562492"
     },
     "user_tz": -60
    },
    "id": "yPIoRe_me9eC",
    "outputId": "3fd34bc9-6da7-46f9-dd4f-f7b01613484b"
   },
   "outputs": [
    {
     "data": {
      "application/vnd.google.colaboratory.intrinsic+json": {
       "type": "string"
      },
      "text/plain": [
       "'First, what I didn\\'t like. The acting was not really up to the Hamlet standard. Branagh was really over-the-top, doing a lot of yelling mostly. In my opinion, those actors who were not big-name celebrities generally did a better job; though I would except Billy Crystal and Robin Williams. (And Charlton Heston, too, but I wasn\\'t sure if he was playing at being a hack.) A lot of the ambiguities in the play were clearly resolved one way in the flashbacks.<br /><br />What I think speaks very much in this play\\'s favor is that it is accessible. Shakespeare is hard to understand for the vast majority of people nowadays; many people are not even inclined to try, because of its reputation as Serious Literature and its archaic English. If they see this film they will understand clearly at least one man\\'s interpretation of the play. They will be seeing it more as Shakespeare\\'s audiences saw it: a play with sword fights and battles, and mighty kings and nobles, murder and incest and evil schemes and ghosts--and great art, if one cares to look for it, but in Shakespeare\\'s day most didn\\'t, any more than most people do now. Branagh\\'s overacting, and his forcing of his interpretation of the story on the viewer, may detract from Shakespeare\\'s art somewhat, but it is better that modern audiences get a piece of it, rather than nothing.<br /><br />I\\'ve got to say one more thing though. Some people are complaining that \"it\\'s set in the 19th century and that wasn\\'t Shakespeare\\'s time\". Well, in Shakespeare\\'s time their costume and scenery was that of their own day for all of their plays. Shakespeare may have SAID it\\'s in the days of ancient Rome or medieval Denmark or whatever, but he didn\\'t dress his characters up like they were, he used the costumes of his own time. For the same reason his plays are full of anachronisms. For example, in King John the English and French have cannons--in Robin Hood\\'s day. In Julius Caesar they talk of chimneys, which wouldn\\'t be invented for another thousand years, and in Henry IV they talk about Machiavelli, who wasn\\'t even born yet then. So I think this objection is silly--you might as well complain that the play isn\\'t in Danish (after all they live in Denmark don\\'t they?).'"
      ]
     },
     "execution_count": 88,
     "metadata": {
      "tags": []
     },
     "output_type": "execute_result"
    }
   ],
   "source": [
    "df['reviews'][8]"
   ]
  },
  {
   "cell_type": "markdown",
   "metadata": {
    "id": "QNv8L-it-JO9"
   },
   "source": [
    "# Natural Language Processing Pipeline \n",
    "\n",
    "Cleaning: \n",
    "* Tokenize the text (break text down into sentences, words, or other units). \n",
    "* Removing punctiation, whitespaces and other noise from sentence.\n",
    "* Remove words that contain numbers.\n",
    "* Removing stop words like “if,” “but,” “or,” and so on.\n",
    "* Part-Of-Speech (POS) tagging: assign a tag to every word to define if it corresponds to a noun, a verb etc. using the WordNet lexical database.\n",
    "*   Normalizing/Lemmatizing  words by condensing all forms of a word to its root form (e.g. rooms -> room, slept -> sleep).\n",
    "\n",
    "Feature Engineering:\n",
    "*   Vectorizing text by turning the text into a numerical representation for consumption by your classifier.\n",
    "\n"
   ]
  },
  {
   "cell_type": "markdown",
   "metadata": {
    "id": "JA29Vv1Un_Bw"
   },
   "source": [
    "### Cleaning"
   ]
  },
  {
   "cell_type": "code",
   "execution_count": 72,
   "metadata": {
    "colab": {
     "base_uri": "https://localhost:8080/",
     "height": 137
    },
    "executionInfo": {
     "elapsed": 927,
     "status": "ok",
     "timestamp": 1607894128771,
     "user": {
      "displayName": "Nathan Fournillier",
      "photoUrl": "",
      "userId": "17358370230187562492"
     },
     "user_tz": -60
    },
    "id": "HHf9sKA4CIR6",
    "outputId": "9a4c2a28-471b-43c0-9078-7d03b6f901d5"
   },
   "outputs": [
    {
     "data": {
      "application/vnd.google.colaboratory.intrinsic+json": {
       "type": "string"
      },
      "text/plain": [
       "\"THE NIGHT LISTENER (2006) **1/2 Robin Williams, Toni Collette, Bobby Cannavale, Rory Culkin, Joe Morton, Sandra Oh, John Cullum, Lisa Emery, Becky Ann Baker. (Dir: Patrick Stettner) <br /><br />Hitchcockian suspenser gives Williams a stand-out low-key performance.<br /><br />What is it about celebrities and fans? What is the near paranoia one associates with the other and why is it almost the norm? <br /><br />In the latest derange fan scenario, based on true events no less, Williams stars as a talk-radio personality named Gabriel No one, who reads stories he's penned over the airwaves and has accumulated an interesting fan in the form of a young boy named Pete Logand (Culkin) who has submitted a manuscript about the travails of his troubled youth to No one's editor Ashe (Morton) who gives it to No one to read for himself. <br /><br />No one is naturally disturbed but ultimately intrigued about the nightmarish existence of Pete being abducted and sexually abused for years until he was finally rescued by a nurse named Donna (Collette giving an excellent performance) who has adopted the boy but her correspondence with No one reveals that Pete is dying from AIDS. Naturally No one wants to meet the fans but is suddenly in doubt to their possibly devious ulterior motives when the seed is planted by his estranged lover Jess (Cannavale) whose sudden departure from their New York City apartment has No one in an emotional tailspin that has only now grown into a tempest in a teacup when he decides to do some investigating into Donna and Pete's backgrounds discovering some truths that he didn't anticipate.<br /><br />Written by Armistead Maupin (who co-wrote the screenplay with his former lover Terry Anderson and the film's novice director Stettner) and based on a true story about a fan's hoax found out has some Hitchcockian moments that run on full tilt like any good old fashioned pot-boiler does. It helps that Williams gives a stand-out, low-key performance as the conflicted good-hearted personality who genuinely wants to believe that his number one fan is in fact real and does love him (the one thing that has escaped his own reality) and has some unsettling dreadful moments with the creepy Collette whose one physical trait I will leave unmentioned but underlines the desperation of her character that can rattle you to the core.<br /><br />However the film runs out of gas and eventually becomes a bit repetitive and predictable despite a finely directed piece of hoodwink and mystery by Stettner, it pays to listen to your own inner voice: be careful of what you hope for.\""
      ]
     },
     "execution_count": 72,
     "metadata": {
      "tags": []
     },
     "output_type": "execute_result"
    }
   ],
   "source": [
    "example_text = df['reviews'][8]\n",
    "example_text"
   ]
  },
  {
   "cell_type": "code",
   "execution_count": 73,
   "metadata": {
    "colab": {
     "base_uri": "https://localhost:8080/",
     "height": 137
    },
    "executionInfo": {
     "elapsed": 987,
     "status": "ok",
     "timestamp": 1607894138248,
     "user": {
      "displayName": "Nathan Fournillier",
      "photoUrl": "",
      "userId": "17358370230187562492"
     },
     "user_tz": -60
    },
    "id": "l5bita_yBN1S",
    "outputId": "2939f6d3-8dbb-47c8-c500-937a17e9617c"
   },
   "outputs": [
    {
     "data": {
      "application/vnd.google.colaboratory.intrinsic+json": {
       "type": "string"
      },
      "text/plain": [
       "\"the night listener (2006) **1/2 robin williams, toni collette, bobby cannavale, rory culkin, joe morton, sandra oh, john cullum, lisa emery, becky ann baker. (dir: patrick stettner) <br /><br />hitchcockian suspenser gives williams a stand-out low-key performance.<br /><br />what is it about celebrities and fans? what is the near paranoia one associates with the other and why is it almost the norm? <br /><br />in the latest derange fan scenario, based on true events no less, williams stars as a talk-radio personality named gabriel no one, who reads stories he's penned over the airwaves and has accumulated an interesting fan in the form of a young boy named pete logand (culkin) who has submitted a manuscript about the travails of his troubled youth to no one's editor ashe (morton) who gives it to no one to read for himself. <br /><br />no one is naturally disturbed but ultimately intrigued about the nightmarish existence of pete being abducted and sexually abused for years until he was finally rescued by a nurse named donna (collette giving an excellent performance) who has adopted the boy but her correspondence with no one reveals that pete is dying from aids. naturally no one wants to meet the fans but is suddenly in doubt to their possibly devious ulterior motives when the seed is planted by his estranged lover jess (cannavale) whose sudden departure from their new york city apartment has no one in an emotional tailspin that has only now grown into a tempest in a teacup when he decides to do some investigating into donna and pete's backgrounds discovering some truths that he didn't anticipate.<br /><br />written by armistead maupin (who co-wrote the screenplay with his former lover terry anderson and the film's novice director stettner) and based on a true story about a fan's hoax found out has some hitchcockian moments that run on full tilt like any good old fashioned pot-boiler does. it helps that williams gives a stand-out, low-key performance as the conflicted good-hearted personality who genuinely wants to believe that his number one fan is in fact real and does love him (the one thing that has escaped his own reality) and has some unsettling dreadful moments with the creepy collette whose one physical trait i will leave unmentioned but underlines the desperation of her character that can rattle you to the core.<br /><br />however the film runs out of gas and eventually becomes a bit repetitive and predictable despite a finely directed piece of hoodwink and mystery by stettner, it pays to listen to your own inner voice: be careful of what you hope for.\""
      ]
     },
     "execution_count": 73,
     "metadata": {
      "tags": []
     },
     "output_type": "execute_result"
    }
   ],
   "source": [
    "#make text lower case\n",
    "lower_case = example_text.lower()\n",
    "lower_case"
   ]
  },
  {
   "cell_type": "code",
   "execution_count": 74,
   "metadata": {
    "colab": {
     "base_uri": "https://localhost:8080/",
     "height": 137
    },
    "executionInfo": {
     "elapsed": 589,
     "status": "ok",
     "timestamp": 1607894141312,
     "user": {
      "displayName": "Nathan Fournillier",
      "photoUrl": "",
      "userId": "17358370230187562492"
     },
     "user_tz": -60
    },
    "id": "HIE84iMgSxje",
    "outputId": "d0f249be-9626-469e-a62b-c6b0f8791ac5"
   },
   "outputs": [
    {
     "data": {
      "application/vnd.google.colaboratory.intrinsic+json": {
       "type": "string"
      },
      "text/plain": [
       "\"the night listener (2006) **1/2 robin williams, toni collette, bobby cannavale, rory culkin, joe morton, sandra oh, john cullum, lisa emery, becky ann baker. (dir: patrick stettner) hitchcockian suspenser gives williams a stand-out low-key performance.what is it about celebrities and fans? what is the near paranoia one associates with the other and why is it almost the norm? in the latest derange fan scenario, based on true events no less, williams stars as a talk-radio personality named gabriel no one, who reads stories he's penned over the airwaves and has accumulated an interesting fan in the form of a young boy named pete logand (culkin) who has submitted a manuscript about the travails of his troubled youth to no one's editor ashe (morton) who gives it to no one to read for himself. no one is naturally disturbed but ultimately intrigued about the nightmarish existence of pete being abducted and sexually abused for years until he was finally rescued by a nurse named donna (collette giving an excellent performance) who has adopted the boy but her correspondence with no one reveals that pete is dying from aids. naturally no one wants to meet the fans but is suddenly in doubt to their possibly devious ulterior motives when the seed is planted by his estranged lover jess (cannavale) whose sudden departure from their new york city apartment has no one in an emotional tailspin that has only now grown into a tempest in a teacup when he decides to do some investigating into donna and pete's backgrounds discovering some truths that he didn't anticipate.written by armistead maupin (who co-wrote the screenplay with his former lover terry anderson and the film's novice director stettner) and based on a true story about a fan's hoax found out has some hitchcockian moments that run on full tilt like any good old fashioned pot-boiler does. it helps that williams gives a stand-out, low-key performance as the conflicted good-hearted personality who genuinely wants to believe that his number one fan is in fact real and does love him (the one thing that has escaped his own reality) and has some unsettling dreadful moments with the creepy collette whose one physical trait i will leave unmentioned but underlines the desperation of her character that can rattle you to the core.however the film runs out of gas and eventually becomes a bit repetitive and predictable despite a finely directed piece of hoodwink and mystery by stettner, it pays to listen to your own inner voice: be careful of what you hope for.\""
      ]
     },
     "execution_count": 74,
     "metadata": {
      "tags": []
     },
     "output_type": "execute_result"
    }
   ],
   "source": [
    "#remove html\n",
    "plain_text = bs(lower_case)\n",
    "plain_text = plain_text.get_text()\n",
    "plain_text"
   ]
  },
  {
   "cell_type": "code",
   "execution_count": 75,
   "metadata": {
    "executionInfo": {
     "elapsed": 775,
     "status": "ok",
     "timestamp": 1607894144663,
     "user": {
      "displayName": "Nathan Fournillier",
      "photoUrl": "",
      "userId": "17358370230187562492"
     },
     "user_tz": -60
    },
    "id": "SoZHahzi-G9Y"
   },
   "outputs": [],
   "source": [
    "# filter for just words\n",
    "import re\n",
    "select_words = re.split(r'\\W+',plain_text)\n",
    "select_words = str(select_words)"
   ]
  },
  {
   "cell_type": "code",
   "execution_count": 76,
   "metadata": {
    "colab": {
     "base_uri": "https://localhost:8080/",
     "height": 137
    },
    "executionInfo": {
     "elapsed": 695,
     "status": "ok",
     "timestamp": 1607894149195,
     "user": {
      "displayName": "Nathan Fournillier",
      "photoUrl": "",
      "userId": "17358370230187562492"
     },
     "user_tz": -60
    },
    "id": "nAWuFe_89NqB",
    "outputId": "dc156b06-c7fc-45d2-e260-7920bb63fbde"
   },
   "outputs": [
    {
     "data": {
      "application/vnd.google.colaboratory.intrinsic+json": {
       "type": "string"
      },
      "text/plain": [
       "\"['the', 'night', 'listener', '2006', '1', '2', 'robin', 'williams', 'toni', 'collette', 'bobby', 'cannavale', 'rory', 'culkin', 'joe', 'morton', 'sandra', 'oh', 'john', 'cullum', 'lisa', 'emery', 'becky', 'ann', 'baker', 'dir', 'patrick', 'stettner', 'hitchcockian', 'suspenser', 'gives', 'williams', 'a', 'stand', 'out', 'low', 'key', 'performance', 'what', 'is', 'it', 'about', 'celebrities', 'and', 'fans', 'what', 'is', 'the', 'near', 'paranoia', 'one', 'associates', 'with', 'the', 'other', 'and', 'why', 'is', 'it', 'almost', 'the', 'norm', 'in', 'the', 'latest', 'derange', 'fan', 'scenario', 'based', 'on', 'true', 'events', 'no', 'less', 'williams', 'stars', 'as', 'a', 'talk', 'radio', 'personality', 'named', 'gabriel', 'no', 'one', 'who', 'reads', 'stories', 'he', 's', 'penned', 'over', 'the', 'airwaves', 'and', 'has', 'accumulated', 'an', 'interesting', 'fan', 'in', 'the', 'form', 'of', 'a', 'young', 'boy', 'named', 'pete', 'logand', 'culkin', 'who', 'has', 'submitted', 'a', 'manuscript', 'about', 'the', 'travails', 'of', 'his', 'troubled', 'youth', 'to', 'no', 'one', 's', 'editor', 'ashe', 'morton', 'who', 'gives', 'it', 'to', 'no', 'one', 'to', 'read', 'for', 'himself', 'no', 'one', 'is', 'naturally', 'disturbed', 'but', 'ultimately', 'intrigued', 'about', 'the', 'nightmarish', 'existence', 'of', 'pete', 'being', 'abducted', 'and', 'sexually', 'abused', 'for', 'years', 'until', 'he', 'was', 'finally', 'rescued', 'by', 'a', 'nurse', 'named', 'donna', 'collette', 'giving', 'an', 'excellent', 'performance', 'who', 'has', 'adopted', 'the', 'boy', 'but', 'her', 'correspondence', 'with', 'no', 'one', 'reveals', 'that', 'pete', 'is', 'dying', 'from', 'aids', 'naturally', 'no', 'one', 'wants', 'to', 'meet', 'the', 'fans', 'but', 'is', 'suddenly', 'in', 'doubt', 'to', 'their', 'possibly', 'devious', 'ulterior', 'motives', 'when', 'the', 'seed', 'is', 'planted', 'by', 'his', 'estranged', 'lover', 'jess', 'cannavale', 'whose', 'sudden', 'departure', 'from', 'their', 'new', 'york', 'city', 'apartment', 'has', 'no', 'one', 'in', 'an', 'emotional', 'tailspin', 'that', 'has', 'only', 'now', 'grown', 'into', 'a', 'tempest', 'in', 'a', 'teacup', 'when', 'he', 'decides', 'to', 'do', 'some', 'investigating', 'into', 'donna', 'and', 'pete', 's', 'backgrounds', 'discovering', 'some', 'truths', 'that', 'he', 'didn', 't', 'anticipate', 'written', 'by', 'armistead', 'maupin', 'who', 'co', 'wrote', 'the', 'screenplay', 'with', 'his', 'former', 'lover', 'terry', 'anderson', 'and', 'the', 'film', 's', 'novice', 'director', 'stettner', 'and', 'based', 'on', 'a', 'true', 'story', 'about', 'a', 'fan', 's', 'hoax', 'found', 'out', 'has', 'some', 'hitchcockian', 'moments', 'that', 'run', 'on', 'full', 'tilt', 'like', 'any', 'good', 'old', 'fashioned', 'pot', 'boiler', 'does', 'it', 'helps', 'that', 'williams', 'gives', 'a', 'stand', 'out', 'low', 'key', 'performance', 'as', 'the', 'conflicted', 'good', 'hearted', 'personality', 'who', 'genuinely', 'wants', 'to', 'believe', 'that', 'his', 'number', 'one', 'fan', 'is', 'in', 'fact', 'real', 'and', 'does', 'love', 'him', 'the', 'one', 'thing', 'that', 'has', 'escaped', 'his', 'own', 'reality', 'and', 'has', 'some', 'unsettling', 'dreadful', 'moments', 'with', 'the', 'creepy', 'collette', 'whose', 'one', 'physical', 'trait', 'i', 'will', 'leave', 'unmentioned', 'but', 'underlines', 'the', 'desperation', 'of', 'her', 'character', 'that', 'can', 'rattle', 'you', 'to', 'the', 'core', 'however', 'the', 'film', 'runs', 'out', 'of', 'gas', 'and', 'eventually', 'becomes', 'a', 'bit', 'repetitive', 'and', 'predictable', 'despite', 'a', 'finely', 'directed', 'piece', 'of', 'hoodwink', 'and', 'mystery', 'by', 'stettner', 'it', 'pays', 'to', 'listen', 'to', 'your', 'own', 'inner', 'voice', 'be', 'careful', 'of', 'what', 'you', 'hope', 'for', '']\""
      ]
     },
     "execution_count": 76,
     "metadata": {
      "tags": []
     },
     "output_type": "execute_result"
    }
   ],
   "source": [
    "select_words"
   ]
  },
  {
   "cell_type": "code",
   "execution_count": 77,
   "metadata": {
    "colab": {
     "base_uri": "https://localhost:8080/",
     "height": 35
    },
    "executionInfo": {
     "elapsed": 601,
     "status": "ok",
     "timestamp": 1607894160769,
     "user": {
      "displayName": "Nathan Fournillier",
      "photoUrl": "",
      "userId": "17358370230187562492"
     },
     "user_tz": -60
    },
    "id": "zxRhQde6cg-8",
    "outputId": "1a8b5695-9cbe-4f9e-bb47-4591e1981282"
   },
   "outputs": [
    {
     "data": {
      "application/vnd.google.colaboratory.intrinsic+json": {
       "type": "string"
      },
      "text/plain": [
       "'!\"#$%&\\'()*+,-./:;<=>?@[\\\\]^_`{|}~0123456789'"
      ]
     },
     "execution_count": 77,
     "metadata": {
      "tags": []
     },
     "output_type": "execute_result"
    }
   ],
   "source": [
    "# remove punctuations and digits from oldtext\n",
    "punct = string.punctuation + string.digits\n",
    "punct"
   ]
  },
  {
   "cell_type": "code",
   "execution_count": 78,
   "metadata": {
    "colab": {
     "base_uri": "https://localhost:8080/",
     "height": 137
    },
    "executionInfo": {
     "elapsed": 715,
     "status": "ok",
     "timestamp": 1607894166419,
     "user": {
      "displayName": "Nathan Fournillier",
      "photoUrl": "",
      "userId": "17358370230187562492"
     },
     "user_tz": -60
    },
    "id": "BLVvRZBcoFFX",
    "outputId": "c560cd36-5768-41f5-8015-94e2399b6a0a"
   },
   "outputs": [
    {
     "data": {
      "application/vnd.google.colaboratory.intrinsic+json": {
       "type": "string"
      },
      "text/plain": [
       "'the night listener    robin williams toni collette bobby cannavale rory culkin joe morton sandra oh john cullum lisa emery becky ann baker dir patrick stettner hitchcockian suspenser gives williams a stand out low key performance what is it about celebrities and fans what is the near paranoia one associates with the other and why is it almost the norm in the latest derange fan scenario based on true events no less williams stars as a talk radio personality named gabriel no one who reads stories he s penned over the airwaves and has accumulated an interesting fan in the form of a young boy named pete logand culkin who has submitted a manuscript about the travails of his troubled youth to no one s editor ashe morton who gives it to no one to read for himself no one is naturally disturbed but ultimately intrigued about the nightmarish existence of pete being abducted and sexually abused for years until he was finally rescued by a nurse named donna collette giving an excellent performance who has adopted the boy but her correspondence with no one reveals that pete is dying from aids naturally no one wants to meet the fans but is suddenly in doubt to their possibly devious ulterior motives when the seed is planted by his estranged lover jess cannavale whose sudden departure from their new york city apartment has no one in an emotional tailspin that has only now grown into a tempest in a teacup when he decides to do some investigating into donna and pete s backgrounds discovering some truths that he didn t anticipate written by armistead maupin who co wrote the screenplay with his former lover terry anderson and the film s novice director stettner and based on a true story about a fan s hoax found out has some hitchcockian moments that run on full tilt like any good old fashioned pot boiler does it helps that williams gives a stand out low key performance as the conflicted good hearted personality who genuinely wants to believe that his number one fan is in fact real and does love him the one thing that has escaped his own reality and has some unsettling dreadful moments with the creepy collette whose one physical trait i will leave unmentioned but underlines the desperation of her character that can rattle you to the core however the film runs out of gas and eventually becomes a bit repetitive and predictable despite a finely directed piece of hoodwink and mystery by stettner it pays to listen to your own inner voice be careful of what you hope for '"
      ]
     },
     "execution_count": 78,
     "metadata": {
      "tags": []
     },
     "output_type": "execute_result"
    }
   ],
   "source": [
    "table = str.maketrans('', '', punct)\n",
    "text_punct = str(select_words).translate(table)\n",
    "\n",
    "text_punct"
   ]
  },
  {
   "cell_type": "code",
   "execution_count": 79,
   "metadata": {
    "colab": {
     "base_uri": "https://localhost:8080/"
    },
    "executionInfo": {
     "elapsed": 1178,
     "status": "ok",
     "timestamp": 1607894206079,
     "user": {
      "displayName": "Nathan Fournillier",
      "photoUrl": "",
      "userId": "17358370230187562492"
     },
     "user_tz": -60
    },
    "id": "s5kDkc51Z2PU",
    "outputId": "6446145a-fbc2-4da4-91a4-a98e9afb1197"
   },
   "outputs": [
    {
     "data": {
      "text/plain": [
       "['the',\n",
       " 'night',\n",
       " 'listener',\n",
       " '',\n",
       " '',\n",
       " '',\n",
       " 'robin',\n",
       " 'williams',\n",
       " 'toni',\n",
       " 'collette',\n",
       " 'bobby',\n",
       " 'cannavale',\n",
       " 'rory',\n",
       " 'culkin',\n",
       " 'joe',\n",
       " 'morton',\n",
       " 'sandra',\n",
       " 'oh',\n",
       " 'john',\n",
       " 'cullum',\n",
       " 'lisa',\n",
       " 'emery',\n",
       " 'becky',\n",
       " 'ann',\n",
       " 'baker',\n",
       " 'dir',\n",
       " 'patrick',\n",
       " 'stettner',\n",
       " 'hitchcockian',\n",
       " 'suspenser',\n",
       " 'gives',\n",
       " 'williams',\n",
       " 'a',\n",
       " 'stand',\n",
       " 'out',\n",
       " 'low',\n",
       " 'key',\n",
       " 'performance',\n",
       " 'what',\n",
       " 'is',\n",
       " 'it',\n",
       " 'about',\n",
       " 'celebrities',\n",
       " 'and',\n",
       " 'fans',\n",
       " 'what',\n",
       " 'is',\n",
       " 'the',\n",
       " 'near',\n",
       " 'paranoia',\n",
       " 'one',\n",
       " 'associates',\n",
       " 'with',\n",
       " 'the',\n",
       " 'other',\n",
       " 'and',\n",
       " 'why',\n",
       " 'is',\n",
       " 'it',\n",
       " 'almost',\n",
       " 'the',\n",
       " 'norm',\n",
       " 'in',\n",
       " 'the',\n",
       " 'latest',\n",
       " 'derange',\n",
       " 'fan',\n",
       " 'scenario',\n",
       " 'based',\n",
       " 'on',\n",
       " 'true',\n",
       " 'events',\n",
       " 'no',\n",
       " 'less',\n",
       " 'williams',\n",
       " 'stars',\n",
       " 'as',\n",
       " 'a',\n",
       " 'talk',\n",
       " 'radio',\n",
       " 'personality',\n",
       " 'named',\n",
       " 'gabriel',\n",
       " 'no',\n",
       " 'one',\n",
       " 'who',\n",
       " 'reads',\n",
       " 'stories',\n",
       " 'he',\n",
       " 's',\n",
       " 'penned',\n",
       " 'over',\n",
       " 'the',\n",
       " 'airwaves',\n",
       " 'and',\n",
       " 'has',\n",
       " 'accumulated',\n",
       " 'an',\n",
       " 'interesting',\n",
       " 'fan',\n",
       " 'in',\n",
       " 'the',\n",
       " 'form',\n",
       " 'of',\n",
       " 'a',\n",
       " 'young',\n",
       " 'boy',\n",
       " 'named',\n",
       " 'pete',\n",
       " 'logand',\n",
       " 'culkin',\n",
       " 'who',\n",
       " 'has',\n",
       " 'submitted',\n",
       " 'a',\n",
       " 'manuscript',\n",
       " 'about',\n",
       " 'the',\n",
       " 'travails',\n",
       " 'of',\n",
       " 'his',\n",
       " 'troubled',\n",
       " 'youth',\n",
       " 'to',\n",
       " 'no',\n",
       " 'one',\n",
       " 's',\n",
       " 'editor',\n",
       " 'ashe',\n",
       " 'morton',\n",
       " 'who',\n",
       " 'gives',\n",
       " 'it',\n",
       " 'to',\n",
       " 'no',\n",
       " 'one',\n",
       " 'to',\n",
       " 'read',\n",
       " 'for',\n",
       " 'himself',\n",
       " 'no',\n",
       " 'one',\n",
       " 'is',\n",
       " 'naturally',\n",
       " 'disturbed',\n",
       " 'but',\n",
       " 'ultimately',\n",
       " 'intrigued',\n",
       " 'about',\n",
       " 'the',\n",
       " 'nightmarish',\n",
       " 'existence',\n",
       " 'of',\n",
       " 'pete',\n",
       " 'being',\n",
       " 'abducted',\n",
       " 'and',\n",
       " 'sexually',\n",
       " 'abused',\n",
       " 'for',\n",
       " 'years',\n",
       " 'until',\n",
       " 'he',\n",
       " 'was',\n",
       " 'finally',\n",
       " 'rescued',\n",
       " 'by',\n",
       " 'a',\n",
       " 'nurse',\n",
       " 'named',\n",
       " 'donna',\n",
       " 'collette',\n",
       " 'giving',\n",
       " 'an',\n",
       " 'excellent',\n",
       " 'performance',\n",
       " 'who',\n",
       " 'has',\n",
       " 'adopted',\n",
       " 'the',\n",
       " 'boy',\n",
       " 'but',\n",
       " 'her',\n",
       " 'correspondence',\n",
       " 'with',\n",
       " 'no',\n",
       " 'one',\n",
       " 'reveals',\n",
       " 'that',\n",
       " 'pete',\n",
       " 'is',\n",
       " 'dying',\n",
       " 'from',\n",
       " 'aids',\n",
       " 'naturally',\n",
       " 'no',\n",
       " 'one',\n",
       " 'wants',\n",
       " 'to',\n",
       " 'meet',\n",
       " 'the',\n",
       " 'fans',\n",
       " 'but',\n",
       " 'is',\n",
       " 'suddenly',\n",
       " 'in',\n",
       " 'doubt',\n",
       " 'to',\n",
       " 'their',\n",
       " 'possibly',\n",
       " 'devious',\n",
       " 'ulterior',\n",
       " 'motives',\n",
       " 'when',\n",
       " 'the',\n",
       " 'seed',\n",
       " 'is',\n",
       " 'planted',\n",
       " 'by',\n",
       " 'his',\n",
       " 'estranged',\n",
       " 'lover',\n",
       " 'jess',\n",
       " 'cannavale',\n",
       " 'whose',\n",
       " 'sudden',\n",
       " 'departure',\n",
       " 'from',\n",
       " 'their',\n",
       " 'new',\n",
       " 'york',\n",
       " 'city',\n",
       " 'apartment',\n",
       " 'has',\n",
       " 'no',\n",
       " 'one',\n",
       " 'in',\n",
       " 'an',\n",
       " 'emotional',\n",
       " 'tailspin',\n",
       " 'that',\n",
       " 'has',\n",
       " 'only',\n",
       " 'now',\n",
       " 'grown',\n",
       " 'into',\n",
       " 'a',\n",
       " 'tempest',\n",
       " 'in',\n",
       " 'a',\n",
       " 'teacup',\n",
       " 'when',\n",
       " 'he',\n",
       " 'decides',\n",
       " 'to',\n",
       " 'do',\n",
       " 'some',\n",
       " 'investigating',\n",
       " 'into',\n",
       " 'donna',\n",
       " 'and',\n",
       " 'pete',\n",
       " 's',\n",
       " 'backgrounds',\n",
       " 'discovering',\n",
       " 'some',\n",
       " 'truths',\n",
       " 'that',\n",
       " 'he',\n",
       " 'didn',\n",
       " 't',\n",
       " 'anticipate',\n",
       " 'written',\n",
       " 'by',\n",
       " 'armistead',\n",
       " 'maupin',\n",
       " 'who',\n",
       " 'co',\n",
       " 'wrote',\n",
       " 'the',\n",
       " 'screenplay',\n",
       " 'with',\n",
       " 'his',\n",
       " 'former',\n",
       " 'lover',\n",
       " 'terry',\n",
       " 'anderson',\n",
       " 'and',\n",
       " 'the',\n",
       " 'film',\n",
       " 's',\n",
       " 'novice',\n",
       " 'director',\n",
       " 'stettner',\n",
       " 'and',\n",
       " 'based',\n",
       " 'on',\n",
       " 'a',\n",
       " 'true',\n",
       " 'story',\n",
       " 'about',\n",
       " 'a',\n",
       " 'fan',\n",
       " 's',\n",
       " 'hoax',\n",
       " 'found',\n",
       " 'out',\n",
       " 'has',\n",
       " 'some',\n",
       " 'hitchcockian',\n",
       " 'moments',\n",
       " 'that',\n",
       " 'run',\n",
       " 'on',\n",
       " 'full',\n",
       " 'tilt',\n",
       " 'like',\n",
       " 'any',\n",
       " 'good',\n",
       " 'old',\n",
       " 'fashioned',\n",
       " 'pot',\n",
       " 'boiler',\n",
       " 'does',\n",
       " 'it',\n",
       " 'helps',\n",
       " 'that',\n",
       " 'williams',\n",
       " 'gives',\n",
       " 'a',\n",
       " 'stand',\n",
       " 'out',\n",
       " 'low',\n",
       " 'key',\n",
       " 'performance',\n",
       " 'as',\n",
       " 'the',\n",
       " 'conflicted',\n",
       " 'good',\n",
       " 'hearted',\n",
       " 'personality',\n",
       " 'who',\n",
       " 'genuinely',\n",
       " 'wants',\n",
       " 'to',\n",
       " 'believe',\n",
       " 'that',\n",
       " 'his',\n",
       " 'number',\n",
       " 'one',\n",
       " 'fan',\n",
       " 'is',\n",
       " 'in',\n",
       " 'fact',\n",
       " 'real',\n",
       " 'and',\n",
       " 'does',\n",
       " 'love',\n",
       " 'him',\n",
       " 'the',\n",
       " 'one',\n",
       " 'thing',\n",
       " 'that',\n",
       " 'has',\n",
       " 'escaped',\n",
       " 'his',\n",
       " 'own',\n",
       " 'reality',\n",
       " 'and',\n",
       " 'has',\n",
       " 'some',\n",
       " 'unsettling',\n",
       " 'dreadful',\n",
       " 'moments',\n",
       " 'with',\n",
       " 'the',\n",
       " 'creepy',\n",
       " 'collette',\n",
       " 'whose',\n",
       " 'one',\n",
       " 'physical',\n",
       " 'trait',\n",
       " 'i',\n",
       " 'will',\n",
       " 'leave',\n",
       " 'unmentioned',\n",
       " 'but',\n",
       " 'underlines',\n",
       " 'the',\n",
       " 'desperation',\n",
       " 'of',\n",
       " 'her',\n",
       " 'character',\n",
       " 'that',\n",
       " 'can',\n",
       " 'rattle',\n",
       " 'you',\n",
       " 'to',\n",
       " 'the',\n",
       " 'core',\n",
       " 'however',\n",
       " 'the',\n",
       " 'film',\n",
       " 'runs',\n",
       " 'out',\n",
       " 'of',\n",
       " 'gas',\n",
       " 'and',\n",
       " 'eventually',\n",
       " 'becomes',\n",
       " 'a',\n",
       " 'bit',\n",
       " 'repetitive',\n",
       " 'and',\n",
       " 'predictable',\n",
       " 'despite',\n",
       " 'a',\n",
       " 'finely',\n",
       " 'directed',\n",
       " 'piece',\n",
       " 'of',\n",
       " 'hoodwink',\n",
       " 'and',\n",
       " 'mystery',\n",
       " 'by',\n",
       " 'stettner',\n",
       " 'it',\n",
       " 'pays',\n",
       " 'to',\n",
       " 'listen',\n",
       " 'to',\n",
       " 'your',\n",
       " 'own',\n",
       " 'inner',\n",
       " 'voice',\n",
       " 'be',\n",
       " 'careful',\n",
       " 'of',\n",
       " 'what',\n",
       " 'you',\n",
       " 'hope',\n",
       " 'for',\n",
       " '']"
      ]
     },
     "execution_count": 79,
     "metadata": {
      "tags": []
     },
     "output_type": "execute_result"
    }
   ],
   "source": [
    "# tokenise text\n",
    "tokens = [word for word in text_punct.split(\" \")]\n",
    "tokens"
   ]
  },
  {
   "cell_type": "code",
   "execution_count": 80,
   "metadata": {
    "executionInfo": {
     "elapsed": 2005,
     "status": "ok",
     "timestamp": 1607894219931,
     "user": {
      "displayName": "Nathan Fournillier",
      "photoUrl": "",
      "userId": "17358370230187562492"
     },
     "user_tz": -60
    },
    "id": "Om_9l4u5HHx0"
   },
   "outputs": [],
   "source": [
    "# remove stop words\n",
    "stop = stopwords.words(\"english\")\n",
    "stop_tokens = []\n",
    "for token in tokens:\n",
    "    if token not in stop:\n",
    "      stop_tokens.append(token)\n",
    "    "
   ]
  },
  {
   "cell_type": "code",
   "execution_count": 82,
   "metadata": {
    "colab": {
     "base_uri": "https://localhost:8080/"
    },
    "executionInfo": {
     "elapsed": 1105,
     "status": "ok",
     "timestamp": 1607894238701,
     "user": {
      "displayName": "Nathan Fournillier",
      "photoUrl": "",
      "userId": "17358370230187562492"
     },
     "user_tz": -60
    },
    "id": "dBT9NuSR9uuv",
    "outputId": "24e07d08-401d-4261-d03f-a10222281fe8"
   },
   "outputs": [
    {
     "data": {
      "text/plain": [
       "['i',\n",
       " 'me',\n",
       " 'my',\n",
       " 'myself',\n",
       " 'we',\n",
       " 'our',\n",
       " 'ours',\n",
       " 'ourselves',\n",
       " 'you',\n",
       " \"you're\",\n",
       " \"you've\",\n",
       " \"you'll\",\n",
       " \"you'd\",\n",
       " 'your',\n",
       " 'yours',\n",
       " 'yourself',\n",
       " 'yourselves',\n",
       " 'he',\n",
       " 'him',\n",
       " 'his',\n",
       " 'himself',\n",
       " 'she',\n",
       " \"she's\",\n",
       " 'her',\n",
       " 'hers',\n",
       " 'herself',\n",
       " 'it',\n",
       " \"it's\",\n",
       " 'its',\n",
       " 'itself',\n",
       " 'they',\n",
       " 'them',\n",
       " 'their',\n",
       " 'theirs',\n",
       " 'themselves',\n",
       " 'what',\n",
       " 'which',\n",
       " 'who',\n",
       " 'whom',\n",
       " 'this',\n",
       " 'that',\n",
       " \"that'll\",\n",
       " 'these',\n",
       " 'those',\n",
       " 'am',\n",
       " 'is',\n",
       " 'are',\n",
       " 'was',\n",
       " 'were',\n",
       " 'be',\n",
       " 'been',\n",
       " 'being',\n",
       " 'have',\n",
       " 'has',\n",
       " 'had',\n",
       " 'having',\n",
       " 'do',\n",
       " 'does',\n",
       " 'did',\n",
       " 'doing',\n",
       " 'a',\n",
       " 'an',\n",
       " 'the',\n",
       " 'and',\n",
       " 'but',\n",
       " 'if',\n",
       " 'or',\n",
       " 'because',\n",
       " 'as',\n",
       " 'until',\n",
       " 'while',\n",
       " 'of',\n",
       " 'at',\n",
       " 'by',\n",
       " 'for',\n",
       " 'with',\n",
       " 'about',\n",
       " 'against',\n",
       " 'between',\n",
       " 'into',\n",
       " 'through',\n",
       " 'during',\n",
       " 'before',\n",
       " 'after',\n",
       " 'above',\n",
       " 'below',\n",
       " 'to',\n",
       " 'from',\n",
       " 'up',\n",
       " 'down',\n",
       " 'in',\n",
       " 'out',\n",
       " 'on',\n",
       " 'off',\n",
       " 'over',\n",
       " 'under',\n",
       " 'again',\n",
       " 'further',\n",
       " 'then',\n",
       " 'once',\n",
       " 'here',\n",
       " 'there',\n",
       " 'when',\n",
       " 'where',\n",
       " 'why',\n",
       " 'how',\n",
       " 'all',\n",
       " 'any',\n",
       " 'both',\n",
       " 'each',\n",
       " 'few',\n",
       " 'more',\n",
       " 'most',\n",
       " 'other',\n",
       " 'some',\n",
       " 'such',\n",
       " 'no',\n",
       " 'nor',\n",
       " 'not',\n",
       " 'only',\n",
       " 'own',\n",
       " 'same',\n",
       " 'so',\n",
       " 'than',\n",
       " 'too',\n",
       " 'very',\n",
       " 's',\n",
       " 't',\n",
       " 'can',\n",
       " 'will',\n",
       " 'just',\n",
       " 'don',\n",
       " \"don't\",\n",
       " 'should',\n",
       " \"should've\",\n",
       " 'now',\n",
       " 'd',\n",
       " 'll',\n",
       " 'm',\n",
       " 'o',\n",
       " 're',\n",
       " 've',\n",
       " 'y',\n",
       " 'ain',\n",
       " 'aren',\n",
       " \"aren't\",\n",
       " 'couldn',\n",
       " \"couldn't\",\n",
       " 'didn',\n",
       " \"didn't\",\n",
       " 'doesn',\n",
       " \"doesn't\",\n",
       " 'hadn',\n",
       " \"hadn't\",\n",
       " 'hasn',\n",
       " \"hasn't\",\n",
       " 'haven',\n",
       " \"haven't\",\n",
       " 'isn',\n",
       " \"isn't\",\n",
       " 'ma',\n",
       " 'mightn',\n",
       " \"mightn't\",\n",
       " 'mustn',\n",
       " \"mustn't\",\n",
       " 'needn',\n",
       " \"needn't\",\n",
       " 'shan',\n",
       " \"shan't\",\n",
       " 'shouldn',\n",
       " \"shouldn't\",\n",
       " 'wasn',\n",
       " \"wasn't\",\n",
       " 'weren',\n",
       " \"weren't\",\n",
       " 'won',\n",
       " \"won't\",\n",
       " 'wouldn',\n",
       " \"wouldn't\"]"
      ]
     },
     "execution_count": 82,
     "metadata": {
      "tags": []
     },
     "output_type": "execute_result"
    }
   ],
   "source": [
    "stop"
   ]
  },
  {
   "cell_type": "code",
   "execution_count": 81,
   "metadata": {
    "colab": {
     "base_uri": "https://localhost:8080/"
    },
    "executionInfo": {
     "elapsed": 1239,
     "status": "ok",
     "timestamp": 1607894223597,
     "user": {
      "displayName": "Nathan Fournillier",
      "photoUrl": "",
      "userId": "17358370230187562492"
     },
     "user_tz": -60
    },
    "id": "8pu5inu3Mcbs",
    "outputId": "123c438d-9321-4f84-db59-d3d37a8f090a"
   },
   "outputs": [
    {
     "data": {
      "text/plain": [
       "['night',\n",
       " 'listener',\n",
       " '',\n",
       " '',\n",
       " '',\n",
       " 'robin',\n",
       " 'williams',\n",
       " 'toni',\n",
       " 'collette',\n",
       " 'bobby',\n",
       " 'cannavale',\n",
       " 'rory',\n",
       " 'culkin',\n",
       " 'joe',\n",
       " 'morton',\n",
       " 'sandra',\n",
       " 'oh',\n",
       " 'john',\n",
       " 'cullum',\n",
       " 'lisa',\n",
       " 'emery',\n",
       " 'becky',\n",
       " 'ann',\n",
       " 'baker',\n",
       " 'dir',\n",
       " 'patrick',\n",
       " 'stettner',\n",
       " 'hitchcockian',\n",
       " 'suspenser',\n",
       " 'gives',\n",
       " 'williams',\n",
       " 'stand',\n",
       " 'low',\n",
       " 'key',\n",
       " 'performance',\n",
       " 'celebrities',\n",
       " 'fans',\n",
       " 'near',\n",
       " 'paranoia',\n",
       " 'one',\n",
       " 'associates',\n",
       " 'almost',\n",
       " 'norm',\n",
       " 'latest',\n",
       " 'derange',\n",
       " 'fan',\n",
       " 'scenario',\n",
       " 'based',\n",
       " 'true',\n",
       " 'events',\n",
       " 'less',\n",
       " 'williams',\n",
       " 'stars',\n",
       " 'talk',\n",
       " 'radio',\n",
       " 'personality',\n",
       " 'named',\n",
       " 'gabriel',\n",
       " 'one',\n",
       " 'reads',\n",
       " 'stories',\n",
       " 'penned',\n",
       " 'airwaves',\n",
       " 'accumulated',\n",
       " 'interesting',\n",
       " 'fan',\n",
       " 'form',\n",
       " 'young',\n",
       " 'boy',\n",
       " 'named',\n",
       " 'pete',\n",
       " 'logand',\n",
       " 'culkin',\n",
       " 'submitted',\n",
       " 'manuscript',\n",
       " 'travails',\n",
       " 'troubled',\n",
       " 'youth',\n",
       " 'one',\n",
       " 'editor',\n",
       " 'ashe',\n",
       " 'morton',\n",
       " 'gives',\n",
       " 'one',\n",
       " 'read',\n",
       " 'one',\n",
       " 'naturally',\n",
       " 'disturbed',\n",
       " 'ultimately',\n",
       " 'intrigued',\n",
       " 'nightmarish',\n",
       " 'existence',\n",
       " 'pete',\n",
       " 'abducted',\n",
       " 'sexually',\n",
       " 'abused',\n",
       " 'years',\n",
       " 'finally',\n",
       " 'rescued',\n",
       " 'nurse',\n",
       " 'named',\n",
       " 'donna',\n",
       " 'collette',\n",
       " 'giving',\n",
       " 'excellent',\n",
       " 'performance',\n",
       " 'adopted',\n",
       " 'boy',\n",
       " 'correspondence',\n",
       " 'one',\n",
       " 'reveals',\n",
       " 'pete',\n",
       " 'dying',\n",
       " 'aids',\n",
       " 'naturally',\n",
       " 'one',\n",
       " 'wants',\n",
       " 'meet',\n",
       " 'fans',\n",
       " 'suddenly',\n",
       " 'doubt',\n",
       " 'possibly',\n",
       " 'devious',\n",
       " 'ulterior',\n",
       " 'motives',\n",
       " 'seed',\n",
       " 'planted',\n",
       " 'estranged',\n",
       " 'lover',\n",
       " 'jess',\n",
       " 'cannavale',\n",
       " 'whose',\n",
       " 'sudden',\n",
       " 'departure',\n",
       " 'new',\n",
       " 'york',\n",
       " 'city',\n",
       " 'apartment',\n",
       " 'one',\n",
       " 'emotional',\n",
       " 'tailspin',\n",
       " 'grown',\n",
       " 'tempest',\n",
       " 'teacup',\n",
       " 'decides',\n",
       " 'investigating',\n",
       " 'donna',\n",
       " 'pete',\n",
       " 'backgrounds',\n",
       " 'discovering',\n",
       " 'truths',\n",
       " 'anticipate',\n",
       " 'written',\n",
       " 'armistead',\n",
       " 'maupin',\n",
       " 'co',\n",
       " 'wrote',\n",
       " 'screenplay',\n",
       " 'former',\n",
       " 'lover',\n",
       " 'terry',\n",
       " 'anderson',\n",
       " 'film',\n",
       " 'novice',\n",
       " 'director',\n",
       " 'stettner',\n",
       " 'based',\n",
       " 'true',\n",
       " 'story',\n",
       " 'fan',\n",
       " 'hoax',\n",
       " 'found',\n",
       " 'hitchcockian',\n",
       " 'moments',\n",
       " 'run',\n",
       " 'full',\n",
       " 'tilt',\n",
       " 'like',\n",
       " 'good',\n",
       " 'old',\n",
       " 'fashioned',\n",
       " 'pot',\n",
       " 'boiler',\n",
       " 'helps',\n",
       " 'williams',\n",
       " 'gives',\n",
       " 'stand',\n",
       " 'low',\n",
       " 'key',\n",
       " 'performance',\n",
       " 'conflicted',\n",
       " 'good',\n",
       " 'hearted',\n",
       " 'personality',\n",
       " 'genuinely',\n",
       " 'wants',\n",
       " 'believe',\n",
       " 'number',\n",
       " 'one',\n",
       " 'fan',\n",
       " 'fact',\n",
       " 'real',\n",
       " 'love',\n",
       " 'one',\n",
       " 'thing',\n",
       " 'escaped',\n",
       " 'reality',\n",
       " 'unsettling',\n",
       " 'dreadful',\n",
       " 'moments',\n",
       " 'creepy',\n",
       " 'collette',\n",
       " 'whose',\n",
       " 'one',\n",
       " 'physical',\n",
       " 'trait',\n",
       " 'leave',\n",
       " 'unmentioned',\n",
       " 'underlines',\n",
       " 'desperation',\n",
       " 'character',\n",
       " 'rattle',\n",
       " 'core',\n",
       " 'however',\n",
       " 'film',\n",
       " 'runs',\n",
       " 'gas',\n",
       " 'eventually',\n",
       " 'becomes',\n",
       " 'bit',\n",
       " 'repetitive',\n",
       " 'predictable',\n",
       " 'despite',\n",
       " 'finely',\n",
       " 'directed',\n",
       " 'piece',\n",
       " 'hoodwink',\n",
       " 'mystery',\n",
       " 'stettner',\n",
       " 'pays',\n",
       " 'listen',\n",
       " 'inner',\n",
       " 'voice',\n",
       " 'careful',\n",
       " 'hope',\n",
       " '']"
      ]
     },
     "execution_count": 81,
     "metadata": {
      "tags": []
     },
     "output_type": "execute_result"
    }
   ],
   "source": [
    "stop_tokens"
   ]
  },
  {
   "cell_type": "code",
   "execution_count": 83,
   "metadata": {
    "colab": {
     "base_uri": "https://localhost:8080/"
    },
    "executionInfo": {
     "elapsed": 809,
     "status": "ok",
     "timestamp": 1607894257687,
     "user": {
      "displayName": "Nathan Fournillier",
      "photoUrl": "",
      "userId": "17358370230187562492"
     },
     "user_tz": -60
    },
    "id": "Ve1d9U7nHWNq",
    "outputId": "9c90c222-4181-41fa-a4cf-ca7e1c4ae5b0"
   },
   "outputs": [
    {
     "data": {
      "text/plain": [
       "['night',\n",
       " 'listener',\n",
       " 'robin',\n",
       " 'williams',\n",
       " 'toni',\n",
       " 'collette',\n",
       " 'bobby',\n",
       " 'cannavale',\n",
       " 'rory',\n",
       " 'culkin',\n",
       " 'joe',\n",
       " 'morton',\n",
       " 'sandra',\n",
       " 'oh',\n",
       " 'john',\n",
       " 'cullum',\n",
       " 'lisa',\n",
       " 'emery',\n",
       " 'becky',\n",
       " 'ann',\n",
       " 'baker',\n",
       " 'dir',\n",
       " 'patrick',\n",
       " 'stettner',\n",
       " 'hitchcockian',\n",
       " 'suspenser',\n",
       " 'gives',\n",
       " 'williams',\n",
       " 'stand',\n",
       " 'low',\n",
       " 'key',\n",
       " 'performance',\n",
       " 'celebrities',\n",
       " 'fans',\n",
       " 'near',\n",
       " 'paranoia',\n",
       " 'one',\n",
       " 'associates',\n",
       " 'almost',\n",
       " 'norm',\n",
       " 'latest',\n",
       " 'derange',\n",
       " 'fan',\n",
       " 'scenario',\n",
       " 'based',\n",
       " 'true',\n",
       " 'events',\n",
       " 'less',\n",
       " 'williams',\n",
       " 'stars',\n",
       " 'talk',\n",
       " 'radio',\n",
       " 'personality',\n",
       " 'named',\n",
       " 'gabriel',\n",
       " 'one',\n",
       " 'reads',\n",
       " 'stories',\n",
       " 'penned',\n",
       " 'airwaves',\n",
       " 'accumulated',\n",
       " 'interesting',\n",
       " 'fan',\n",
       " 'form',\n",
       " 'young',\n",
       " 'boy',\n",
       " 'named',\n",
       " 'pete',\n",
       " 'logand',\n",
       " 'culkin',\n",
       " 'submitted',\n",
       " 'manuscript',\n",
       " 'travails',\n",
       " 'troubled',\n",
       " 'youth',\n",
       " 'one',\n",
       " 'editor',\n",
       " 'ashe',\n",
       " 'morton',\n",
       " 'gives',\n",
       " 'one',\n",
       " 'read',\n",
       " 'one',\n",
       " 'naturally',\n",
       " 'disturbed',\n",
       " 'ultimately',\n",
       " 'intrigued',\n",
       " 'nightmarish',\n",
       " 'existence',\n",
       " 'pete',\n",
       " 'abducted',\n",
       " 'sexually',\n",
       " 'abused',\n",
       " 'years',\n",
       " 'finally',\n",
       " 'rescued',\n",
       " 'nurse',\n",
       " 'named',\n",
       " 'donna',\n",
       " 'collette',\n",
       " 'giving',\n",
       " 'excellent',\n",
       " 'performance',\n",
       " 'adopted',\n",
       " 'boy',\n",
       " 'correspondence',\n",
       " 'one',\n",
       " 'reveals',\n",
       " 'pete',\n",
       " 'dying',\n",
       " 'aids',\n",
       " 'naturally',\n",
       " 'one',\n",
       " 'wants',\n",
       " 'meet',\n",
       " 'fans',\n",
       " 'suddenly',\n",
       " 'doubt',\n",
       " 'possibly',\n",
       " 'devious',\n",
       " 'ulterior',\n",
       " 'motives',\n",
       " 'seed',\n",
       " 'planted',\n",
       " 'estranged',\n",
       " 'lover',\n",
       " 'jess',\n",
       " 'cannavale',\n",
       " 'whose',\n",
       " 'sudden',\n",
       " 'departure',\n",
       " 'new',\n",
       " 'york',\n",
       " 'city',\n",
       " 'apartment',\n",
       " 'one',\n",
       " 'emotional',\n",
       " 'tailspin',\n",
       " 'grown',\n",
       " 'tempest',\n",
       " 'teacup',\n",
       " 'decides',\n",
       " 'investigating',\n",
       " 'donna',\n",
       " 'pete',\n",
       " 'backgrounds',\n",
       " 'discovering',\n",
       " 'truths',\n",
       " 'anticipate',\n",
       " 'written',\n",
       " 'armistead',\n",
       " 'maupin',\n",
       " 'co',\n",
       " 'wrote',\n",
       " 'screenplay',\n",
       " 'former',\n",
       " 'lover',\n",
       " 'terry',\n",
       " 'anderson',\n",
       " 'film',\n",
       " 'novice',\n",
       " 'director',\n",
       " 'stettner',\n",
       " 'based',\n",
       " 'true',\n",
       " 'story',\n",
       " 'fan',\n",
       " 'hoax',\n",
       " 'found',\n",
       " 'hitchcockian',\n",
       " 'moments',\n",
       " 'run',\n",
       " 'full',\n",
       " 'tilt',\n",
       " 'like',\n",
       " 'good',\n",
       " 'old',\n",
       " 'fashioned',\n",
       " 'pot',\n",
       " 'boiler',\n",
       " 'helps',\n",
       " 'williams',\n",
       " 'gives',\n",
       " 'stand',\n",
       " 'low',\n",
       " 'key',\n",
       " 'performance',\n",
       " 'conflicted',\n",
       " 'good',\n",
       " 'hearted',\n",
       " 'personality',\n",
       " 'genuinely',\n",
       " 'wants',\n",
       " 'believe',\n",
       " 'number',\n",
       " 'one',\n",
       " 'fan',\n",
       " 'fact',\n",
       " 'real',\n",
       " 'love',\n",
       " 'one',\n",
       " 'thing',\n",
       " 'escaped',\n",
       " 'reality',\n",
       " 'unsettling',\n",
       " 'dreadful',\n",
       " 'moments',\n",
       " 'creepy',\n",
       " 'collette',\n",
       " 'whose',\n",
       " 'one',\n",
       " 'physical',\n",
       " 'trait',\n",
       " 'leave',\n",
       " 'unmentioned',\n",
       " 'underlines',\n",
       " 'desperation',\n",
       " 'character',\n",
       " 'rattle',\n",
       " 'core',\n",
       " 'however',\n",
       " 'film',\n",
       " 'runs',\n",
       " 'gas',\n",
       " 'eventually',\n",
       " 'becomes',\n",
       " 'bit',\n",
       " 'repetitive',\n",
       " 'predictable',\n",
       " 'despite',\n",
       " 'finely',\n",
       " 'directed',\n",
       " 'piece',\n",
       " 'hoodwink',\n",
       " 'mystery',\n",
       " 'stettner',\n",
       " 'pays',\n",
       " 'listen',\n",
       " 'inner',\n",
       " 'voice',\n",
       " 'careful',\n",
       " 'hope']"
      ]
     },
     "execution_count": 83,
     "metadata": {
      "tags": []
     },
     "output_type": "execute_result"
    }
   ],
   "source": [
    "# remove empty tokens\n",
    "stop_tokens = [token for token in stop_tokens if len(token) > 0]\n",
    "stop_tokens"
   ]
  },
  {
   "cell_type": "code",
   "execution_count": 84,
   "metadata": {
    "colab": {
     "base_uri": "https://localhost:8080/"
    },
    "executionInfo": {
     "elapsed": 664,
     "status": "ok",
     "timestamp": 1607894261973,
     "user": {
      "displayName": "Nathan Fournillier",
      "photoUrl": "",
      "userId": "17358370230187562492"
     },
     "user_tz": -60
    },
    "id": "oqbKNTHQeroI",
    "outputId": "0405eb6c-8b35-427f-f658-2fead682fca6"
   },
   "outputs": [
    {
     "name": "stdout",
     "output_type": "stream",
     "text": [
      "[nltk_data] Downloading package averaged_perceptron_tagger to\n",
      "[nltk_data]     /root/nltk_data...\n",
      "[nltk_data]   Package averaged_perceptron_tagger is already up-to-\n",
      "[nltk_data]       date!\n"
     ]
    },
    {
     "data": {
      "text/plain": [
       "True"
      ]
     },
     "execution_count": 84,
     "metadata": {
      "tags": []
     },
     "output_type": "execute_result"
    }
   ],
   "source": [
    "# pos tag text\n",
    "nltk.download('averaged_perceptron_tagger')"
   ]
  },
  {
   "cell_type": "code",
   "execution_count": 85,
   "metadata": {
    "colab": {
     "base_uri": "https://localhost:8080/"
    },
    "executionInfo": {
     "elapsed": 1073,
     "status": "ok",
     "timestamp": 1607894265322,
     "user": {
      "displayName": "Nathan Fournillier",
      "photoUrl": "",
      "userId": "17358370230187562492"
     },
     "user_tz": -60
    },
    "id": "JGV2oGuhxYJh",
    "outputId": "189eb463-b889-4a69-9e63-57c44195db4b"
   },
   "outputs": [
    {
     "data": {
      "text/plain": [
       "[('night', 'NN'),\n",
       " ('listener', 'NN'),\n",
       " ('robin', 'NN'),\n",
       " ('williams', 'VBZ'),\n",
       " ('toni', 'JJ'),\n",
       " ('collette', 'NN'),\n",
       " ('bobby', 'NN'),\n",
       " ('cannavale', 'NN'),\n",
       " ('rory', 'NN'),\n",
       " ('culkin', 'NN'),\n",
       " ('joe', 'NN'),\n",
       " ('morton', 'NN'),\n",
       " ('sandra', 'NN'),\n",
       " ('oh', 'UH'),\n",
       " ('john', 'NN'),\n",
       " ('cullum', 'NN'),\n",
       " ('lisa', 'JJ'),\n",
       " ('emery', 'NN'),\n",
       " ('becky', 'NN'),\n",
       " ('ann', 'NN'),\n",
       " ('baker', 'NN'),\n",
       " ('dir', 'NN'),\n",
       " ('patrick', 'NN'),\n",
       " ('stettner', 'NN'),\n",
       " ('hitchcockian', 'JJ'),\n",
       " ('suspenser', 'NN'),\n",
       " ('gives', 'VBZ'),\n",
       " ('williams', 'NNS'),\n",
       " ('stand', 'VBP'),\n",
       " ('low', 'JJ'),\n",
       " ('key', 'JJ'),\n",
       " ('performance', 'NN'),\n",
       " ('celebrities', 'NNS'),\n",
       " ('fans', 'NNS'),\n",
       " ('near', 'IN'),\n",
       " ('paranoia', 'JJ'),\n",
       " ('one', 'CD'),\n",
       " ('associates', 'VBZ'),\n",
       " ('almost', 'RB'),\n",
       " ('norm', 'JJ'),\n",
       " ('latest', 'JJS'),\n",
       " ('derange', 'NN'),\n",
       " ('fan', 'NN'),\n",
       " ('scenario', 'NN'),\n",
       " ('based', 'VBN'),\n",
       " ('true', 'JJ'),\n",
       " ('events', 'NNS'),\n",
       " ('less', 'RBR'),\n",
       " ('williams', 'JJ'),\n",
       " ('stars', 'NNS'),\n",
       " ('talk', 'VBP'),\n",
       " ('radio', 'NN'),\n",
       " ('personality', 'NN'),\n",
       " ('named', 'VBN'),\n",
       " ('gabriel', 'VBP'),\n",
       " ('one', 'CD'),\n",
       " ('reads', 'NN'),\n",
       " ('stories', 'NNS'),\n",
       " ('penned', 'VBD'),\n",
       " ('airwaves', 'NNS'),\n",
       " ('accumulated', 'VBD'),\n",
       " ('interesting', 'JJ'),\n",
       " ('fan', 'NN'),\n",
       " ('form', 'NN'),\n",
       " ('young', 'JJ'),\n",
       " ('boy', 'NN'),\n",
       " ('named', 'VBD'),\n",
       " ('pete', 'JJ'),\n",
       " ('logand', 'NN'),\n",
       " ('culkin', 'NN'),\n",
       " ('submitted', 'VBN'),\n",
       " ('manuscript', 'NN'),\n",
       " ('travails', 'NNS'),\n",
       " ('troubled', 'VBD'),\n",
       " ('youth', 'RB'),\n",
       " ('one', 'CD'),\n",
       " ('editor', 'NN'),\n",
       " ('ashe', 'IN'),\n",
       " ('morton', 'NN'),\n",
       " ('gives', 'VBZ'),\n",
       " ('one', 'CD'),\n",
       " ('read', 'NN'),\n",
       " ('one', 'CD'),\n",
       " ('naturally', 'RB'),\n",
       " ('disturbed', 'VBN'),\n",
       " ('ultimately', 'RB'),\n",
       " ('intrigued', 'JJ'),\n",
       " ('nightmarish', 'JJ'),\n",
       " ('existence', 'NN'),\n",
       " ('pete', 'NN'),\n",
       " ('abducted', 'VBD'),\n",
       " ('sexually', 'RB'),\n",
       " ('abused', 'JJ'),\n",
       " ('years', 'NNS'),\n",
       " ('finally', 'RB'),\n",
       " ('rescued', 'VBD'),\n",
       " ('nurse', 'NN'),\n",
       " ('named', 'VBN'),\n",
       " ('donna', 'NN'),\n",
       " ('collette', 'NN'),\n",
       " ('giving', 'VBG'),\n",
       " ('excellent', 'JJ'),\n",
       " ('performance', 'NN'),\n",
       " ('adopted', 'VBD'),\n",
       " ('boy', 'JJ'),\n",
       " ('correspondence', 'NN'),\n",
       " ('one', 'CD'),\n",
       " ('reveals', 'VBZ'),\n",
       " ('pete', 'JJ'),\n",
       " ('dying', 'VBG'),\n",
       " ('aids', 'NNS'),\n",
       " ('naturally', 'RB'),\n",
       " ('one', 'CD'),\n",
       " ('wants', 'VBZ'),\n",
       " ('meet', 'NN'),\n",
       " ('fans', 'NNS'),\n",
       " ('suddenly', 'RB'),\n",
       " ('doubt', 'VBP'),\n",
       " ('possibly', 'RB'),\n",
       " ('devious', 'JJ'),\n",
       " ('ulterior', 'JJ'),\n",
       " ('motives', 'NNS'),\n",
       " ('seed', 'NN'),\n",
       " ('planted', 'VBD'),\n",
       " ('estranged', 'VBD'),\n",
       " ('lover', 'RB'),\n",
       " ('jess', 'JJ'),\n",
       " ('cannavale', 'NN'),\n",
       " ('whose', 'WP$'),\n",
       " ('sudden', 'JJ'),\n",
       " ('departure', 'NN'),\n",
       " ('new', 'JJ'),\n",
       " ('york', 'NN'),\n",
       " ('city', 'NN'),\n",
       " ('apartment', 'NN'),\n",
       " ('one', 'CD'),\n",
       " ('emotional', 'JJ'),\n",
       " ('tailspin', 'NN'),\n",
       " ('grown', 'VBN'),\n",
       " ('tempest', 'JJS'),\n",
       " ('teacup', 'NN'),\n",
       " ('decides', 'NNS'),\n",
       " ('investigating', 'VBG'),\n",
       " ('donna', 'NN'),\n",
       " ('pete', 'JJ'),\n",
       " ('backgrounds', 'VBZ'),\n",
       " ('discovering', 'VBG'),\n",
       " ('truths', 'JJ'),\n",
       " ('anticipate', 'NN'),\n",
       " ('written', 'VBN'),\n",
       " ('armistead', 'JJ'),\n",
       " ('maupin', 'NNS'),\n",
       " ('co', 'VBP'),\n",
       " ('wrote', 'VBD'),\n",
       " ('screenplay', 'NN'),\n",
       " ('former', 'JJ'),\n",
       " ('lover', 'NN'),\n",
       " ('terry', 'NN'),\n",
       " ('anderson', 'NN'),\n",
       " ('film', 'NN'),\n",
       " ('novice', 'JJ'),\n",
       " ('director', 'NN'),\n",
       " ('stettner', 'NN'),\n",
       " ('based', 'VBN'),\n",
       " ('true', 'JJ'),\n",
       " ('story', 'NN'),\n",
       " ('fan', 'NN'),\n",
       " ('hoax', 'NN'),\n",
       " ('found', 'VBD'),\n",
       " ('hitchcockian', 'JJ'),\n",
       " ('moments', 'NNS'),\n",
       " ('run', 'VBP'),\n",
       " ('full', 'JJ'),\n",
       " ('tilt', 'NN'),\n",
       " ('like', 'IN'),\n",
       " ('good', 'JJ'),\n",
       " ('old', 'JJ'),\n",
       " ('fashioned', 'VBN'),\n",
       " ('pot', 'NN'),\n",
       " ('boiler', 'NN'),\n",
       " ('helps', 'VBZ'),\n",
       " ('williams', 'JJ'),\n",
       " ('gives', 'VBZ'),\n",
       " ('stand', 'VBP'),\n",
       " ('low', 'JJ'),\n",
       " ('key', 'JJ'),\n",
       " ('performance', 'NN'),\n",
       " ('conflicted', 'VBD'),\n",
       " ('good', 'JJ'),\n",
       " ('hearted', 'VBN'),\n",
       " ('personality', 'NN'),\n",
       " ('genuinely', 'RB'),\n",
       " ('wants', 'VBZ'),\n",
       " ('believe', 'VBP'),\n",
       " ('number', 'NN'),\n",
       " ('one', 'CD'),\n",
       " ('fan', 'NN'),\n",
       " ('fact', 'NN'),\n",
       " ('real', 'JJ'),\n",
       " ('love', 'VB'),\n",
       " ('one', 'CD'),\n",
       " ('thing', 'NN'),\n",
       " ('escaped', 'VBD'),\n",
       " ('reality', 'NN'),\n",
       " ('unsettling', 'VBG'),\n",
       " ('dreadful', 'JJ'),\n",
       " ('moments', 'NNS'),\n",
       " ('creepy', 'JJ'),\n",
       " ('collette', 'NN'),\n",
       " ('whose', 'WP$'),\n",
       " ('one', 'CD'),\n",
       " ('physical', 'JJ'),\n",
       " ('trait', 'NN'),\n",
       " ('leave', 'VBP'),\n",
       " ('unmentioned', 'VBN'),\n",
       " ('underlines', 'JJ'),\n",
       " ('desperation', 'NN'),\n",
       " ('character', 'NN'),\n",
       " ('rattle', 'NN'),\n",
       " ('core', 'NN'),\n",
       " ('however', 'RB'),\n",
       " ('film', 'NN'),\n",
       " ('runs', 'VBZ'),\n",
       " ('gas', 'NN'),\n",
       " ('eventually', 'RB'),\n",
       " ('becomes', 'VBZ'),\n",
       " ('bit', 'RB'),\n",
       " ('repetitive', 'JJ'),\n",
       " ('predictable', 'JJ'),\n",
       " ('despite', 'IN'),\n",
       " ('finely', 'RB'),\n",
       " ('directed', 'VBN'),\n",
       " ('piece', 'NN'),\n",
       " ('hoodwink', 'NN'),\n",
       " ('mystery', 'NN'),\n",
       " ('stettner', 'NN'),\n",
       " ('pays', 'NNS'),\n",
       " ('listen', 'VBP'),\n",
       " ('inner', 'JJ'),\n",
       " ('voice', 'NN'),\n",
       " ('careful', 'NNS'),\n",
       " ('hope', 'VBP')]"
      ]
     },
     "execution_count": 85,
     "metadata": {
      "tags": []
     },
     "output_type": "execute_result"
    }
   ],
   "source": [
    "pos_tags = pos_tag(stop_tokens)\n",
    "pos_tags"
   ]
  },
  {
   "cell_type": "code",
   "execution_count": 104,
   "metadata": {
    "executionInfo": {
     "elapsed": 614,
     "status": "ok",
     "timestamp": 1607895104302,
     "user": {
      "displayName": "Nathan Fournillier",
      "photoUrl": "",
      "userId": "17358370230187562492"
     },
     "user_tz": -60
    },
    "id": "0Z2__GOT2TKw"
   },
   "outputs": [],
   "source": [
    "# return the wordnet object value corresponding to the POS tag\n",
    "from nltk.corpus import wordnet\n",
    "\n",
    "def get_wordnet_pos(pos_tag):\n",
    "    if pos_tag.startswith('J'):\n",
    "        return wordnet.ADJ\n",
    "    elif pos_tag.startswith('V'):\n",
    "        return wordnet.VERB\n",
    "    elif pos_tag.startswith('N'):\n",
    "        return wordnet.NOUN\n",
    "    elif pos_tag.startswith('R'):\n",
    "        return wordnet.ADV\n",
    "    else:\n",
    "        return wordnet.NOUN"
   ]
  },
  {
   "cell_type": "code",
   "execution_count": 118,
   "metadata": {
    "colab": {
     "base_uri": "https://localhost:8080/",
     "height": 35
    },
    "executionInfo": {
     "elapsed": 961,
     "status": "ok",
     "timestamp": 1607895402138,
     "user": {
      "displayName": "Nathan Fournillier",
      "photoUrl": "",
      "userId": "17358370230187562492"
     },
     "user_tz": -60
    },
    "id": "EnVBvoZU_07d",
    "outputId": "f31f98b1-5049-4435-fa61-6e5707acfbd5"
   },
   "outputs": [
    {
     "data": {
      "application/vnd.google.colaboratory.intrinsic+json": {
       "type": "string"
      },
      "text/plain": [
       "'n'"
      ]
     },
     "execution_count": 118,
     "metadata": {
      "tags": []
     },
     "output_type": "execute_result"
    }
   ],
   "source": [
    "get_wordnet_pos(token[1])"
   ]
  },
  {
   "cell_type": "code",
   "execution_count": 87,
   "metadata": {
    "colab": {
     "base_uri": "https://localhost:8080/",
     "height": 35
    },
    "executionInfo": {
     "elapsed": 793,
     "status": "ok",
     "timestamp": 1607894283402,
     "user": {
      "displayName": "Nathan Fournillier",
      "photoUrl": "",
      "userId": "17358370230187562492"
     },
     "user_tz": -60
    },
    "id": "q8ircwuFAV60",
    "outputId": "ecd7d121-70e4-4234-8c05-983e6f90d6e0"
   },
   "outputs": [
    {
     "data": {
      "application/vnd.google.colaboratory.intrinsic+json": {
       "type": "string"
      },
      "text/plain": [
       "'actor'"
      ]
     },
     "execution_count": 87,
     "metadata": {
      "tags": []
     },
     "output_type": "execute_result"
    }
   ],
   "source": [
    "wnl = WordNetLemmatizer()\n",
    "wnl.lemmatize('actors')"
   ]
  },
  {
   "cell_type": "code",
   "execution_count": 88,
   "metadata": {
    "executionInfo": {
     "elapsed": 893,
     "status": "ok",
     "timestamp": 1607894286135,
     "user": {
      "displayName": "Nathan Fournillier",
      "photoUrl": "",
      "userId": "17358370230187562492"
     },
     "user_tz": -60
    },
    "id": "Oc-Ij1Tv2gb6"
   },
   "outputs": [],
   "source": [
    "# lemmatize text\n",
    "lem_text = []\n",
    "for token in pos_tags:\n",
    "   lem_text.append(wnl.lemmatize(token[0], get_wordnet_pos(token[1])))\n",
    "    "
   ]
  },
  {
   "cell_type": "code",
   "execution_count": 89,
   "metadata": {
    "colab": {
     "base_uri": "https://localhost:8080/"
    },
    "executionInfo": {
     "elapsed": 657,
     "status": "ok",
     "timestamp": 1607894288471,
     "user": {
      "displayName": "Nathan Fournillier",
      "photoUrl": "",
      "userId": "17358370230187562492"
     },
     "user_tz": -60
    },
    "id": "m-M70uUj2weF",
    "outputId": "46fbfbe6-cf84-4a2c-a720-a7f8f86dcda6"
   },
   "outputs": [
    {
     "data": {
      "text/plain": [
       "['night',\n",
       " 'listener',\n",
       " 'robin',\n",
       " 'williams',\n",
       " 'toni',\n",
       " 'collette',\n",
       " 'bobby',\n",
       " 'cannavale',\n",
       " 'rory',\n",
       " 'culkin',\n",
       " 'joe',\n",
       " 'morton',\n",
       " 'sandra',\n",
       " 'oh',\n",
       " 'john',\n",
       " 'cullum',\n",
       " 'lisa',\n",
       " 'emery',\n",
       " 'becky',\n",
       " 'ann',\n",
       " 'baker',\n",
       " 'dir',\n",
       " 'patrick',\n",
       " 'stettner',\n",
       " 'hitchcockian',\n",
       " 'suspenser',\n",
       " 'give',\n",
       " 'williams',\n",
       " 'stand',\n",
       " 'low',\n",
       " 'key',\n",
       " 'performance',\n",
       " 'celebrity',\n",
       " 'fan',\n",
       " 'near',\n",
       " 'paranoia',\n",
       " 'one',\n",
       " 'associate',\n",
       " 'almost',\n",
       " 'norm',\n",
       " 'late',\n",
       " 'derange',\n",
       " 'fan',\n",
       " 'scenario',\n",
       " 'base',\n",
       " 'true',\n",
       " 'event',\n",
       " 'less',\n",
       " 'williams',\n",
       " 'star',\n",
       " 'talk',\n",
       " 'radio',\n",
       " 'personality',\n",
       " 'name',\n",
       " 'gabriel',\n",
       " 'one',\n",
       " 'read',\n",
       " 'story',\n",
       " 'pen',\n",
       " 'airwave',\n",
       " 'accumulate',\n",
       " 'interesting',\n",
       " 'fan',\n",
       " 'form',\n",
       " 'young',\n",
       " 'boy',\n",
       " 'name',\n",
       " 'pete',\n",
       " 'logand',\n",
       " 'culkin',\n",
       " 'submit',\n",
       " 'manuscript',\n",
       " 'travail',\n",
       " 'trouble',\n",
       " 'youth',\n",
       " 'one',\n",
       " 'editor',\n",
       " 'ashe',\n",
       " 'morton',\n",
       " 'give',\n",
       " 'one',\n",
       " 'read',\n",
       " 'one',\n",
       " 'naturally',\n",
       " 'disturb',\n",
       " 'ultimately',\n",
       " 'intrigued',\n",
       " 'nightmarish',\n",
       " 'existence',\n",
       " 'pete',\n",
       " 'abduct',\n",
       " 'sexually',\n",
       " 'abused',\n",
       " 'year',\n",
       " 'finally',\n",
       " 'rescue',\n",
       " 'nurse',\n",
       " 'name',\n",
       " 'donna',\n",
       " 'collette',\n",
       " 'give',\n",
       " 'excellent',\n",
       " 'performance',\n",
       " 'adopt',\n",
       " 'boy',\n",
       " 'correspondence',\n",
       " 'one',\n",
       " 'reveal',\n",
       " 'pete',\n",
       " 'die',\n",
       " 'aid',\n",
       " 'naturally',\n",
       " 'one',\n",
       " 'want',\n",
       " 'meet',\n",
       " 'fan',\n",
       " 'suddenly',\n",
       " 'doubt',\n",
       " 'possibly',\n",
       " 'devious',\n",
       " 'ulterior',\n",
       " 'motif',\n",
       " 'seed',\n",
       " 'plant',\n",
       " 'estrange',\n",
       " 'lover',\n",
       " 'jess',\n",
       " 'cannavale',\n",
       " 'whose',\n",
       " 'sudden',\n",
       " 'departure',\n",
       " 'new',\n",
       " 'york',\n",
       " 'city',\n",
       " 'apartment',\n",
       " 'one',\n",
       " 'emotional',\n",
       " 'tailspin',\n",
       " 'grow',\n",
       " 'tempest',\n",
       " 'teacup',\n",
       " 'decides',\n",
       " 'investigate',\n",
       " 'donna',\n",
       " 'pete',\n",
       " 'background',\n",
       " 'discover',\n",
       " 'truths',\n",
       " 'anticipate',\n",
       " 'write',\n",
       " 'armistead',\n",
       " 'maupin',\n",
       " 'co',\n",
       " 'write',\n",
       " 'screenplay',\n",
       " 'former',\n",
       " 'lover',\n",
       " 'terry',\n",
       " 'anderson',\n",
       " 'film',\n",
       " 'novice',\n",
       " 'director',\n",
       " 'stettner',\n",
       " 'base',\n",
       " 'true',\n",
       " 'story',\n",
       " 'fan',\n",
       " 'hoax',\n",
       " 'find',\n",
       " 'hitchcockian',\n",
       " 'moment',\n",
       " 'run',\n",
       " 'full',\n",
       " 'tilt',\n",
       " 'like',\n",
       " 'good',\n",
       " 'old',\n",
       " 'fashion',\n",
       " 'pot',\n",
       " 'boiler',\n",
       " 'help',\n",
       " 'williams',\n",
       " 'give',\n",
       " 'stand',\n",
       " 'low',\n",
       " 'key',\n",
       " 'performance',\n",
       " 'conflict',\n",
       " 'good',\n",
       " 'hearted',\n",
       " 'personality',\n",
       " 'genuinely',\n",
       " 'want',\n",
       " 'believe',\n",
       " 'number',\n",
       " 'one',\n",
       " 'fan',\n",
       " 'fact',\n",
       " 'real',\n",
       " 'love',\n",
       " 'one',\n",
       " 'thing',\n",
       " 'escape',\n",
       " 'reality',\n",
       " 'unsettle',\n",
       " 'dreadful',\n",
       " 'moment',\n",
       " 'creepy',\n",
       " 'collette',\n",
       " 'whose',\n",
       " 'one',\n",
       " 'physical',\n",
       " 'trait',\n",
       " 'leave',\n",
       " 'unmentioned',\n",
       " 'underlines',\n",
       " 'desperation',\n",
       " 'character',\n",
       " 'rattle',\n",
       " 'core',\n",
       " 'however',\n",
       " 'film',\n",
       " 'run',\n",
       " 'gas',\n",
       " 'eventually',\n",
       " 'become',\n",
       " 'bit',\n",
       " 'repetitive',\n",
       " 'predictable',\n",
       " 'despite',\n",
       " 'finely',\n",
       " 'direct',\n",
       " 'piece',\n",
       " 'hoodwink',\n",
       " 'mystery',\n",
       " 'stettner',\n",
       " 'pay',\n",
       " 'listen',\n",
       " 'inner',\n",
       " 'voice',\n",
       " 'careful',\n",
       " 'hope']"
      ]
     },
     "execution_count": 89,
     "metadata": {
      "tags": []
     },
     "output_type": "execute_result"
    }
   ],
   "source": [
    "lem_text"
   ]
  },
  {
   "cell_type": "code",
   "execution_count": 90,
   "metadata": {
    "colab": {
     "base_uri": "https://localhost:8080/"
    },
    "executionInfo": {
     "elapsed": 793,
     "status": "ok",
     "timestamp": 1607894294169,
     "user": {
      "displayName": "Nathan Fournillier",
      "photoUrl": "",
      "userId": "17358370230187562492"
     },
     "user_tz": -60
    },
    "id": "k10IY_y2UbGD",
    "outputId": "00735417-4f66-47ba-eeb6-604ec274576f"
   },
   "outputs": [
    {
     "name": "stdout",
     "output_type": "stream",
     "text": [
      "token: night, lemma: night\n",
      "token: listener, lemma: listener\n",
      "token: robin, lemma: robin\n",
      "token: williams, lemma: williams\n",
      "token: toni, lemma: toni\n",
      "token: collette, lemma: collette\n",
      "token: bobby, lemma: bobby\n",
      "token: cannavale, lemma: cannavale\n",
      "token: rory, lemma: rory\n",
      "token: culkin, lemma: culkin\n",
      "token: joe, lemma: joe\n",
      "token: morton, lemma: morton\n",
      "token: sandra, lemma: sandra\n",
      "token: oh, lemma: oh\n",
      "token: john, lemma: john\n",
      "token: cullum, lemma: cullum\n",
      "token: lisa, lemma: lisa\n",
      "token: emery, lemma: emery\n",
      "token: becky, lemma: becky\n",
      "token: ann, lemma: ann\n",
      "token: baker, lemma: baker\n",
      "token: dir, lemma: dir\n",
      "token: patrick, lemma: patrick\n",
      "token: stettner, lemma: stettner\n",
      "token: hitchcockian, lemma: hitchcockian\n",
      "token: suspenser, lemma: suspenser\n",
      "token: gives, lemma: give\n",
      "token: williams, lemma: williams\n",
      "token: stand, lemma: stand\n",
      "token: low, lemma: low\n",
      "token: key, lemma: key\n",
      "token: performance, lemma: performance\n",
      "token: celebrities, lemma: celebrity\n",
      "token: fans, lemma: fan\n",
      "token: near, lemma: near\n",
      "token: paranoia, lemma: paranoia\n",
      "token: one, lemma: one\n",
      "token: associates, lemma: associate\n",
      "token: almost, lemma: almost\n",
      "token: norm, lemma: norm\n",
      "token: latest, lemma: latest\n",
      "token: derange, lemma: derange\n",
      "token: fan, lemma: fan\n",
      "token: scenario, lemma: scenario\n",
      "token: based, lemma: based\n",
      "token: true, lemma: true\n",
      "token: events, lemma: event\n",
      "token: less, lemma: le\n",
      "token: williams, lemma: williams\n",
      "token: stars, lemma: star\n",
      "token: talk, lemma: talk\n",
      "token: radio, lemma: radio\n",
      "token: personality, lemma: personality\n",
      "token: named, lemma: named\n",
      "token: gabriel, lemma: gabriel\n",
      "token: one, lemma: one\n",
      "token: reads, lemma: read\n",
      "token: stories, lemma: story\n",
      "token: penned, lemma: penned\n",
      "token: airwaves, lemma: airwave\n",
      "token: accumulated, lemma: accumulated\n",
      "token: interesting, lemma: interesting\n",
      "token: fan, lemma: fan\n",
      "token: form, lemma: form\n",
      "token: young, lemma: young\n",
      "token: boy, lemma: boy\n",
      "token: named, lemma: named\n",
      "token: pete, lemma: pete\n",
      "token: logand, lemma: logand\n",
      "token: culkin, lemma: culkin\n",
      "token: submitted, lemma: submitted\n",
      "token: manuscript, lemma: manuscript\n",
      "token: travails, lemma: travail\n",
      "token: troubled, lemma: troubled\n",
      "token: youth, lemma: youth\n",
      "token: one, lemma: one\n",
      "token: editor, lemma: editor\n",
      "token: ashe, lemma: ashe\n",
      "token: morton, lemma: morton\n",
      "token: gives, lemma: give\n",
      "token: one, lemma: one\n",
      "token: read, lemma: read\n",
      "token: one, lemma: one\n",
      "token: naturally, lemma: naturally\n",
      "token: disturbed, lemma: disturbed\n",
      "token: ultimately, lemma: ultimately\n",
      "token: intrigued, lemma: intrigued\n",
      "token: nightmarish, lemma: nightmarish\n",
      "token: existence, lemma: existence\n",
      "token: pete, lemma: pete\n",
      "token: abducted, lemma: abducted\n",
      "token: sexually, lemma: sexually\n",
      "token: abused, lemma: abused\n",
      "token: years, lemma: year\n",
      "token: finally, lemma: finally\n",
      "token: rescued, lemma: rescued\n",
      "token: nurse, lemma: nurse\n",
      "token: named, lemma: named\n",
      "token: donna, lemma: donna\n",
      "token: collette, lemma: collette\n",
      "token: giving, lemma: giving\n",
      "token: excellent, lemma: excellent\n",
      "token: performance, lemma: performance\n",
      "token: adopted, lemma: adopted\n",
      "token: boy, lemma: boy\n",
      "token: correspondence, lemma: correspondence\n",
      "token: one, lemma: one\n",
      "token: reveals, lemma: reveals\n",
      "token: pete, lemma: pete\n",
      "token: dying, lemma: dying\n",
      "token: aids, lemma: aid\n",
      "token: naturally, lemma: naturally\n",
      "token: one, lemma: one\n",
      "token: wants, lemma: want\n",
      "token: meet, lemma: meet\n",
      "token: fans, lemma: fan\n",
      "token: suddenly, lemma: suddenly\n",
      "token: doubt, lemma: doubt\n",
      "token: possibly, lemma: possibly\n",
      "token: devious, lemma: devious\n",
      "token: ulterior, lemma: ulterior\n",
      "token: motives, lemma: motif\n",
      "token: seed, lemma: seed\n",
      "token: planted, lemma: planted\n",
      "token: estranged, lemma: estranged\n",
      "token: lover, lemma: lover\n",
      "token: jess, lemma: jess\n",
      "token: cannavale, lemma: cannavale\n",
      "token: whose, lemma: whose\n",
      "token: sudden, lemma: sudden\n",
      "token: departure, lemma: departure\n",
      "token: new, lemma: new\n",
      "token: york, lemma: york\n",
      "token: city, lemma: city\n",
      "token: apartment, lemma: apartment\n",
      "token: one, lemma: one\n",
      "token: emotional, lemma: emotional\n",
      "token: tailspin, lemma: tailspin\n",
      "token: grown, lemma: grown\n",
      "token: tempest, lemma: tempest\n",
      "token: teacup, lemma: teacup\n",
      "token: decides, lemma: decides\n",
      "token: investigating, lemma: investigating\n",
      "token: donna, lemma: donna\n",
      "token: pete, lemma: pete\n",
      "token: backgrounds, lemma: background\n",
      "token: discovering, lemma: discovering\n",
      "token: truths, lemma: truth\n",
      "token: anticipate, lemma: anticipate\n",
      "token: written, lemma: written\n",
      "token: armistead, lemma: armistead\n",
      "token: maupin, lemma: maupin\n",
      "token: co, lemma: co\n",
      "token: wrote, lemma: wrote\n",
      "token: screenplay, lemma: screenplay\n",
      "token: former, lemma: former\n",
      "token: lover, lemma: lover\n",
      "token: terry, lemma: terry\n",
      "token: anderson, lemma: anderson\n",
      "token: film, lemma: film\n",
      "token: novice, lemma: novice\n",
      "token: director, lemma: director\n",
      "token: stettner, lemma: stettner\n",
      "token: based, lemma: based\n",
      "token: true, lemma: true\n",
      "token: story, lemma: story\n",
      "token: fan, lemma: fan\n",
      "token: hoax, lemma: hoax\n",
      "token: found, lemma: found\n",
      "token: hitchcockian, lemma: hitchcockian\n",
      "token: moments, lemma: moment\n",
      "token: run, lemma: run\n",
      "token: full, lemma: full\n",
      "token: tilt, lemma: tilt\n",
      "token: like, lemma: like\n",
      "token: good, lemma: good\n",
      "token: old, lemma: old\n",
      "token: fashioned, lemma: fashioned\n",
      "token: pot, lemma: pot\n",
      "token: boiler, lemma: boiler\n",
      "token: helps, lemma: help\n",
      "token: williams, lemma: williams\n",
      "token: gives, lemma: give\n",
      "token: stand, lemma: stand\n",
      "token: low, lemma: low\n",
      "token: key, lemma: key\n",
      "token: performance, lemma: performance\n",
      "token: conflicted, lemma: conflicted\n",
      "token: good, lemma: good\n",
      "token: hearted, lemma: hearted\n",
      "token: personality, lemma: personality\n",
      "token: genuinely, lemma: genuinely\n",
      "token: wants, lemma: want\n",
      "token: believe, lemma: believe\n",
      "token: number, lemma: number\n",
      "token: one, lemma: one\n",
      "token: fan, lemma: fan\n",
      "token: fact, lemma: fact\n",
      "token: real, lemma: real\n",
      "token: love, lemma: love\n",
      "token: one, lemma: one\n",
      "token: thing, lemma: thing\n",
      "token: escaped, lemma: escaped\n",
      "token: reality, lemma: reality\n",
      "token: unsettling, lemma: unsettling\n",
      "token: dreadful, lemma: dreadful\n",
      "token: moments, lemma: moment\n",
      "token: creepy, lemma: creepy\n",
      "token: collette, lemma: collette\n",
      "token: whose, lemma: whose\n",
      "token: one, lemma: one\n",
      "token: physical, lemma: physical\n",
      "token: trait, lemma: trait\n",
      "token: leave, lemma: leave\n",
      "token: unmentioned, lemma: unmentioned\n",
      "token: underlines, lemma: underline\n",
      "token: desperation, lemma: desperation\n",
      "token: character, lemma: character\n",
      "token: rattle, lemma: rattle\n",
      "token: core, lemma: core\n",
      "token: however, lemma: however\n",
      "token: film, lemma: film\n",
      "token: runs, lemma: run\n",
      "token: gas, lemma: gas\n",
      "token: eventually, lemma: eventually\n",
      "token: becomes, lemma: becomes\n",
      "token: bit, lemma: bit\n",
      "token: repetitive, lemma: repetitive\n",
      "token: predictable, lemma: predictable\n",
      "token: despite, lemma: despite\n",
      "token: finely, lemma: finely\n",
      "token: directed, lemma: directed\n",
      "token: piece, lemma: piece\n",
      "token: hoodwink, lemma: hoodwink\n",
      "token: mystery, lemma: mystery\n",
      "token: stettner, lemma: stettner\n",
      "token: pays, lemma: pay\n",
      "token: listen, lemma: listen\n",
      "token: inner, lemma: inner\n",
      "token: voice, lemma: voice\n",
      "token: careful, lemma: careful\n",
      "token: hope, lemma: hope\n"
     ]
    }
   ],
   "source": [
    "for token in stop_tokens:\n",
    "  print(f\"token: {token}, lemma: {wnl.lemmatize(token)}\") \n"
   ]
  },
  {
   "cell_type": "code",
   "execution_count": 91,
   "metadata": {
    "executionInfo": {
     "elapsed": 748,
     "status": "ok",
     "timestamp": 1607894307237,
     "user": {
      "displayName": "Nathan Fournillier",
      "photoUrl": "",
      "userId": "17358370230187562492"
     },
     "user_tz": -60
    },
    "id": "Eh8MR-7I2wYP"
   },
   "outputs": [],
   "source": [
    " # remove words with only one letter\n",
    "meaningful_words = []\n",
    "for token in lem_text:\n",
    "    if len(token) > 1:\n",
    "      meaningful_words.append(token)"
   ]
  },
  {
   "cell_type": "code",
   "execution_count": 92,
   "metadata": {
    "colab": {
     "base_uri": "https://localhost:8080/"
    },
    "executionInfo": {
     "elapsed": 700,
     "status": "ok",
     "timestamp": 1607894309728,
     "user": {
      "displayName": "Nathan Fournillier",
      "photoUrl": "",
      "userId": "17358370230187562492"
     },
     "user_tz": -60
    },
    "id": "IM1PMzh52wUQ",
    "outputId": "cf0a13f8-22b5-4761-9165-868a2fb1d88b"
   },
   "outputs": [
    {
     "data": {
      "text/plain": [
       "['night',\n",
       " 'listener',\n",
       " 'robin',\n",
       " 'williams',\n",
       " 'toni',\n",
       " 'collette',\n",
       " 'bobby',\n",
       " 'cannavale',\n",
       " 'rory',\n",
       " 'culkin',\n",
       " 'joe',\n",
       " 'morton',\n",
       " 'sandra',\n",
       " 'oh',\n",
       " 'john',\n",
       " 'cullum',\n",
       " 'lisa',\n",
       " 'emery',\n",
       " 'becky',\n",
       " 'ann',\n",
       " 'baker',\n",
       " 'dir',\n",
       " 'patrick',\n",
       " 'stettner',\n",
       " 'hitchcockian',\n",
       " 'suspenser',\n",
       " 'give',\n",
       " 'williams',\n",
       " 'stand',\n",
       " 'low',\n",
       " 'key',\n",
       " 'performance',\n",
       " 'celebrity',\n",
       " 'fan',\n",
       " 'near',\n",
       " 'paranoia',\n",
       " 'one',\n",
       " 'associate',\n",
       " 'almost',\n",
       " 'norm',\n",
       " 'late',\n",
       " 'derange',\n",
       " 'fan',\n",
       " 'scenario',\n",
       " 'base',\n",
       " 'true',\n",
       " 'event',\n",
       " 'less',\n",
       " 'williams',\n",
       " 'star',\n",
       " 'talk',\n",
       " 'radio',\n",
       " 'personality',\n",
       " 'name',\n",
       " 'gabriel',\n",
       " 'one',\n",
       " 'read',\n",
       " 'story',\n",
       " 'pen',\n",
       " 'airwave',\n",
       " 'accumulate',\n",
       " 'interesting',\n",
       " 'fan',\n",
       " 'form',\n",
       " 'young',\n",
       " 'boy',\n",
       " 'name',\n",
       " 'pete',\n",
       " 'logand',\n",
       " 'culkin',\n",
       " 'submit',\n",
       " 'manuscript',\n",
       " 'travail',\n",
       " 'trouble',\n",
       " 'youth',\n",
       " 'one',\n",
       " 'editor',\n",
       " 'ashe',\n",
       " 'morton',\n",
       " 'give',\n",
       " 'one',\n",
       " 'read',\n",
       " 'one',\n",
       " 'naturally',\n",
       " 'disturb',\n",
       " 'ultimately',\n",
       " 'intrigued',\n",
       " 'nightmarish',\n",
       " 'existence',\n",
       " 'pete',\n",
       " 'abduct',\n",
       " 'sexually',\n",
       " 'abused',\n",
       " 'year',\n",
       " 'finally',\n",
       " 'rescue',\n",
       " 'nurse',\n",
       " 'name',\n",
       " 'donna',\n",
       " 'collette',\n",
       " 'give',\n",
       " 'excellent',\n",
       " 'performance',\n",
       " 'adopt',\n",
       " 'boy',\n",
       " 'correspondence',\n",
       " 'one',\n",
       " 'reveal',\n",
       " 'pete',\n",
       " 'die',\n",
       " 'aid',\n",
       " 'naturally',\n",
       " 'one',\n",
       " 'want',\n",
       " 'meet',\n",
       " 'fan',\n",
       " 'suddenly',\n",
       " 'doubt',\n",
       " 'possibly',\n",
       " 'devious',\n",
       " 'ulterior',\n",
       " 'motif',\n",
       " 'seed',\n",
       " 'plant',\n",
       " 'estrange',\n",
       " 'lover',\n",
       " 'jess',\n",
       " 'cannavale',\n",
       " 'whose',\n",
       " 'sudden',\n",
       " 'departure',\n",
       " 'new',\n",
       " 'york',\n",
       " 'city',\n",
       " 'apartment',\n",
       " 'one',\n",
       " 'emotional',\n",
       " 'tailspin',\n",
       " 'grow',\n",
       " 'tempest',\n",
       " 'teacup',\n",
       " 'decides',\n",
       " 'investigate',\n",
       " 'donna',\n",
       " 'pete',\n",
       " 'background',\n",
       " 'discover',\n",
       " 'truths',\n",
       " 'anticipate',\n",
       " 'write',\n",
       " 'armistead',\n",
       " 'maupin',\n",
       " 'co',\n",
       " 'write',\n",
       " 'screenplay',\n",
       " 'former',\n",
       " 'lover',\n",
       " 'terry',\n",
       " 'anderson',\n",
       " 'film',\n",
       " 'novice',\n",
       " 'director',\n",
       " 'stettner',\n",
       " 'base',\n",
       " 'true',\n",
       " 'story',\n",
       " 'fan',\n",
       " 'hoax',\n",
       " 'find',\n",
       " 'hitchcockian',\n",
       " 'moment',\n",
       " 'run',\n",
       " 'full',\n",
       " 'tilt',\n",
       " 'like',\n",
       " 'good',\n",
       " 'old',\n",
       " 'fashion',\n",
       " 'pot',\n",
       " 'boiler',\n",
       " 'help',\n",
       " 'williams',\n",
       " 'give',\n",
       " 'stand',\n",
       " 'low',\n",
       " 'key',\n",
       " 'performance',\n",
       " 'conflict',\n",
       " 'good',\n",
       " 'hearted',\n",
       " 'personality',\n",
       " 'genuinely',\n",
       " 'want',\n",
       " 'believe',\n",
       " 'number',\n",
       " 'one',\n",
       " 'fan',\n",
       " 'fact',\n",
       " 'real',\n",
       " 'love',\n",
       " 'one',\n",
       " 'thing',\n",
       " 'escape',\n",
       " 'reality',\n",
       " 'unsettle',\n",
       " 'dreadful',\n",
       " 'moment',\n",
       " 'creepy',\n",
       " 'collette',\n",
       " 'whose',\n",
       " 'one',\n",
       " 'physical',\n",
       " 'trait',\n",
       " 'leave',\n",
       " 'unmentioned',\n",
       " 'underlines',\n",
       " 'desperation',\n",
       " 'character',\n",
       " 'rattle',\n",
       " 'core',\n",
       " 'however',\n",
       " 'film',\n",
       " 'run',\n",
       " 'gas',\n",
       " 'eventually',\n",
       " 'become',\n",
       " 'bit',\n",
       " 'repetitive',\n",
       " 'predictable',\n",
       " 'despite',\n",
       " 'finely',\n",
       " 'direct',\n",
       " 'piece',\n",
       " 'hoodwink',\n",
       " 'mystery',\n",
       " 'stettner',\n",
       " 'pay',\n",
       " 'listen',\n",
       " 'inner',\n",
       " 'voice',\n",
       " 'careful',\n",
       " 'hope']"
      ]
     },
     "execution_count": 92,
     "metadata": {
      "tags": []
     },
     "output_type": "execute_result"
    }
   ],
   "source": [
    "meaningful_words"
   ]
  },
  {
   "cell_type": "markdown",
   "metadata": {
    "id": "8tLeeFKAvWS8"
   },
   "source": [
    "**To be able to replicate this for all reviews I have defined a function below:**"
   ]
  },
  {
   "cell_type": "code",
   "execution_count": 93,
   "metadata": {
    "executionInfo": {
     "elapsed": 719,
     "status": "ok",
     "timestamp": 1607894353752,
     "user": {
      "displayName": "Nathan Fournillier",
      "photoUrl": "",
      "userId": "17358370230187562492"
     },
     "user_tz": -60
    },
    "id": "Z8kpByCV3X1p"
   },
   "outputs": [],
   "source": [
    "# return the wordnet object value corresponding to the POS tag\n",
    "from nltk.corpus import wordnet\n",
    "\n",
    "def get_wordnet_pos(pos_tag):\n",
    "\n",
    "    '''\n",
    "    Function to return the corresponding wordnet object value of the \n",
    "    'Part Of Speach tag' i.e \"thing : NN\" corresponds to Noun in wordnet.\n",
    "    Input: string (pos tag)\n",
    "    Output: string (a wordnet object)\n",
    "    '''\n",
    "\n",
    "    if pos_tag.startswith('J'):\n",
    "        return wordnet.ADJ\n",
    "    elif pos_tag.startswith('V'):\n",
    "        return wordnet.VERB\n",
    "    elif pos_tag.startswith('N'):\n",
    "        return wordnet.NOUN\n",
    "    elif pos_tag.startswith('R'):\n",
    "        return wordnet.ADV\n",
    "    else:\n",
    "        return wordnet.NOUN\n",
    "    \n",
    "import string\n",
    "import re\n",
    "from nltk import pos_tag\n",
    "from nltk.corpus import stopwords\n",
    "from nltk.tokenize import WhitespaceTokenizer\n",
    "from nltk.stem import WordNetLemmatizer\n",
    "\n",
    "def review_cleaner(text):\n",
    "\n",
    "    '''\n",
    "    Function to convert a review to a tokenised string of words.\n",
    "    Input: string (a raw movie review)\n",
    "    Output: string (a preprocessed movie review)\n",
    "    '''\n",
    "\n",
    "    # lower text\n",
    "    text = text.lower()\n",
    "    # split by just words\n",
    "    text = re.split(r'\\W+',text)\n",
    "    text = \" \".join(text)\n",
    "    # tokenize text and remove puncutation\n",
    "    text = [word.strip(string.punctuation) for word in text.split(\" \")]\n",
    "    # remove words that contain numbers\n",
    "    text = [word for word in text if not any(c.isdigit() for c in word)]\n",
    "    # remove stop words\n",
    "    stop = stopwords.words('english')\n",
    "    text = [x for x in text if x not in stop]\n",
    "    # remove empty tokens\n",
    "    text = [t for t in text if len(t) > 0]\n",
    "    # pos tag text\n",
    "    pos_tags = pos_tag(text)\n",
    "    # lemmatize text\n",
    "    text = [WordNetLemmatizer().lemmatize(t[0], get_wordnet_pos(t[1])) for t in pos_tags]\n",
    "    # remove words with only one letter\n",
    "    text = [t for t in text if len(t) > 1]\n",
    "    # join all\n",
    "    text = \" \".join(text)\n",
    "    return(text)\n",
    "\n"
   ]
  },
  {
   "cell_type": "code",
   "execution_count": 94,
   "metadata": {
    "colab": {
     "base_uri": "https://localhost:8080/",
     "height": 137
    },
    "executionInfo": {
     "elapsed": 627,
     "status": "ok",
     "timestamp": 1607894361948,
     "user": {
      "displayName": "Nathan Fournillier",
      "photoUrl": "",
      "userId": "17358370230187562492"
     },
     "user_tz": -60
    },
    "id": "cB1N1S3je_oa",
    "outputId": "9a8201a1-f7f5-48dd-938f-72a8850377c0"
   },
   "outputs": [
    {
     "data": {
      "application/vnd.google.colaboratory.intrinsic+json": {
       "type": "string"
      },
      "text/plain": [
       "\"THE NIGHT LISTENER (2006) **1/2 Robin Williams, Toni Collette, Bobby Cannavale, Rory Culkin, Joe Morton, Sandra Oh, John Cullum, Lisa Emery, Becky Ann Baker. (Dir: Patrick Stettner) <br /><br />Hitchcockian suspenser gives Williams a stand-out low-key performance.<br /><br />What is it about celebrities and fans? What is the near paranoia one associates with the other and why is it almost the norm? <br /><br />In the latest derange fan scenario, based on true events no less, Williams stars as a talk-radio personality named Gabriel No one, who reads stories he's penned over the airwaves and has accumulated an interesting fan in the form of a young boy named Pete Logand (Culkin) who has submitted a manuscript about the travails of his troubled youth to No one's editor Ashe (Morton) who gives it to No one to read for himself. <br /><br />No one is naturally disturbed but ultimately intrigued about the nightmarish existence of Pete being abducted and sexually abused for years until he was finally rescued by a nurse named Donna (Collette giving an excellent performance) who has adopted the boy but her correspondence with No one reveals that Pete is dying from AIDS. Naturally No one wants to meet the fans but is suddenly in doubt to their possibly devious ulterior motives when the seed is planted by his estranged lover Jess (Cannavale) whose sudden departure from their New York City apartment has No one in an emotional tailspin that has only now grown into a tempest in a teacup when he decides to do some investigating into Donna and Pete's backgrounds discovering some truths that he didn't anticipate.<br /><br />Written by Armistead Maupin (who co-wrote the screenplay with his former lover Terry Anderson and the film's novice director Stettner) and based on a true story about a fan's hoax found out has some Hitchcockian moments that run on full tilt like any good old fashioned pot-boiler does. It helps that Williams gives a stand-out, low-key performance as the conflicted good-hearted personality who genuinely wants to believe that his number one fan is in fact real and does love him (the one thing that has escaped his own reality) and has some unsettling dreadful moments with the creepy Collette whose one physical trait I will leave unmentioned but underlines the desperation of her character that can rattle you to the core.<br /><br />However the film runs out of gas and eventually becomes a bit repetitive and predictable despite a finely directed piece of hoodwink and mystery by Stettner, it pays to listen to your own inner voice: be careful of what you hope for.\""
      ]
     },
     "execution_count": 94,
     "metadata": {
      "tags": []
     },
     "output_type": "execute_result"
    }
   ],
   "source": [
    "example_text_1 = df['reviews'][8]\n",
    "example_text_1 "
   ]
  },
  {
   "cell_type": "code",
   "execution_count": 95,
   "metadata": {
    "colab": {
     "base_uri": "https://localhost:8080/",
     "height": 205
    },
    "executionInfo": {
     "elapsed": 778,
     "status": "ok",
     "timestamp": 1607894366853,
     "user": {
      "displayName": "Nathan Fournillier",
      "photoUrl": "",
      "userId": "17358370230187562492"
     },
     "user_tz": -60
    },
    "id": "J9Ujtqlke04I",
    "outputId": "07e2d62a-03d5-4e81-c3dd-48eafc53e4ff"
   },
   "outputs": [
    {
     "data": {
      "application/vnd.google.colaboratory.intrinsic+json": {
       "type": "string"
      },
      "text/plain": [
       "'night listener robin williams toni collette bobby cannavale rory culkin joe morton sandra oh john cullum lisa emery becky ann baker dir patrick stettner br br hitchcockian suspenser give williams stand low key performance br br celebrity fan near paranoia one associate almost norm br br late derange fan scenario base true event less williams star talk radio personality name gabriel one read story pen airwave accumulate interesting fan form young boy name pete logand culkin submit manuscript travail trouble youth one editor ashe morton give one read br br one naturally disturb ultimately intrigued nightmarish existence pete abduct sexually abused year finally rescue nurse name donna collette give excellent performance adopt boy correspondence one reveal pete die aid naturally one want meet fan suddenly doubt possibly devious ulterior motif seed plant estrange lover jess cannavale whose sudden departure new york city apartment one emotional tailspin grow tempest teacup decides investigate donna pete background discover truth anticipate br br write armistead maupin co write screenplay former lover terry anderson film novice director stettner base true story fan hoax find hitchcockian moment run full tilt like good old fashion pot boiler help williams give stand low key performance conflict good hearted personality genuinely want believe number one fan fact real love one thing escape reality unsettle dreadful moment creepy collette whose one physical trait leave unmentioned underlines desperation character rattle core br br however film run gas eventually become bit repetitive predictable despite finely direct piece hoodwink mystery stettner pay listen inner voice careful hope'"
      ]
     },
     "execution_count": 95,
     "metadata": {
      "tags": []
     },
     "output_type": "execute_result"
    }
   ],
   "source": [
    "review_cleaner(example_text_1)"
   ]
  },
  {
   "cell_type": "code",
   "execution_count": 96,
   "metadata": {
    "colab": {
     "base_uri": "https://localhost:8080/",
     "height": 419
    },
    "executionInfo": {
     "elapsed": 793,
     "status": "ok",
     "timestamp": 1607894378597,
     "user": {
      "displayName": "Nathan Fournillier",
      "photoUrl": "",
      "userId": "17358370230187562492"
     },
     "user_tz": -60
    },
    "id": "nkNn0xwKJh0c",
    "outputId": "cc418f58-0cb9-4f51-b8ba-57e3fa0497b1"
   },
   "outputs": [
    {
     "data": {
      "text/html": [
       "<div>\n",
       "<style scoped>\n",
       "    .dataframe tbody tr th:only-of-type {\n",
       "        vertical-align: middle;\n",
       "    }\n",
       "\n",
       "    .dataframe tbody tr th {\n",
       "        vertical-align: top;\n",
       "    }\n",
       "\n",
       "    .dataframe thead th {\n",
       "        text-align: right;\n",
       "    }\n",
       "</style>\n",
       "<table border=\"1\" class=\"dataframe\">\n",
       "  <thead>\n",
       "    <tr style=\"text-align: right;\">\n",
       "      <th></th>\n",
       "      <th>reviews</th>\n",
       "      <th>sentiment</th>\n",
       "      <th>review_clean</th>\n",
       "    </tr>\n",
       "  </thead>\n",
       "  <tbody>\n",
       "    <tr>\n",
       "      <th>0</th>\n",
       "      <td>Bromwell High is a cartoon comedy. It ran at t...</td>\n",
       "      <td>1</td>\n",
       "      <td>bromwell high cartoon comedy run time program ...</td>\n",
       "    </tr>\n",
       "    <tr>\n",
       "      <th>1</th>\n",
       "      <td>Homelessness (or Houselessness as George Carli...</td>\n",
       "      <td>1</td>\n",
       "      <td>homelessness houselessness george carlin state...</td>\n",
       "    </tr>\n",
       "    <tr>\n",
       "      <th>2</th>\n",
       "      <td>Brilliant over-acting by Lesley Ann Warren. Be...</td>\n",
       "      <td>1</td>\n",
       "      <td>brilliant act lesley ann warren best dramatic ...</td>\n",
       "    </tr>\n",
       "    <tr>\n",
       "      <th>3</th>\n",
       "      <td>This is easily the most underrated film inn th...</td>\n",
       "      <td>1</td>\n",
       "      <td>easily underrated film inn brook cannon sure f...</td>\n",
       "    </tr>\n",
       "    <tr>\n",
       "      <th>4</th>\n",
       "      <td>This is not the typical Mel Brooks film. It wa...</td>\n",
       "      <td>1</td>\n",
       "      <td>typical mel brook film much less slapstick mov...</td>\n",
       "    </tr>\n",
       "    <tr>\n",
       "      <th>...</th>\n",
       "      <td>...</td>\n",
       "      <td>...</td>\n",
       "      <td>...</td>\n",
       "    </tr>\n",
       "    <tr>\n",
       "      <th>49995</th>\n",
       "      <td>I occasionally let my kids watch this garbage ...</td>\n",
       "      <td>0</td>\n",
       "      <td>occasionally let kid watch garbage understand ...</td>\n",
       "    </tr>\n",
       "    <tr>\n",
       "      <th>49996</th>\n",
       "      <td>When all we have anymore is pretty much realit...</td>\n",
       "      <td>0</td>\n",
       "      <td>anymore pretty much reality tv show people mak...</td>\n",
       "    </tr>\n",
       "    <tr>\n",
       "      <th>49997</th>\n",
       "      <td>The basic genre is a thriller intercut with an...</td>\n",
       "      <td>0</td>\n",
       "      <td>basic genre thriller intercut uncomfortable me...</td>\n",
       "    </tr>\n",
       "    <tr>\n",
       "      <th>49998</th>\n",
       "      <td>Four things intrigued me as to this film - fir...</td>\n",
       "      <td>0</td>\n",
       "      <td>four thing intrigue film firstly star carly po...</td>\n",
       "    </tr>\n",
       "    <tr>\n",
       "      <th>49999</th>\n",
       "      <td>David Bryce's comments nearby are exceptionall...</td>\n",
       "      <td>0</td>\n",
       "      <td>david bryce comment nearby exceptionally well ...</td>\n",
       "    </tr>\n",
       "  </tbody>\n",
       "</table>\n",
       "<p>50000 rows × 3 columns</p>\n",
       "</div>"
      ],
      "text/plain": [
       "                                                 reviews  ...                                       review_clean\n",
       "0      Bromwell High is a cartoon comedy. It ran at t...  ...  bromwell high cartoon comedy run time program ...\n",
       "1      Homelessness (or Houselessness as George Carli...  ...  homelessness houselessness george carlin state...\n",
       "2      Brilliant over-acting by Lesley Ann Warren. Be...  ...  brilliant act lesley ann warren best dramatic ...\n",
       "3      This is easily the most underrated film inn th...  ...  easily underrated film inn brook cannon sure f...\n",
       "4      This is not the typical Mel Brooks film. It wa...  ...  typical mel brook film much less slapstick mov...\n",
       "...                                                  ...  ...                                                ...\n",
       "49995  I occasionally let my kids watch this garbage ...  ...  occasionally let kid watch garbage understand ...\n",
       "49996  When all we have anymore is pretty much realit...  ...  anymore pretty much reality tv show people mak...\n",
       "49997  The basic genre is a thriller intercut with an...  ...  basic genre thriller intercut uncomfortable me...\n",
       "49998  Four things intrigued me as to this film - fir...  ...  four thing intrigue film firstly star carly po...\n",
       "49999  David Bryce's comments nearby are exceptionall...  ...  david bryce comment nearby exceptionally well ...\n",
       "\n",
       "[50000 rows x 3 columns]"
      ]
     },
     "execution_count": 96,
     "metadata": {
      "tags": []
     },
     "output_type": "execute_result"
    }
   ],
   "source": [
    "df"
   ]
  },
  {
   "cell_type": "code",
   "execution_count": 97,
   "metadata": {
    "executionInfo": {
     "elapsed": 426881,
     "status": "ok",
     "timestamp": 1607894843099,
     "user": {
      "displayName": "Nathan Fournillier",
      "photoUrl": "",
      "userId": "17358370230187562492"
     },
     "user_tz": -60
    },
    "id": "JGrf5vPTMsYR"
   },
   "outputs": [],
   "source": [
    "# clean text data\n",
    "df[\"review_clean\"] = df[\"reviews\"].apply(lambda x: review_cleaner(x))"
   ]
  },
  {
   "cell_type": "code",
   "execution_count": 103,
   "metadata": {
    "colab": {
     "base_uri": "https://localhost:8080/",
     "height": 419
    },
    "executionInfo": {
     "elapsed": 812,
     "status": "ok",
     "timestamp": 1607894981078,
     "user": {
      "displayName": "Nathan Fournillier",
      "photoUrl": "",
      "userId": "17358370230187562492"
     },
     "user_tz": -60
    },
    "id": "5x5B-YYdZ88E",
    "outputId": "67da2a04-5dd8-4b93-dbc6-6867bcf360fe"
   },
   "outputs": [
    {
     "data": {
      "text/html": [
       "<div>\n",
       "<style scoped>\n",
       "    .dataframe tbody tr th:only-of-type {\n",
       "        vertical-align: middle;\n",
       "    }\n",
       "\n",
       "    .dataframe tbody tr th {\n",
       "        vertical-align: top;\n",
       "    }\n",
       "\n",
       "    .dataframe thead th {\n",
       "        text-align: right;\n",
       "    }\n",
       "</style>\n",
       "<table border=\"1\" class=\"dataframe\">\n",
       "  <thead>\n",
       "    <tr style=\"text-align: right;\">\n",
       "      <th></th>\n",
       "      <th>reviews</th>\n",
       "      <th>sentiment</th>\n",
       "      <th>review_clean</th>\n",
       "    </tr>\n",
       "  </thead>\n",
       "  <tbody>\n",
       "    <tr>\n",
       "      <th>0</th>\n",
       "      <td>Bromwell High is a cartoon comedy. It ran at t...</td>\n",
       "      <td>1</td>\n",
       "      <td>bromwell high cartoon comedy run time program ...</td>\n",
       "    </tr>\n",
       "    <tr>\n",
       "      <th>1</th>\n",
       "      <td>Homelessness (or Houselessness as George Carli...</td>\n",
       "      <td>1</td>\n",
       "      <td>homelessness houselessness george carlin state...</td>\n",
       "    </tr>\n",
       "    <tr>\n",
       "      <th>2</th>\n",
       "      <td>Brilliant over-acting by Lesley Ann Warren. Be...</td>\n",
       "      <td>1</td>\n",
       "      <td>brilliant act lesley ann warren best dramatic ...</td>\n",
       "    </tr>\n",
       "    <tr>\n",
       "      <th>3</th>\n",
       "      <td>This is easily the most underrated film inn th...</td>\n",
       "      <td>1</td>\n",
       "      <td>easily underrated film inn brook cannon sure f...</td>\n",
       "    </tr>\n",
       "    <tr>\n",
       "      <th>4</th>\n",
       "      <td>This is not the typical Mel Brooks film. It wa...</td>\n",
       "      <td>1</td>\n",
       "      <td>typical mel brook film much less slapstick mov...</td>\n",
       "    </tr>\n",
       "    <tr>\n",
       "      <th>...</th>\n",
       "      <td>...</td>\n",
       "      <td>...</td>\n",
       "      <td>...</td>\n",
       "    </tr>\n",
       "    <tr>\n",
       "      <th>49995</th>\n",
       "      <td>I occasionally let my kids watch this garbage ...</td>\n",
       "      <td>0</td>\n",
       "      <td>occasionally let kid watch garbage understand ...</td>\n",
       "    </tr>\n",
       "    <tr>\n",
       "      <th>49996</th>\n",
       "      <td>When all we have anymore is pretty much realit...</td>\n",
       "      <td>0</td>\n",
       "      <td>anymore pretty much reality tv show people mak...</td>\n",
       "    </tr>\n",
       "    <tr>\n",
       "      <th>49997</th>\n",
       "      <td>The basic genre is a thriller intercut with an...</td>\n",
       "      <td>0</td>\n",
       "      <td>basic genre thriller intercut uncomfortable me...</td>\n",
       "    </tr>\n",
       "    <tr>\n",
       "      <th>49998</th>\n",
       "      <td>Four things intrigued me as to this film - fir...</td>\n",
       "      <td>0</td>\n",
       "      <td>four thing intrigue film firstly star carly po...</td>\n",
       "    </tr>\n",
       "    <tr>\n",
       "      <th>49999</th>\n",
       "      <td>David Bryce's comments nearby are exceptionall...</td>\n",
       "      <td>0</td>\n",
       "      <td>david bryce comment nearby exceptionally well ...</td>\n",
       "    </tr>\n",
       "  </tbody>\n",
       "</table>\n",
       "<p>50000 rows × 3 columns</p>\n",
       "</div>"
      ],
      "text/plain": [
       "                                                 reviews  ...                                       review_clean\n",
       "0      Bromwell High is a cartoon comedy. It ran at t...  ...  bromwell high cartoon comedy run time program ...\n",
       "1      Homelessness (or Houselessness as George Carli...  ...  homelessness houselessness george carlin state...\n",
       "2      Brilliant over-acting by Lesley Ann Warren. Be...  ...  brilliant act lesley ann warren best dramatic ...\n",
       "3      This is easily the most underrated film inn th...  ...  easily underrated film inn brook cannon sure f...\n",
       "4      This is not the typical Mel Brooks film. It wa...  ...  typical mel brook film much less slapstick mov...\n",
       "...                                                  ...  ...                                                ...\n",
       "49995  I occasionally let my kids watch this garbage ...  ...  occasionally let kid watch garbage understand ...\n",
       "49996  When all we have anymore is pretty much realit...  ...  anymore pretty much reality tv show people mak...\n",
       "49997  The basic genre is a thriller intercut with an...  ...  basic genre thriller intercut uncomfortable me...\n",
       "49998  Four things intrigued me as to this film - fir...  ...  four thing intrigue film firstly star carly po...\n",
       "49999  David Bryce's comments nearby are exceptionall...  ...  david bryce comment nearby exceptionally well ...\n",
       "\n",
       "[50000 rows x 3 columns]"
      ]
     },
     "execution_count": 103,
     "metadata": {
      "tags": []
     },
     "output_type": "execute_result"
    }
   ],
   "source": [
    "df"
   ]
  },
  {
   "cell_type": "code",
   "execution_count": 67,
   "metadata": {
    "executionInfo": {
     "elapsed": 998,
     "status": "ok",
     "timestamp": 1607893696134,
     "user": {
      "displayName": "Nathan Fournillier",
      "photoUrl": "",
      "userId": "17358370230187562492"
     },
     "user_tz": -60
    },
    "id": "zCSVJjDdkizM"
   },
   "outputs": [],
   "source": [
    "df.to_pickle('Imdb_movie_reviews_database_cleaned_v1.pckl')"
   ]
  }
 ],
 "metadata": {
  "colab": {
   "authorship_tag": "ABX9TyODkZRwhhbDwajAGDxUfQFN",
   "collapsed_sections": [],
   "mount_file_id": "1ugKvCwnVqS3ar9deSwsNM2YZKkeRlqen",
   "name": "data_clean_process.ipynb",
   "provenance": []
  },
  "kernelspec": {
   "display_name": "Python 3",
   "language": "python",
   "name": "python3"
  },
  "language_info": {
   "codemirror_mode": {
    "name": "ipython",
    "version": 3
   },
   "file_extension": ".py",
   "mimetype": "text/x-python",
   "name": "python",
   "nbconvert_exporter": "python",
   "pygments_lexer": "ipython3",
   "version": "3.6.12"
  }
 },
 "nbformat": 4,
 "nbformat_minor": 1
}
