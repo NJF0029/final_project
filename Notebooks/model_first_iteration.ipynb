{
 "cells": [
  {
   "cell_type": "markdown",
   "metadata": {
    "id": "pZHWnkwop9mx"
   },
   "source": [
    "# Import ingredients\n"
   ]
  },
  {
   "cell_type": "code",
   "execution_count": 1,
   "metadata": {
    "colab": {
     "base_uri": "https://localhost:8080/"
    },
    "id": "b1JbVc3DUM9o",
    "outputId": "67fcb9fd-ed6d-41b3-8813-95fd1c718548",
    "scrolled": true
   },
   "outputs": [
    {
     "name": "stderr",
     "output_type": "stream",
     "text": [
      "[nltk_data] Downloading package stopwords to\n",
      "[nltk_data]     /Users/ameliafournillier/nltk_data...\n",
      "[nltk_data]   Package stopwords is already up-to-date!\n",
      "[nltk_data] Downloading package wordnet to\n",
      "[nltk_data]     /Users/ameliafournillier/nltk_data...\n",
      "[nltk_data]   Package wordnet is already up-to-date!\n",
      "[nltk_data] Downloading package averaged_perceptron_tagger to\n",
      "[nltk_data]     /Users/ameliafournillier/nltk_data...\n",
      "[nltk_data]   Package averaged_perceptron_tagger is already up-to-\n",
      "[nltk_data]       date!\n"
     ]
    }
   ],
   "source": [
    "import pandas as pd\n",
    "import numpy as np\n",
    "import matplotlib.pyplot as plt\n",
    "import os\n",
    "import random\n",
    "from tqdm.notebook import tqdm\n",
    "from sklearn.feature_extraction.text import TfidfVectorizer\n",
    "from sklearn.pipeline import Pipeline\n",
    "from sklearn.model_selection import train_test_split\n",
    "from sklearn.metrics import accuracy_score, classification_report, confusion_matrix, plot_confusion_matrix\n",
    "import spacy\n",
    "import en_core_web_sm\n",
    "from nltk.stem import WordNetLemmatizer \n",
    "import nltk\n",
    "from nltk.corpus import stopwords \n",
    "# Import stop word list\n",
    "nltk.download(\"stopwords\")\n",
    "nltk.download('wordnet')\n",
    "nltk.download('averaged_perceptron_tagger')\n",
    "import string \n",
    "#import soup in order to tokenise reviews.\n",
    "from bs4 import BeautifulSoup as bs\n",
    "import re\n",
    "import string\n",
    "import re\n",
    "from nltk import pos_tag\n",
    "from nltk.corpus import stopwords\n",
    "from nltk.tokenize import WhitespaceTokenizer\n",
    "from nltk.stem import WordNetLemmatizer\n",
    "from sklearn.ensemble import RandomForestClassifier\n",
    "from sklearn.tree import DecisionTreeClassifier\n",
    "from sklearn.metrics import plot_confusion_matrix, classification_report, accuracy_score\n",
    "from sklearn.model_selection import train_test_split\n",
    "from sklearn.neural_network import MLPClassifier\n",
    "from sklearn.neighbors import KNeighborsClassifier\n",
    "from sklearn.svm import SVC\n",
    "from sklearn.gaussian_process import GaussianProcessClassifier\n",
    "from sklearn.gaussian_process.kernels import RBF\n",
    "from sklearn.tree import DecisionTreeClassifier\n",
    "from sklearn.ensemble import AdaBoostClassifier\n",
    "from sklearn.naive_bayes import GaussianNB\n",
    "from sklearn.discriminant_analysis import QuadraticDiscriminantAnalysis\n",
    "from nltk.corpus import wordnet\n",
    "from sklearn.svm import LinearSVC\n",
    "from sklearn.metrics import average_precision_score, precision_recall_curve\n",
    "from sklearn.utils.fixes import signature"
   ]
  },
  {
   "cell_type": "markdown",
   "metadata": {
    "id": "JQ-bqd3Xfyj6"
   },
   "source": [
    "## Loading Data"
   ]
  },
  {
   "cell_type": "code",
   "execution_count": 2,
   "metadata": {
    "id": "_TiNbJ8pauoq"
   },
   "outputs": [],
   "source": [
    "df = pd.read_pickle('final_project/Data/Imdb_movie_reviews_database.pckl')"
   ]
  },
  {
   "cell_type": "markdown",
   "metadata": {
    "id": "5ajPQvxPKPd1"
   },
   "source": [
    "## Exploring the data - 1"
   ]
  },
  {
   "cell_type": "code",
   "execution_count": 3,
   "metadata": {
    "colab": {
     "base_uri": "https://localhost:8080/"
    },
    "id": "pWqQ9JzJYQAT",
    "outputId": "da49ee9e-67a9-4f33-e7cb-fe41258981f0"
   },
   "outputs": [
    {
     "data": {
      "text/plain": [
       "(50000, 2)"
      ]
     },
     "execution_count": 3,
     "metadata": {},
     "output_type": "execute_result"
    }
   ],
   "source": [
    "df.shape"
   ]
  },
  {
   "cell_type": "code",
   "execution_count": null,
   "metadata": {
    "colab": {
     "base_uri": "https://localhost:8080/",
     "height": 419
    },
    "id": "rhIxH-8MJJiz",
    "outputId": "c39893ae-63de-4e76-beee-5cfab80216ec"
   },
   "outputs": [
    {
     "data": {
      "text/html": [
       "<div>\n",
       "<style scoped>\n",
       "    .dataframe tbody tr th:only-of-type {\n",
       "        vertical-align: middle;\n",
       "    }\n",
       "\n",
       "    .dataframe tbody tr th {\n",
       "        vertical-align: top;\n",
       "    }\n",
       "\n",
       "    .dataframe thead th {\n",
       "        text-align: right;\n",
       "    }\n",
       "</style>\n",
       "<table border=\"1\" class=\"dataframe\">\n",
       "  <thead>\n",
       "    <tr style=\"text-align: right;\">\n",
       "      <th></th>\n",
       "      <th>review</th>\n",
       "      <th>sentiment</th>\n",
       "    </tr>\n",
       "  </thead>\n",
       "  <tbody>\n",
       "    <tr>\n",
       "      <th>0</th>\n",
       "      <td>Bromwell High is a cartoon comedy. It ran at t...</td>\n",
       "      <td>1</td>\n",
       "    </tr>\n",
       "    <tr>\n",
       "      <th>1</th>\n",
       "      <td>Homelessness (or Houselessness as George Carli...</td>\n",
       "      <td>1</td>\n",
       "    </tr>\n",
       "    <tr>\n",
       "      <th>2</th>\n",
       "      <td>Brilliant over-acting by Lesley Ann Warren. Be...</td>\n",
       "      <td>1</td>\n",
       "    </tr>\n",
       "    <tr>\n",
       "      <th>3</th>\n",
       "      <td>This is easily the most underrated film inn th...</td>\n",
       "      <td>1</td>\n",
       "    </tr>\n",
       "    <tr>\n",
       "      <th>4</th>\n",
       "      <td>This is not the typical Mel Brooks film. It wa...</td>\n",
       "      <td>1</td>\n",
       "    </tr>\n",
       "    <tr>\n",
       "      <th>...</th>\n",
       "      <td>...</td>\n",
       "      <td>...</td>\n",
       "    </tr>\n",
       "    <tr>\n",
       "      <th>49995</th>\n",
       "      <td>I occasionally let my kids watch this garbage ...</td>\n",
       "      <td>0</td>\n",
       "    </tr>\n",
       "    <tr>\n",
       "      <th>49996</th>\n",
       "      <td>When all we have anymore is pretty much realit...</td>\n",
       "      <td>0</td>\n",
       "    </tr>\n",
       "    <tr>\n",
       "      <th>49997</th>\n",
       "      <td>The basic genre is a thriller intercut with an...</td>\n",
       "      <td>0</td>\n",
       "    </tr>\n",
       "    <tr>\n",
       "      <th>49998</th>\n",
       "      <td>Four things intrigued me as to this film - fir...</td>\n",
       "      <td>0</td>\n",
       "    </tr>\n",
       "    <tr>\n",
       "      <th>49999</th>\n",
       "      <td>David Bryce's comments nearby are exceptionall...</td>\n",
       "      <td>0</td>\n",
       "    </tr>\n",
       "  </tbody>\n",
       "</table>\n",
       "<p>50000 rows × 2 columns</p>\n",
       "</div>"
      ],
      "text/plain": [
       "                                                  review  sentiment\n",
       "0      Bromwell High is a cartoon comedy. It ran at t...          1\n",
       "1      Homelessness (or Houselessness as George Carli...          1\n",
       "2      Brilliant over-acting by Lesley Ann Warren. Be...          1\n",
       "3      This is easily the most underrated film inn th...          1\n",
       "4      This is not the typical Mel Brooks film. It wa...          1\n",
       "...                                                  ...        ...\n",
       "49995  I occasionally let my kids watch this garbage ...          0\n",
       "49996  When all we have anymore is pretty much realit...          0\n",
       "49997  The basic genre is a thriller intercut with an...          0\n",
       "49998  Four things intrigued me as to this film - fir...          0\n",
       "49999  David Bryce's comments nearby are exceptionall...          0\n",
       "\n",
       "[50000 rows x 2 columns]"
      ]
     },
     "execution_count": 30,
     "metadata": {
      "tags": []
     },
     "output_type": "execute_result"
    }
   ],
   "source": [
    "df"
   ]
  },
  {
   "cell_type": "code",
   "execution_count": 76,
   "metadata": {
    "colab": {
     "base_uri": "https://localhost:8080/",
     "height": 979
    },
    "id": "ewMYLyB9qprw",
    "outputId": "5b33813a-15d9-45c4-ea10-8b90585c491f"
   },
   "outputs": [
    {
     "data": {
      "text/html": [
       "<div>\n",
       "<style scoped>\n",
       "    .dataframe tbody tr th:only-of-type {\n",
       "        vertical-align: middle;\n",
       "    }\n",
       "\n",
       "    .dataframe tbody tr th {\n",
       "        vertical-align: top;\n",
       "    }\n",
       "\n",
       "    .dataframe thead th {\n",
       "        text-align: right;\n",
       "    }\n",
       "</style>\n",
       "<table border=\"1\" class=\"dataframe\">\n",
       "  <thead>\n",
       "    <tr style=\"text-align: right;\">\n",
       "      <th></th>\n",
       "      <th>review</th>\n",
       "      <th>sentiment</th>\n",
       "    </tr>\n",
       "  </thead>\n",
       "  <tbody>\n",
       "    <tr>\n",
       "      <th>0</th>\n",
       "      <td>Bromwell High is a cartoon comedy. It ran at t...</td>\n",
       "      <td>1</td>\n",
       "    </tr>\n",
       "    <tr>\n",
       "      <th>1</th>\n",
       "      <td>Homelessness (or Houselessness as George Carli...</td>\n",
       "      <td>1</td>\n",
       "    </tr>\n",
       "    <tr>\n",
       "      <th>2</th>\n",
       "      <td>Brilliant over-acting by Lesley Ann Warren. Be...</td>\n",
       "      <td>1</td>\n",
       "    </tr>\n",
       "    <tr>\n",
       "      <th>3</th>\n",
       "      <td>This is easily the most underrated film inn th...</td>\n",
       "      <td>1</td>\n",
       "    </tr>\n",
       "    <tr>\n",
       "      <th>4</th>\n",
       "      <td>This is not the typical Mel Brooks film. It wa...</td>\n",
       "      <td>1</td>\n",
       "    </tr>\n",
       "    <tr>\n",
       "      <th>5</th>\n",
       "      <td>This isn't the comedic Robin Williams, nor is ...</td>\n",
       "      <td>1</td>\n",
       "    </tr>\n",
       "    <tr>\n",
       "      <th>6</th>\n",
       "      <td>Yes its an art... to successfully make a slow ...</td>\n",
       "      <td>1</td>\n",
       "    </tr>\n",
       "    <tr>\n",
       "      <th>7</th>\n",
       "      <td>In this \"critically acclaimed psychological th...</td>\n",
       "      <td>1</td>\n",
       "    </tr>\n",
       "    <tr>\n",
       "      <th>8</th>\n",
       "      <td>THE NIGHT LISTENER (2006) **1/2 Robin Williams...</td>\n",
       "      <td>1</td>\n",
       "    </tr>\n",
       "    <tr>\n",
       "      <th>9</th>\n",
       "      <td>You know, Robin Williams, God bless him, is co...</td>\n",
       "      <td>1</td>\n",
       "    </tr>\n",
       "    <tr>\n",
       "      <th>10</th>\n",
       "      <td>When I first read Armistead Maupins story I wa...</td>\n",
       "      <td>1</td>\n",
       "    </tr>\n",
       "    <tr>\n",
       "      <th>11</th>\n",
       "      <td>I liked the film. Some of the action scenes we...</td>\n",
       "      <td>1</td>\n",
       "    </tr>\n",
       "    <tr>\n",
       "      <th>12</th>\n",
       "      <td>There are many illnesses born in the mind of m...</td>\n",
       "      <td>1</td>\n",
       "    </tr>\n",
       "    <tr>\n",
       "      <th>13</th>\n",
       "      <td>I enjoyed The Night Listener very much. It's o...</td>\n",
       "      <td>1</td>\n",
       "    </tr>\n",
       "    <tr>\n",
       "      <th>14</th>\n",
       "      <td>The Night Listener is probably not one of Will...</td>\n",
       "      <td>1</td>\n",
       "    </tr>\n",
       "    <tr>\n",
       "      <th>15</th>\n",
       "      <td>Like one of the previous commenters said, this...</td>\n",
       "      <td>1</td>\n",
       "    </tr>\n",
       "    <tr>\n",
       "      <th>16</th>\n",
       "      <td>The Night Listener held my attention, with Rob...</td>\n",
       "      <td>1</td>\n",
       "    </tr>\n",
       "    <tr>\n",
       "      <th>17</th>\n",
       "      <td>Popular radio storyteller Gabriel No one(Robin...</td>\n",
       "      <td>1</td>\n",
       "    </tr>\n",
       "    <tr>\n",
       "      <th>18</th>\n",
       "      <td>If there is one thing to recommend about this ...</td>\n",
       "      <td>1</td>\n",
       "    </tr>\n",
       "    <tr>\n",
       "      <th>19</th>\n",
       "      <td>I absolutely LOVED this film! I do not at all ...</td>\n",
       "      <td>1</td>\n",
       "    </tr>\n",
       "    <tr>\n",
       "      <th>20</th>\n",
       "      <td>This Night Listener is better than people are ...</td>\n",
       "      <td>1</td>\n",
       "    </tr>\n",
       "    <tr>\n",
       "      <th>21</th>\n",
       "      <td>When it comes to movies I can be pretty picky,...</td>\n",
       "      <td>1</td>\n",
       "    </tr>\n",
       "    <tr>\n",
       "      <th>22</th>\n",
       "      <td>Somewhat funny and well-paced action thriller ...</td>\n",
       "      <td>1</td>\n",
       "    </tr>\n",
       "    <tr>\n",
       "      <th>23</th>\n",
       "      <td>The legendary Boris Karloff ended his illustri...</td>\n",
       "      <td>1</td>\n",
       "    </tr>\n",
       "    <tr>\n",
       "      <th>24</th>\n",
       "      <td>This tale based on two Edgar Allen Poe pieces ...</td>\n",
       "      <td>1</td>\n",
       "    </tr>\n",
       "    <tr>\n",
       "      <th>25</th>\n",
       "      <td>Aro Tolbukhin burnt alive seven people in a Mi...</td>\n",
       "      <td>1</td>\n",
       "    </tr>\n",
       "    <tr>\n",
       "      <th>26</th>\n",
       "      <td>After seeing several movies of Villaronga, I h...</td>\n",
       "      <td>1</td>\n",
       "    </tr>\n",
       "    <tr>\n",
       "      <th>27</th>\n",
       "      <td>There's so many things to fall for in Aro Tolb...</td>\n",
       "      <td>1</td>\n",
       "    </tr>\n",
       "    <tr>\n",
       "      <th>28</th>\n",
       "      <td>This has got to be a unique twists of two genr...</td>\n",
       "      <td>1</td>\n",
       "    </tr>\n",
       "    <tr>\n",
       "      <th>29</th>\n",
       "      <td>Without Kirsten Miller this project needn't ha...</td>\n",
       "      <td>1</td>\n",
       "    </tr>\n",
       "  </tbody>\n",
       "</table>\n",
       "</div>"
      ],
      "text/plain": [
       "                                               review  sentiment\n",
       "0   Bromwell High is a cartoon comedy. It ran at t...          1\n",
       "1   Homelessness (or Houselessness as George Carli...          1\n",
       "2   Brilliant over-acting by Lesley Ann Warren. Be...          1\n",
       "3   This is easily the most underrated film inn th...          1\n",
       "4   This is not the typical Mel Brooks film. It wa...          1\n",
       "5   This isn't the comedic Robin Williams, nor is ...          1\n",
       "6   Yes its an art... to successfully make a slow ...          1\n",
       "7   In this \"critically acclaimed psychological th...          1\n",
       "8   THE NIGHT LISTENER (2006) **1/2 Robin Williams...          1\n",
       "9   You know, Robin Williams, God bless him, is co...          1\n",
       "10  When I first read Armistead Maupins story I wa...          1\n",
       "11  I liked the film. Some of the action scenes we...          1\n",
       "12  There are many illnesses born in the mind of m...          1\n",
       "13  I enjoyed The Night Listener very much. It's o...          1\n",
       "14  The Night Listener is probably not one of Will...          1\n",
       "15  Like one of the previous commenters said, this...          1\n",
       "16  The Night Listener held my attention, with Rob...          1\n",
       "17  Popular radio storyteller Gabriel No one(Robin...          1\n",
       "18  If there is one thing to recommend about this ...          1\n",
       "19  I absolutely LOVED this film! I do not at all ...          1\n",
       "20  This Night Listener is better than people are ...          1\n",
       "21  When it comes to movies I can be pretty picky,...          1\n",
       "22  Somewhat funny and well-paced action thriller ...          1\n",
       "23  The legendary Boris Karloff ended his illustri...          1\n",
       "24  This tale based on two Edgar Allen Poe pieces ...          1\n",
       "25  Aro Tolbukhin burnt alive seven people in a Mi...          1\n",
       "26  After seeing several movies of Villaronga, I h...          1\n",
       "27  There's so many things to fall for in Aro Tolb...          1\n",
       "28  This has got to be a unique twists of two genr...          1\n",
       "29  Without Kirsten Miller this project needn't ha...          1"
      ]
     },
     "execution_count": 76,
     "metadata": {
      "tags": []
     },
     "output_type": "execute_result"
    }
   ],
   "source": [
    "df.head(30)"
   ]
  },
  {
   "cell_type": "code",
   "execution_count": 4,
   "metadata": {
    "id": "xJJjY7pv4X5C"
   },
   "outputs": [],
   "source": [
    "# renamed column\n",
    "df = df.rename(columns={'review':'reviews'})"
   ]
  },
  {
   "cell_type": "code",
   "execution_count": 5,
   "metadata": {
    "colab": {
     "base_uri": "https://localhost:8080/"
    },
    "id": "u5YVjAZX4_vt",
    "outputId": "e37f63c0-dbf3-4a49-f748-d382cf907884"
   },
   "outputs": [
    {
     "data": {
      "text/plain": [
       "Index(['reviews', 'sentiment'], dtype='object')"
      ]
     },
     "execution_count": 5,
     "metadata": {
      "tags": []
     },
     "output_type": "execute_result"
    }
   ],
   "source": [
    "\n",
    "df.columns"
   ]
  },
  {
   "cell_type": "code",
   "execution_count": 79,
   "metadata": {
    "colab": {
     "base_uri": "https://localhost:8080/"
    },
    "id": "b7gAFy72rSJW",
    "outputId": "228dd664-9b7c-4685-d539-a911d70a4234"
   },
   "outputs": [
    {
     "data": {
      "text/plain": [
       "1"
      ]
     },
     "execution_count": 79,
     "metadata": {
      "tags": []
     },
     "output_type": "execute_result"
    }
   ],
   "source": [
    "# Check reviews to see if they correspond to sentiment.\n",
    "df['sentiment'][0]"
   ]
  },
  {
   "cell_type": "code",
   "execution_count": null,
   "metadata": {
    "colab": {
     "base_uri": "https://localhost:8080/"
    },
    "id": "Tud6FqlwTmYR",
    "outputId": "b1bb793f-7898-4740-a230-b80ec8008cee"
   },
   "outputs": [
    {
     "data": {
      "text/plain": [
       "<bound method DataFrame.sum of        reviews  sentiment\n",
       "0        False      False\n",
       "1        False      False\n",
       "2        False      False\n",
       "3        False      False\n",
       "4        False      False\n",
       "...        ...        ...\n",
       "49995    False      False\n",
       "49996    False      False\n",
       "49997    False      False\n",
       "49998    False      False\n",
       "49999    False      False\n",
       "\n",
       "[50000 rows x 2 columns]>"
      ]
     },
     "execution_count": 35,
     "metadata": {
      "tags": []
     },
     "output_type": "execute_result"
    }
   ],
   "source": [
    "df.isnull().sum"
   ]
  },
  {
   "cell_type": "code",
   "execution_count": 80,
   "metadata": {
    "colab": {
     "base_uri": "https://localhost:8080/"
    },
    "id": "jfbdX3KqKi_I",
    "outputId": "da82c99b-7c4e-4bb5-949c-f0cc378451ff"
   },
   "outputs": [
    {
     "name": "stdout",
     "output_type": "stream",
     "text": [
      "First 10 samples of positive reviews\n",
      " 0    Bromwell High is a cartoon comedy. It ran at t...\n",
      "1    Homelessness (or Houselessness as George Carli...\n",
      "2    Brilliant over-acting by Lesley Ann Warren. Be...\n",
      "3    This is easily the most underrated film inn th...\n",
      "4    This is not the typical Mel Brooks film. It wa...\n",
      "5    This isn't the comedic Robin Williams, nor is ...\n",
      "6    Yes its an art... to successfully make a slow ...\n",
      "7    In this \"critically acclaimed psychological th...\n",
      "8    THE NIGHT LISTENER (2006) **1/2 Robin Williams...\n",
      "9    You know, Robin Williams, God bless him, is co...\n",
      "Name: reviews, dtype: object\n",
      "First 10 samples of negative reviews\n",
      " 12500    Story of a man who has unnatural feelings for ...\n",
      "12501    Airport '77 starts as a brand new luxury 747 p...\n",
      "12502    This film lacked something I couldn't put my f...\n",
      "12503    Sorry everyone,,, I know this is supposed to b...\n",
      "12504    When I was little my parents took me along to ...\n",
      "12505    \"It appears that many critics find the idea of...\n",
      "12506    The second attempt by a New York intellectual ...\n",
      "12507    I don't know who to blame, the timid writers o...\n",
      "12508    This film is mediocre at best. Angie Harmon is...\n",
      "12509    The film is bad. There is no other way to say ...\n",
      "Name: reviews, dtype: object\n"
     ]
    }
   ],
   "source": [
    "pos_reviews = df[df['sentiment']==1]['reviews']\n",
    "neg_reviews = df[df['sentiment']==0]['reviews']\n",
    "print(\"First 10 samples of positive reviews\\n\".format(),pos_reviews[:10])\n",
    "print(\"First 10 samples of negative reviews\\n\".format(),neg_reviews[:10])"
   ]
  },
  {
   "cell_type": "code",
   "execution_count": 11,
   "metadata": {
    "id": "ZSEGuZLVVQBm"
   },
   "outputs": [],
   "source": [
    "df = df.sample(frac=1,random_state=42).reset_index(drop=True)"
   ]
  },
  {
   "cell_type": "code",
   "execution_count": 12,
   "metadata": {
    "colab": {
     "base_uri": "https://localhost:8080/"
    },
    "id": "6vy4jvvoax0r",
    "outputId": "099dfa8f-c149-457d-8fda-b85dbf308b8a"
   },
   "outputs": [
    {
     "name": "stdout",
     "output_type": "stream",
     "text": [
      "(50000, 2)\n"
     ]
    }
   ],
   "source": [
    "print(df.shape)"
   ]
  },
  {
   "cell_type": "code",
   "execution_count": 13,
   "metadata": {
    "colab": {
     "base_uri": "https://localhost:8080/"
    },
    "id": "Vpl1Uk8_cCxF",
    "outputId": "802b984a-cbe8-4fa7-e7c5-11cc9edb81c6"
   },
   "outputs": [
    {
     "data": {
      "text/plain": [
       "<bound method NDFrame.head of                                                  reviews  sentiment\n",
       "0      When I first saw the ad for this, I was like '...          1\n",
       "1      \"A Girl's Folly\" is a sort of half-comedy, hal...          1\n",
       "2      I started watching the show from the first sea...          1\n",
       "3      This is a more interesting than usual porn mov...          1\n",
       "4      I suppose for 1961 this film was supposed to b...          0\n",
       "...                                                  ...        ...\n",
       "49995  I saw this movie at midnight on On Demand the ...          1\n",
       "49996  Some aspects of this production are good, such...          0\n",
       "49997  I was not old enough to really appreciate the ...          0\n",
       "49998  Nice movie with a great soundtrack which spans...          1\n",
       "49999  Even though this was a made-for-TV production,...          0\n",
       "\n",
       "[50000 rows x 2 columns]>"
      ]
     },
     "execution_count": 13,
     "metadata": {
      "tags": []
     },
     "output_type": "execute_result"
    }
   ],
   "source": [
    "df.head"
   ]
  },
  {
   "cell_type": "code",
   "execution_count": 9,
   "metadata": {
    "colab": {
     "base_uri": "https://localhost:8080/"
    },
    "id": "bMX9klIoa_2o",
    "outputId": "4ab49182-0e7f-46d1-9c9c-ef35f6d5d3a3"
   },
   "outputs": [
    {
     "name": "stdout",
     "output_type": "stream",
     "text": [
      "First 10 samples of positive reviews\n",
      " 0     When I first saw the ad for this, I was like '...\n",
      "1     \"A Girl's Folly\" is a sort of half-comedy, hal...\n",
      "2     I started watching the show from the first sea...\n",
      "3     This is a more interesting than usual porn mov...\n",
      "6     I saw this movie when it was new. Later I rent...\n",
      "8     First, what I didn't like. The acting was not ...\n",
      "9     As spectacle, it's hard to fault Nihon chinbot...\n",
      "12    It starts slowly, showing the dreary lives of ...\n",
      "13    A year after losing gorgeous Jane Parker (Maur...\n",
      "15    After \"Attack of the Fifty Foot Woman\" with Al...\n",
      "Name: reviews, dtype: object\n",
      "First 10 samples of negative reviews\n",
      " 4     I suppose for 1961 this film was supposed to b...\n",
      "5     This is a poor film. It certainly belongs in t...\n",
      "7     This meandering tale of mob revenge is simply ...\n",
      "10    4 Oscar winners, Karl Malden, Sally Field, Shi...\n",
      "11    Horror films are a curious thing, sometimes th...\n",
      "14    'Nobody knows anybody' is a conspiracy theory ...\n",
      "16    I think everyone was quite disappointed with t...\n",
      "18    Thank God! I didn't waste my money renting it ...\n",
      "21    Connie Hoffman is very pretty and is attractiv...\n",
      "23    I'll be short and to the point. This movie was...\n",
      "Name: reviews, dtype: object\n"
     ]
    }
   ],
   "source": [
    "pos_reviews = df[df['sentiment']==1]['reviews']\n",
    "neg_reviews = df[df['sentiment']==0]['reviews']\n",
    "print(\"First 10 samples of positive reviews\\n\".format(),pos_reviews[:10])\n",
    "print(\"First 10 samples of negative reviews\\n\".format(),neg_reviews[:10])"
   ]
  },
  {
   "cell_type": "code",
   "execution_count": null,
   "metadata": {
    "colab": {
     "base_uri": "https://localhost:8080/",
     "height": 86
    },
    "id": "yPIoRe_me9eC",
    "outputId": "5f862c35-06dd-4385-f72b-fff617a69fd5"
   },
   "outputs": [
    {
     "data": {
      "application/vnd.google.colaboratory.intrinsic+json": {
       "type": "string"
      },
      "text/plain": [
       "\"When I first saw the ad for this, I was like 'Oh here we go. He's done High School Musical, but he can't coast along on that so now he's making appearances on other Disney shows'. Personally, I love The Suite Life and I'm a big fan of Ashely Tisdale. But for some reason, I'm not too keen on Zac Efron, although all my friends think he's the best thing since Jesse McCartney. But he really annoys me. Anyway, I watched the show (taking a break from English coursework) and was pleasantly surprised. The performances were good all round, especially from the regular characters on The Suite Life, and Zac Efron wasn't as bad as I had anticipated. All in all, a pretty good show.\""
      ]
     },
     "execution_count": 19,
     "metadata": {
      "tags": []
     },
     "output_type": "execute_result"
    }
   ],
   "source": [
    "df['reviews'][0]"
   ]
  },
  {
   "cell_type": "markdown",
   "metadata": {
    "id": "QNv8L-it-JO9"
   },
   "source": [
    "# Natural Language Processing Pipeline \n",
    "\n",
    "Cleaning: \n",
    "* Tokenize the text (break text down into sentences, words, or other units). \n",
    "* Removing punctiation, whitespaces and other noise from sentence.\n",
    "* Remove words that contain numbers.\n",
    "* Removing stop words like “if,” “but,” “or,” and so on.\n",
    "* Part-Of-Speech (POS) tagging: assign a tag to every word to define if it corresponds to a noun, a verb etc. using the WordNet lexical database.\n",
    "*   Normalizing/Lemmatizing  words by condensing all forms of a word to its root form (e.g. rooms -> room, slept -> sleep).\n",
    "\n",
    "Feature Engineering:\n",
    "*   Vectorizing text by turning the text into a numerical representation for consumption by your classifier.\n",
    "\n"
   ]
  },
  {
   "cell_type": "markdown",
   "metadata": {
    "id": "JA29Vv1Un_Bw"
   },
   "source": [
    "### Cleaning"
   ]
  },
  {
   "cell_type": "code",
   "execution_count": 17,
   "metadata": {
    "id": "HHf9sKA4CIR6"
   },
   "outputs": [],
   "source": [
    "text = df['reviews'][1]\n"
   ]
  },
  {
   "cell_type": "code",
   "execution_count": 37,
   "metadata": {
    "colab": {
     "base_uri": "https://localhost:8080/",
     "height": 120
    },
    "id": "07pMUyPowfgh",
    "outputId": "bf62be0e-f2f4-4094-d0f2-21f45d64789a"
   },
   "outputs": [
    {
     "data": {
      "application/vnd.google.colaboratory.intrinsic+json": {
       "type": "string"
      },
      "text/plain": [
       "'\"A Girl\\'s Folly\" is a sort of half-comedy, half-mockumentary look at the motion picture business of the mid-1910\\'s. We get a glimpse of life at an early movie studio, where we experience assembly of a set, running through a scene, handling of adoring movie fanatics, even lunch at the commissary. We are also privy to little known cinematic facts - for example, did you know that \"Frequently, \\'movie\\' actors do not know the plot of the picture in which they are working\"?The plot of this film in essence is movie star Kenneth Driscoll\\'s discovery and romancing of a budding young starlet whom he discovers while shooting on location in the country. I believe the 30-minute version I watched was abridged, included on the same tape with Cecil B. De Mille\\'s \"The Cheat.\" It is a very credible film - an easy watch with a large cast of extras. As a bonus it includes some of best-illustrated captions I have ever seen accompanying a silent movie.'"
      ]
     },
     "execution_count": 37,
     "metadata": {
      "tags": []
     },
     "output_type": "execute_result"
    }
   ],
   "source": [
    "# removes html\n",
    "text = bs(text).get_text() \n",
    "text"
   ]
  },
  {
   "cell_type": "code",
   "execution_count": 38,
   "metadata": {
    "colab": {
     "base_uri": "https://localhost:8080/",
     "height": 120
    },
    "id": "l5bita_yBN1S",
    "outputId": "0100e637-f03e-46c9-c0f7-35db06959445"
   },
   "outputs": [
    {
     "data": {
      "application/vnd.google.colaboratory.intrinsic+json": {
       "type": "string"
      },
      "text/plain": [
       "'\"a girl\\'s folly\" is a sort of half-comedy, half-mockumentary look at the motion picture business of the mid-1910\\'s. we get a glimpse of life at an early movie studio, where we experience assembly of a set, running through a scene, handling of adoring movie fanatics, even lunch at the commissary. we are also privy to little known cinematic facts - for example, did you know that \"frequently, \\'movie\\' actors do not know the plot of the picture in which they are working\"?the plot of this film in essence is movie star kenneth driscoll\\'s discovery and romancing of a budding young starlet whom he discovers while shooting on location in the country. i believe the 30-minute version i watched was abridged, included on the same tape with cecil b. de mille\\'s \"the cheat.\" it is a very credible film - an easy watch with a large cast of extras. as a bonus it includes some of best-illustrated captions i have ever seen accompanying a silent movie.'"
      ]
     },
     "execution_count": 38,
     "metadata": {
      "tags": []
     },
     "output_type": "execute_result"
    }
   ],
   "source": [
    "#make text lower case\n",
    "lower_text = text.lower()\n",
    "lower_text"
   ]
  },
  {
   "cell_type": "code",
   "execution_count": 39,
   "metadata": {
    "colab": {
     "base_uri": "https://localhost:8080/"
    },
    "id": "P45IWHVW-H8y",
    "outputId": "3c35f1bc-5700-462f-db1d-900bb6dec6b5"
   },
   "outputs": [
    {
     "name": "stdout",
     "output_type": "stream",
     "text": [
      "!\"#$%&'()*+,-./:;<=>?@[\\]^_`{|}~\n"
     ]
    }
   ],
   "source": [
    "# Storing the sets of punctuation in variable punct\n",
    "punct = string.punctuation  \n",
    "    \n",
    "# Printing the punctuation values  \n",
    "print(punct)    "
   ]
  },
  {
   "cell_type": "code",
   "execution_count": 41,
   "metadata": {
    "colab": {
     "base_uri": "https://localhost:8080/"
    },
    "id": "hHi_Hxq6q1Gi",
    "outputId": "b9aae9a8-9942-4f2f-859d-f04080b35f47"
   },
   "outputs": [
    {
     "name": "stdout",
     "output_type": "stream",
     "text": [
      "Punctuation: \"\n",
      "Punctuation: '\n",
      "Punctuation: \"\n",
      "Punctuation: -\n",
      "Punctuation: ,\n",
      "Punctuation: -\n",
      "Punctuation: -\n",
      "Punctuation: '\n",
      "Punctuation: .\n",
      "Punctuation: ,\n",
      "Punctuation: ,\n",
      "Punctuation: ,\n",
      "Punctuation: ,\n",
      "Punctuation: .\n",
      "Punctuation: -\n",
      "Punctuation: ,\n",
      "Punctuation: \"\n",
      "Punctuation: ,\n",
      "Punctuation: '\n",
      "Punctuation: '\n",
      "Punctuation: \"\n",
      "Punctuation: ?\n",
      "Punctuation: '\n",
      "Punctuation: .\n",
      "Punctuation: -\n",
      "Punctuation: ,\n",
      "Punctuation: .\n",
      "Punctuation: '\n",
      "Punctuation: \"\n",
      "Punctuation: .\n",
      "Punctuation: \"\n",
      "Punctuation: -\n",
      "Punctuation: .\n",
      "Punctuation: -\n",
      "Punctuation: .\n"
     ]
    }
   ],
   "source": [
    "# checking whether the characters from  punct are in review \n",
    "for i in lower_text:   \n",
    "    if i in punct: \n",
    "        # Printing the punctuation values  \n",
    "        print(f\"Punctuation: {i}\") "
   ]
  },
  {
   "cell_type": "code",
   "execution_count": 47,
   "metadata": {
    "colab": {
     "base_uri": "https://localhost:8080/",
     "height": 120
    },
    "id": "KiNAUtNSHvaR",
    "outputId": "379ba12e-df04-4f14-a814-188ea7d8b5da"
   },
   "outputs": [
    {
     "data": {
      "application/vnd.google.colaboratory.intrinsic+json": {
       "type": "string"
      },
      "text/plain": [
       "' a girl s folly is a sort of half comedy half mockumentary look at the motion picture business of the mid 1910 s we get a glimpse of life at an early movie studio where we experience assembly of a set running through a scene handling of adoring movie fanatics even lunch at the commissary we are also privy to little known cinematic facts for example did you know that frequently movie actors do not know the plot of the picture in which they are working the plot of this film in essence is movie star kenneth driscoll s discovery and romancing of a budding young starlet whom he discovers while shooting on location in the country i believe the 30 minute version i watched was abridged included on the same tape with cecil b de mille s the cheat it is a very credible film an easy watch with a large cast of extras as a bonus it includes some of best illustrated captions i have ever seen accompanying a silent movie '"
      ]
     },
     "execution_count": 47,
     "metadata": {
      "tags": []
     },
     "output_type": "execute_result"
    }
   ],
   "source": [
    " # split by just words\n",
    "text_split = re.split(r'\\W+',lower_text)\n",
    "text_join = \" \".join(text_split)\n",
    "text_join"
   ]
  },
  {
   "cell_type": "code",
   "execution_count": 50,
   "metadata": {
    "colab": {
     "base_uri": "https://localhost:8080/",
     "height": 120
    },
    "id": "UKgtX5Bz3i9W",
    "outputId": "26da4953-bca3-4b8e-e122-7e98fc476a45"
   },
   "outputs": [
    {
     "data": {
      "application/vnd.google.colaboratory.intrinsic+json": {
       "type": "string"
      },
      "text/plain": [
       "' a girl s folly is a sort of half comedy half mockumentary look at the motion picture business of the mid      s we get a glimpse of life at an early movie studio where we experience assembly of a set running through a scene handling of adoring movie fanatics even lunch at the commissary we are also privy to little known cinematic facts for example did you know that frequently movie actors do not know the plot of the picture in which they are working the plot of this film in essence is movie star kenneth driscoll s discovery and romancing of a budding young starlet whom he discovers while shooting on location in the country i believe the    minute version i watched was abridged included on the same tape with cecil b de mille s the cheat it is a very credible film an easy watch with a large cast of extras as a bonus it includes some of best illustrated captions i have ever seen accompanying a silent movie '"
      ]
     },
     "execution_count": 50,
     "metadata": {
      "tags": []
     },
     "output_type": "execute_result"
    }
   ],
   "source": [
    "# Use regex to do a find-and-replace\n",
    "letters_only = re.sub(\"[^a-zA-Z]\",\" \",text_join )\n",
    "letters_only"
   ]
  },
  {
   "cell_type": "code",
   "execution_count": null,
   "metadata": {
    "id": "eI2Xy2G77vYh"
   },
   "outputs": [],
   "source": [
    "# Convert to lower case\n",
    "#lower_case = letters_only.lower()        \n",
    "#lower_case"
   ]
  },
  {
   "cell_type": "markdown",
   "metadata": {
    "id": "gOnF6aFe5987"
   },
   "source": [
    "### Tokenising Sentences"
   ]
  },
  {
   "cell_type": "code",
   "execution_count": 51,
   "metadata": {
    "colab": {
     "base_uri": "https://localhost:8080/"
    },
    "id": "awf-LdGg8_af",
    "outputId": "90584162-097c-46ed-f11b-126d5d8e3ab1"
   },
   "outputs": [
    {
     "data": {
      "text/plain": [
       "['a',\n",
       " 'girl',\n",
       " 's',\n",
       " 'folly',\n",
       " 'is',\n",
       " 'a',\n",
       " 'sort',\n",
       " 'of',\n",
       " 'half',\n",
       " 'comedy',\n",
       " 'half',\n",
       " 'mockumentary',\n",
       " 'look',\n",
       " 'at',\n",
       " 'the',\n",
       " 'motion',\n",
       " 'picture',\n",
       " 'business',\n",
       " 'of',\n",
       " 'the',\n",
       " 'mid',\n",
       " 's',\n",
       " 'we',\n",
       " 'get',\n",
       " 'a',\n",
       " 'glimpse',\n",
       " 'of',\n",
       " 'life',\n",
       " 'at',\n",
       " 'an',\n",
       " 'early',\n",
       " 'movie',\n",
       " 'studio',\n",
       " 'where',\n",
       " 'we',\n",
       " 'experience',\n",
       " 'assembly',\n",
       " 'of',\n",
       " 'a',\n",
       " 'set',\n",
       " 'running',\n",
       " 'through',\n",
       " 'a',\n",
       " 'scene',\n",
       " 'handling',\n",
       " 'of',\n",
       " 'adoring',\n",
       " 'movie',\n",
       " 'fanatics',\n",
       " 'even',\n",
       " 'lunch',\n",
       " 'at',\n",
       " 'the',\n",
       " 'commissary',\n",
       " 'we',\n",
       " 'are',\n",
       " 'also',\n",
       " 'privy',\n",
       " 'to',\n",
       " 'little',\n",
       " 'known',\n",
       " 'cinematic',\n",
       " 'facts',\n",
       " 'for',\n",
       " 'example',\n",
       " 'did',\n",
       " 'you',\n",
       " 'know',\n",
       " 'that',\n",
       " 'frequently',\n",
       " 'movie',\n",
       " 'actors',\n",
       " 'do',\n",
       " 'not',\n",
       " 'know',\n",
       " 'the',\n",
       " 'plot',\n",
       " 'of',\n",
       " 'the',\n",
       " 'picture',\n",
       " 'in',\n",
       " 'which',\n",
       " 'they',\n",
       " 'are',\n",
       " 'working',\n",
       " 'the',\n",
       " 'plot',\n",
       " 'of',\n",
       " 'this',\n",
       " 'film',\n",
       " 'in',\n",
       " 'essence',\n",
       " 'is',\n",
       " 'movie',\n",
       " 'star',\n",
       " 'kenneth',\n",
       " 'driscoll',\n",
       " 's',\n",
       " 'discovery',\n",
       " 'and',\n",
       " 'romancing',\n",
       " 'of',\n",
       " 'a',\n",
       " 'budding',\n",
       " 'young',\n",
       " 'starlet',\n",
       " 'whom',\n",
       " 'he',\n",
       " 'discovers',\n",
       " 'while',\n",
       " 'shooting',\n",
       " 'on',\n",
       " 'location',\n",
       " 'in',\n",
       " 'the',\n",
       " 'country',\n",
       " 'i',\n",
       " 'believe',\n",
       " 'the',\n",
       " 'minute',\n",
       " 'version',\n",
       " 'i',\n",
       " 'watched',\n",
       " 'was',\n",
       " 'abridged',\n",
       " 'included',\n",
       " 'on',\n",
       " 'the',\n",
       " 'same',\n",
       " 'tape',\n",
       " 'with',\n",
       " 'cecil',\n",
       " 'b',\n",
       " 'de',\n",
       " 'mille',\n",
       " 's',\n",
       " 'the',\n",
       " 'cheat',\n",
       " 'it',\n",
       " 'is',\n",
       " 'a',\n",
       " 'very',\n",
       " 'credible',\n",
       " 'film',\n",
       " 'an',\n",
       " 'easy',\n",
       " 'watch',\n",
       " 'with',\n",
       " 'a',\n",
       " 'large',\n",
       " 'cast',\n",
       " 'of',\n",
       " 'extras',\n",
       " 'as',\n",
       " 'a',\n",
       " 'bonus',\n",
       " 'it',\n",
       " 'includes',\n",
       " 'some',\n",
       " 'of',\n",
       " 'best',\n",
       " 'illustrated',\n",
       " 'captions',\n",
       " 'i',\n",
       " 'have',\n",
       " 'ever',\n",
       " 'seen',\n",
       " 'accompanying',\n",
       " 'a',\n",
       " 'silent',\n",
       " 'movie']"
      ]
     },
     "execution_count": 51,
     "metadata": {
      "tags": []
     },
     "output_type": "execute_result"
    }
   ],
   "source": [
    "#split into list of words\n",
    "words = letters_only.split() \n",
    "words"
   ]
  },
  {
   "cell_type": "markdown",
   "metadata": {
    "id": "27_MMqHbATDN"
   },
   "source": [
    "### Remove Stop Words"
   ]
  },
  {
   "cell_type": "code",
   "execution_count": 55,
   "metadata": {
    "id": "nxdTm6liA9z7"
   },
   "outputs": [],
   "source": [
    "stop = stopwords.words(\"english\")"
   ]
  },
  {
   "cell_type": "code",
   "execution_count": 56,
   "metadata": {
    "colab": {
     "base_uri": "https://localhost:8080/"
    },
    "id": "ms0Ch43VBMFo",
    "outputId": "fc728e2d-68a1-4570-d5a2-0333a2f2eb11"
   },
   "outputs": [
    {
     "name": "stdout",
     "output_type": "stream",
     "text": [
      "['girl', 'folly', 'sort', 'half', 'comedy', 'half', 'mockumentary', 'look', 'motion', 'picture', 'business', 'mid', 'get', 'glimpse', 'life', 'early', 'movie', 'studio', 'experience', 'assembly', 'set', 'running', 'scene', 'handling', 'adoring', 'movie', 'fanatics', 'even', 'lunch', 'commissary', 'also', 'privy', 'little', 'known', 'cinematic', 'facts', 'example', 'know', 'frequently', 'movie', 'actors', 'know', 'plot', 'picture', 'working', 'plot', 'film', 'essence', 'movie', 'star', 'kenneth', 'driscoll', 'discovery', 'romancing', 'budding', 'young', 'starlet', 'discovers', 'shooting', 'location', 'country', 'believe', 'minute', 'version', 'watched', 'abridged', 'included', 'tape', 'cecil', 'b', 'de', 'mille', 'cheat', 'credible', 'film', 'easy', 'watch', 'large', 'cast', 'extras', 'bonus', 'includes', 'best', 'illustrated', 'captions', 'ever', 'seen', 'accompanying', 'silent', 'movie']\n"
     ]
    }
   ],
   "source": [
    "# Remove stop words from \"words\"\n",
    "meaningful_words = []\n",
    "for word in words:\n",
    "   if word not in stop:\n",
    "      meaningful_words.append(word)\n",
    "\n",
    "print(meaningful_words)"
   ]
  },
  {
   "cell_type": "markdown",
   "metadata": {
    "id": "6Wq49gwlPlrk"
   },
   "source": [
    "### Normalisation - Lemmatization"
   ]
  },
  {
   "cell_type": "code",
   "execution_count": null,
   "metadata": {
    "colab": {
     "base_uri": "https://localhost:8080/"
    },
    "id": "k10IY_y2UbGD",
    "outputId": "6da14e4d-c92e-4c23-daaa-8940d869571e"
   },
   "outputs": [
    {
     "name": "stdout",
     "output_type": "stream",
     "text": [
      "word: bromwell, lemma: bromwell\n",
      "word: high, lemma: high\n",
      "word: cartoon, lemma: cartoon\n",
      "word: comedy, lemma: comedy\n",
      "word: ran, lemma: ran\n",
      "word: time, lemma: time\n",
      "word: programs, lemma: program\n",
      "word: school, lemma: school\n",
      "word: life, lemma: life\n",
      "word: teachers, lemma: teacher\n",
      "word: years, lemma: year\n",
      "word: teaching, lemma: teaching\n",
      "word: profession, lemma: profession\n",
      "word: lead, lemma: lead\n",
      "word: believe, lemma: believe\n",
      "word: bromwell, lemma: bromwell\n",
      "word: high, lemma: high\n",
      "word: satire, lemma: satire\n",
      "word: much, lemma: much\n",
      "word: closer, lemma: closer\n",
      "word: reality, lemma: reality\n",
      "word: teachers, lemma: teacher\n",
      "word: scramble, lemma: scramble\n",
      "word: survive, lemma: survive\n",
      "word: financially, lemma: financially\n",
      "word: insightful, lemma: insightful\n",
      "word: students, lemma: student\n",
      "word: see, lemma: see\n",
      "word: right, lemma: right\n",
      "word: pathetic, lemma: pathetic\n",
      "word: teachers, lemma: teacher\n",
      "word: pomp, lemma: pomp\n",
      "word: pettiness, lemma: pettiness\n",
      "word: whole, lemma: whole\n",
      "word: situation, lemma: situation\n",
      "word: remind, lemma: remind\n",
      "word: schools, lemma: school\n",
      "word: knew, lemma: knew\n",
      "word: students, lemma: student\n",
      "word: saw, lemma: saw\n",
      "word: episode, lemma: episode\n",
      "word: student, lemma: student\n",
      "word: repeatedly, lemma: repeatedly\n",
      "word: tried, lemma: tried\n",
      "word: burn, lemma: burn\n",
      "word: school, lemma: school\n",
      "word: immediately, lemma: immediately\n",
      "word: recalled, lemma: recalled\n",
      "word: high, lemma: high\n",
      "word: classic, lemma: classic\n",
      "word: line, lemma: line\n",
      "word: inspector, lemma: inspector\n",
      "word: sack, lemma: sack\n",
      "word: one, lemma: one\n",
      "word: teachers, lemma: teacher\n",
      "word: student, lemma: student\n",
      "word: welcome, lemma: welcome\n",
      "word: bromwell, lemma: bromwell\n",
      "word: high, lemma: high\n",
      "word: expect, lemma: expect\n",
      "word: many, lemma: many\n",
      "word: adults, lemma: adult\n",
      "word: age, lemma: age\n",
      "word: think, lemma: think\n",
      "word: bromwell, lemma: bromwell\n",
      "word: high, lemma: high\n",
      "word: far, lemma: far\n",
      "word: fetched, lemma: fetched\n",
      "word: pity, lemma: pity\n"
     ]
    }
   ],
   "source": [
    "lemmatizer = WordNetLemmatizer() \n",
    "for word in meaningful_words:\n",
    "  print(f\"word: {word}, lemma: {lemmatizer.lemmatize(word)}\") \n"
   ]
  },
  {
   "cell_type": "markdown",
   "metadata": {
    "id": "8tLeeFKAvWS8"
   },
   "source": [
    "**To be able to replicate this for all reviews I have defined a function below:**"
   ]
  },
  {
   "cell_type": "code",
   "execution_count": 15,
   "metadata": {
    "id": "PC4pS3gQJ9-1"
   },
   "outputs": [],
   "source": [
    "# return the wordnet object value corresponding to the POS tag\n",
    "\n",
    "def get_wordnet_pos(pos_tag):\n",
    "\n",
    "    '''\n",
    "    Function to return the corresponding wordnet object value of the \n",
    "    'Part Of Speach tag' i.e \"thing : NN\" corresponds to Noun in wordnet.\n",
    "    Input: string (pos tag)\n",
    "    Output: string (a wordnet object)\n",
    "    '''\n",
    "\n",
    "    if pos_tag.startswith('J'):\n",
    "        return wordnet.ADJ\n",
    "    elif pos_tag.startswith('V'):\n",
    "        return wordnet.VERB\n",
    "    elif pos_tag.startswith('N'):\n",
    "        return wordnet.NOUN\n",
    "    elif pos_tag.startswith('R'):\n",
    "        return wordnet.ADV\n",
    "    else:\n",
    "        return wordnet.NOUN\n",
    "    \n",
    "def tokenised_reviews(review):\n",
    "  \n",
    "    '''\n",
    "    Function to convert a review to a tokenised string of words.\n",
    "    Input: string (a raw movie review)\n",
    "    Output: string (a preprocessed movie review)\n",
    "    '''\n",
    "    \n",
    "    # 1. Remove HTML\n",
    "    review = bs(review).get_text() \n",
    "\n",
    "    # 2. Remove non-letters        \n",
    "    review = re.sub(\"[^a-zA-Z]\", \" \", review)  \n",
    "\n",
    "    # 3. split by just words\n",
    "    review = re.split(r'\\W+',review)\n",
    "    review = \" \".join(review)\n",
    "\n",
    "    # 4. Convert to lower case\n",
    "    review = review.lower()\n",
    "\n",
    "    # 5. split into individual words \n",
    "    review = review.split()                              \n",
    "    \n",
    "    # 6. Import stop words\n",
    "    stop = (stopwords.words(\"english\"))                  \n",
    "    \n",
    "    # 7. Remove stop words  \n",
    "    review = [t for t in review if t not in stop]\n",
    "\n",
    "    # 8. remove empty tokens\n",
    "    review = [t for t in review if len(t) > 0]\n",
    "\n",
    "    # 9. pos tag text\n",
    "    pos_tags = pos_tag(review)\n",
    "\n",
    "    # 10. lemmatize text\n",
    "    review = [WordNetLemmatizer().lemmatize(t[0], get_wordnet_pos(t[1])) for t in pos_tags]\n",
    "\n",
    "    # 12. remove words with only one letter\n",
    "    review = [t for t in review if len(t) > 1]\n",
    "\n",
    "    # 13. Join the words back into one string separated by space, \n",
    "    # and return the result.\n",
    "    return( \" \".join( review ))  "
   ]
  },
  {
   "cell_type": "code",
   "execution_count": 62,
   "metadata": {
    "colab": {
     "base_uri": "https://localhost:8080/",
     "height": 86
    },
    "id": "oAUhNoYA8Ioj",
    "outputId": "2b3c56c5-0c3c-4f78-99bd-91837a6b28f9"
   },
   "outputs": [
    {
     "data": {
      "application/vnd.google.colaboratory.intrinsic+json": {
       "type": "string"
      },
      "text/plain": [
       "'girl folly sort half comedy half mockumentary look motion picture business mid get glimpse life early movie studio experience assembly set run scene handle adore movie fanatic even lunch commissary also privy little know cinematic fact example know frequently movie actor know plot picture work plot film essence movie star kenneth driscoll discovery romance bud young starlet discovers shoot location country believe minute version watch abridge included tape cecil de mille cheat credible film easy watch large cast extra bonus include best illustrated caption ever see accompany silent movie'"
      ]
     },
     "execution_count": 62,
     "metadata": {
      "tags": []
     },
     "output_type": "execute_result"
    }
   ],
   "source": [
    "tokenised_reviews( df[\"reviews\"][1] )"
   ]
  },
  {
   "cell_type": "code",
   "execution_count": 16,
   "metadata": {
    "id": "sJVheJI8Pt2o"
   },
   "outputs": [],
   "source": [
    "import spacy\n",
    "import en_core_web_sm\n",
    "nlp = en_core_web_sm.load()"
   ]
  },
  {
   "cell_type": "code",
   "execution_count": null,
   "metadata": {
    "id": "Cfp6j6ElPtdw"
   },
   "outputs": [],
   "source": [
    "#for word in meaningful_words:\n",
    "  #print(word.lemma_)"
   ]
  },
  {
   "cell_type": "markdown",
   "metadata": {
    "id": "9G-WGnrHtFse"
   },
   "source": [
    "## Vectorisation Feature Engineering"
   ]
  },
  {
   "cell_type": "code",
   "execution_count": 18,
   "metadata": {
    "id": "ReGX-xOLsMpt"
   },
   "outputs": [],
   "source": [
    "#create bag of words\n",
    "tfidf = TfidfVectorizer(tokenizer = tokenised_reviews)\n",
    "classifier = LinearSVC()"
   ]
  },
  {
   "cell_type": "code",
   "execution_count": 19,
   "metadata": {
    "id": "g7YGHvU3tpp5"
   },
   "outputs": [],
   "source": [
    "X = df['reviews']\n",
    "y = df['sentiment']"
   ]
  },
  {
   "cell_type": "code",
   "execution_count": 20,
   "metadata": {
    "id": "6WWXTH_XwCtK"
   },
   "outputs": [],
   "source": [
    "#Train data is data from the past, Test data is unseen data from the future\n",
    "#Split Data\n",
    "X_train, X_test, y_train, y_test = train_test_split(X, y, test_size = 0.2, random_state = 42)"
   ]
  },
  {
   "cell_type": "code",
   "execution_count": 21,
   "metadata": {
    "colab": {
     "base_uri": "https://localhost:8080/"
    },
    "id": "L8I3g0MUxC-k",
    "outputId": "00cd32c2-a7e8-42a5-de9e-f3569da4754c"
   },
   "outputs": [
    {
     "data": {
      "text/plain": [
       "((40000,), (10000,))"
      ]
     },
     "execution_count": 21,
     "metadata": {
      "tags": []
     },
     "output_type": "execute_result"
    }
   ],
   "source": [
    "X_train.shape, X_test.shape"
   ]
  },
  {
   "cell_type": "code",
   "execution_count": 22,
   "metadata": {
    "colab": {
     "base_uri": "https://localhost:8080/"
    },
    "id": "8ToRGdMw10rJ",
    "outputId": "7f9f60ba-5bcd-4549-a917-d952a8a388b1"
   },
   "outputs": [
    {
     "data": {
      "text/plain": [
       "((40000,), (10000,))"
      ]
     },
     "execution_count": 22,
     "metadata": {
      "tags": []
     },
     "output_type": "execute_result"
    }
   ],
   "source": [
    "y_train.shape, y_test.shape"
   ]
  },
  {
   "cell_type": "code",
   "execution_count": 23,
   "metadata": {
    "colab": {
     "base_uri": "https://localhost:8080/"
    },
    "id": "INDUBGfTxLz2",
    "outputId": "ae69cd80-3592-4699-f818-c196c0f59527"
   },
   "outputs": [
    {
     "data": {
      "text/plain": [
       "39087    Perhaps not the absolute greatest entry in the...\n",
       "30893    Rozema's 1999 adaptation of Mansfield Park is ...\n",
       "45278    What starts out as an interesting story quickl...\n",
       "16398    This movie should have ended as soon as the jo...\n",
       "13653    Obviously made on the cheap to capitalize on t...\n",
       "                               ...                        \n",
       "11284    I love old Burt Reynolds movies. They're funni...\n",
       "44732    For all losers who gave it negative review,its...\n",
       "38158    When I bought this film, I expected to get a f...\n",
       "860      On first viewing this movie seems to be some k...\n",
       "15795    This movie includes one of the best characters...\n",
       "Name: reviews, Length: 40000, dtype: object"
      ]
     },
     "execution_count": 23,
     "metadata": {
      "tags": []
     },
     "output_type": "execute_result"
    }
   ],
   "source": [
    "X_train"
   ]
  },
  {
   "cell_type": "code",
   "execution_count": 24,
   "metadata": {
    "id": "HddoJFOhxWV2"
   },
   "outputs": [],
   "source": [
    "#First will do a vectorisation then a classification\n",
    "clf = Pipeline([('tfidf', tfidf), ('clf', classifier)])"
   ]
  },
  {
   "cell_type": "code",
   "execution_count": 25,
   "metadata": {
    "colab": {
     "base_uri": "https://localhost:8080/"
    },
    "id": "OTbxxUP5ycSU",
    "outputId": "19a1ea73-ef9a-44a2-ef05-2228123decbd"
   },
   "outputs": [
    {
     "data": {
      "text/plain": [
       "Pipeline(memory=None,\n",
       "         steps=[('tfidf',\n",
       "                 TfidfVectorizer(analyzer='word', binary=False,\n",
       "                                 decode_error='strict',\n",
       "                                 dtype=<class 'numpy.float64'>,\n",
       "                                 encoding='utf-8', input='content',\n",
       "                                 lowercase=True, max_df=1.0, max_features=None,\n",
       "                                 min_df=1, ngram_range=(1, 1), norm='l2',\n",
       "                                 preprocessor=None, smooth_idf=True,\n",
       "                                 stop_words=None, strip_accents=None,\n",
       "                                 sublinear_tf=False,\n",
       "                                 token_pattern='(?u)\\\\b\\\\w\\\\w+\\\\b',\n",
       "                                 tokenizer=<function tokenised_reviews at 0x7f19b745fc80>,\n",
       "                                 use_idf=True, vocabulary=None)),\n",
       "                ('clf',\n",
       "                 LinearSVC(C=1.0, class_weight=None, dual=True,\n",
       "                           fit_intercept=True, intercept_scaling=1,\n",
       "                           loss='squared_hinge', max_iter=1000,\n",
       "                           multi_class='ovr', penalty='l2', random_state=None,\n",
       "                           tol=0.0001, verbose=0))],\n",
       "         verbose=False)"
      ]
     },
     "execution_count": 25,
     "metadata": {
      "tags": []
     },
     "output_type": "execute_result"
    }
   ],
   "source": [
    "clf.fit(X_train, y_train)"
   ]
  },
  {
   "cell_type": "code",
   "execution_count": 26,
   "metadata": {
    "id": "potNczFlynyH"
   },
   "outputs": [],
   "source": [
    "y_pred = clf.predict(X_test)"
   ]
  },
  {
   "cell_type": "code",
   "execution_count": 27,
   "metadata": {
    "colab": {
     "base_uri": "https://localhost:8080/"
    },
    "id": "m0vpL8dy2VCe",
    "outputId": "eba7e789-92a9-4d40-ed24-393f31baded9"
   },
   "outputs": [
    {
     "name": "stdout",
     "output_type": "stream",
     "text": [
      "              precision    recall  f1-score   support\n",
      "\n",
      "           0       0.63      0.62      0.62      4976\n",
      "           1       0.63      0.63      0.63      5024\n",
      "\n",
      "    accuracy                           0.63     10000\n",
      "   macro avg       0.63      0.63      0.63     10000\n",
      "weighted avg       0.63      0.63      0.63     10000\n",
      "\n"
     ]
    }
   ],
   "source": [
    "print(classification_report(y_test, y_pred))"
   ]
  },
  {
   "cell_type": "code",
   "execution_count": 28,
   "metadata": {
    "colab": {
     "base_uri": "https://localhost:8080/"
    },
    "id": "odCmVq6C2o6J",
    "outputId": "d6064688-0a09-4415-8d7f-ed6a3252cdbc"
   },
   "outputs": [
    {
     "name": "stdout",
     "output_type": "stream",
     "text": [
      "0.6271\n"
     ]
    }
   ],
   "source": [
    "print(accuracy_score(y_test, y_pred))"
   ]
  },
  {
   "cell_type": "code",
   "execution_count": 29,
   "metadata": {
    "colab": {
     "base_uri": "https://localhost:8080/"
    },
    "id": "w5hU1wof3of6",
    "outputId": "e13594a0-8042-499c-85ba-74c0e9bf6810"
   },
   "outputs": [
    {
     "data": {
      "text/plain": [
       "array([[3095, 1881],\n",
       "       [1848, 3176]])"
      ]
     },
     "execution_count": 29,
     "metadata": {
      "tags": []
     },
     "output_type": "execute_result"
    }
   ],
   "source": [
    "confusion_matrix(y_test, y_pred)\n"
   ]
  },
  {
   "cell_type": "code",
   "execution_count": 33,
   "metadata": {
    "colab": {
     "base_uri": "https://localhost:8080/",
     "height": 327
    },
    "id": "OHhp2pEa6cs2",
    "outputId": "86e92512-9d01-44a4-fe26-79065659a740"
   },
   "outputs": [
    {
     "data": {
      "text/plain": [
       "Text(0.5, 1.0, 'Confusion Matrix \\n Random Forest')"
      ]
     },
     "execution_count": 33,
     "metadata": {
      "tags": []
     },
     "output_type": "execute_result"
    },
    {
     "data": {
      "image/png": "[encoded data removed]",
      "text/plain": [
       "<Figure size 432x288 with 2 Axes>"
      ]
     },
     "metadata": {
      "needs_background": "light",
      "tags": []
     },
     "output_type": "display_data"
    }
   ],
   "source": [
    "disp = plot_confusion_matrix(clf, X_test, y_test,\n",
    "                     display_labels= [\"Negative\", 'Positive'])\n",
    "\n",
    "disp.ax_.set_title(\"Confusion Matrix \\n LinearSVC\")"
   ]
  },
  {
   "cell_type": "code",
   "execution_count": 40,
   "metadata": {
    "id": "AfjQAwJXhtNB"
   },
   "outputs": [],
   "source": [
    "# PR curve"
   ]
  },
  {
   "cell_type": "code",
   "execution_count": 41,
   "metadata": {
    "id": "EKjYmRYAiptl"
   },
   "outputs": [],
   "source": [
    "try:\n",
    "    from inspect import signature\n",
    "except ImportError:\n",
    "    from sklearn.externals.funcsigs import signature"
   ]
  },
  {
   "cell_type": "code",
   "execution_count": 42,
   "metadata": {
    "colab": {
     "base_uri": "https://localhost:8080/",
     "height": 638
    },
    "id": "zx48y2dziLlr",
    "outputId": "9214410e-89d3-4771-97df-48ae91236b8c"
   },
   "outputs": [
    {
     "data": {
      "text/plain": [
       "Text(0.5, 1.0, '2-class Precision-Recall curve: AP=0.58')"
      ]
     },
     "execution_count": 42,
     "metadata": {
      "tags": []
     },
     "output_type": "execute_result"
    },
    {
     "data": {
      "image/png": "[encoded data removed]",
      "text/plain": [
       "<Figure size 1080x720 with 1 Axes>"
      ]
     },
     "metadata": {
      "needs_background": "light",
      "tags": []
     },
     "output_type": "display_data"
    }
   ],
   "source": [
    "average_precision = average_precision_score(y_test, y_pred)\n",
    "\n",
    "precision, recall, _ = precision_recall_curve(y_test, y_pred)\n",
    "\n",
    "# In matplotlib < 1.5, plt.fill_between does not have a 'step' argument\n",
    "step_kwargs = ({'step': 'post'}\n",
    "               if 'step' in signature(plt.fill_between).parameters\n",
    "               else {})\n",
    "\n",
    "plt.figure(1, figsize = (15, 10))\n",
    "plt.step(recall, precision, color='b', alpha=0.2,\n",
    "         where='post')\n",
    "plt.fill_between(recall, precision, alpha=0.2, color='b', **step_kwargs)\n",
    "\n",
    "plt.xlabel('Recall')\n",
    "plt.ylabel('Precision')\n",
    "plt.ylim([0.0, 1.05])\n",
    "plt.xlim([0.0, 1.0])\n",
    "plt.title('2-class Precision-Recall curve: AP={0:0.2f}'.format(average_precision))"
   ]
  },
  {
   "cell_type": "code",
   "execution_count": 58,
   "metadata": {
    "id": "vDt8hp2efm5K"
   },
   "outputs": [],
   "source": [
    "cls_lst = [KNeighborsClassifier(),\n",
    "          SVC(),\n",
    "          GaussianProcessClassifier(),\n",
    "          DecisionTreeClassifier(),\n",
    "          RandomForestClassifier(),\n",
    "          AdaBoostClassifier(),\n",
    "          GaussianNB(),\n",
    "          QuadraticDiscriminantAnalysis()\n",
    "           ]\n",
    "\n",
    "\n",
    "def evaluate(df, cls):\n",
    "    accuracies = {}\n",
    "    \n",
    "    for cl in cls:\n",
    "        tfidf = TfidfVectorizer(tokenizer = tokenised_reviews)\n",
    "        classifier = cl\n",
    "        clf = Pipeline([('tfidf', tfidf), ('clf', classifier)])\n",
    "        X = clf.fit(df.drop('sentiment', axis=1))\n",
    "        y = df['sentiment']\n",
    "\n",
    "        X_train, X_test, y_train, y_test = train_test_split(X, y, test_size=0.33, random_state=17)\n",
    "\n",
    "        \n",
    "        cl.fit(X_train, y_train)\n",
    "        pred = cl.predict(X_test)\n",
    "        # print(classification_report(y_test, pred))\n",
    "        accuracies[cl.__class__.__name__] = accuracy_score(y_test, pred)\n",
    "        #print(accuracy_score(y_test, pred))\n",
    "    return accuracies\n",
    "\n",
    "\n"
   ]
  },
  {
   "cell_type": "code",
   "execution_count": 59,
   "metadata": {
    "colab": {
     "base_uri": "https://localhost:8080/",
     "height": 341
    },
    "id": "5EmFkstVgtwv",
    "outputId": "9bf0f881-b259-4f29-ca8c-2551313d15d9"
   },
   "outputs": [
    {
     "ename": "ValueError",
     "evalue": "ignored",
     "output_type": "error",
     "traceback": [
      "\u001b[0;31m---------------------------------------------------------------------------\u001b[0m",
      "\u001b[0;31mValueError\u001b[0m                                Traceback (most recent call last)",
      "\u001b[0;32m<ipython-input-59-928ec230389e>\u001b[0m in \u001b[0;36m<module>\u001b[0;34m()\u001b[0m\n\u001b[0;32m----> 1\u001b[0;31m \u001b[0maccuracy_dict\u001b[0m \u001b[0;34m=\u001b[0m \u001b[0mevaluate\u001b[0m\u001b[0;34m(\u001b[0m\u001b[0mdf\u001b[0m\u001b[0;34m,\u001b[0m \u001b[0mcls_lst\u001b[0m\u001b[0;34m)\u001b[0m\u001b[0;34m\u001b[0m\u001b[0;34m\u001b[0m\u001b[0m\n\u001b[0m\u001b[1;32m      2\u001b[0m \u001b[0maccuracy_df\u001b[0m \u001b[0;34m=\u001b[0m \u001b[0mpd\u001b[0m\u001b[0;34m.\u001b[0m\u001b[0mDataFrame\u001b[0m\u001b[0;34m(\u001b[0m\u001b[0maccuracy_dict\u001b[0m\u001b[0;34m,\u001b[0m \u001b[0mindex\u001b[0m\u001b[0;34m=\u001b[0m\u001b[0;34m[\u001b[0m\u001b[0;36m0\u001b[0m\u001b[0;34m]\u001b[0m\u001b[0;34m)\u001b[0m\u001b[0;34m\u001b[0m\u001b[0;34m\u001b[0m\u001b[0m\n",
      "\u001b[0;32m<ipython-input-58-21122b503477>\u001b[0m in \u001b[0;36mevaluate\u001b[0;34m(df, cls)\u001b[0m\n\u001b[1;32m     17\u001b[0m         \u001b[0mclassifier\u001b[0m \u001b[0;34m=\u001b[0m \u001b[0mcl\u001b[0m\u001b[0;34m\u001b[0m\u001b[0;34m\u001b[0m\u001b[0m\n\u001b[1;32m     18\u001b[0m         \u001b[0mclf\u001b[0m \u001b[0;34m=\u001b[0m \u001b[0mPipeline\u001b[0m\u001b[0;34m(\u001b[0m\u001b[0;34m[\u001b[0m\u001b[0;34m(\u001b[0m\u001b[0;34m'tfidf'\u001b[0m\u001b[0;34m,\u001b[0m \u001b[0mtfidf\u001b[0m\u001b[0;34m)\u001b[0m\u001b[0;34m,\u001b[0m \u001b[0;34m(\u001b[0m\u001b[0;34m'clf'\u001b[0m\u001b[0;34m,\u001b[0m \u001b[0mclassifier\u001b[0m\u001b[0;34m)\u001b[0m\u001b[0;34m]\u001b[0m\u001b[0;34m)\u001b[0m\u001b[0;34m\u001b[0m\u001b[0;34m\u001b[0m\u001b[0m\n\u001b[0;32m---> 19\u001b[0;31m         \u001b[0mX\u001b[0m \u001b[0;34m=\u001b[0m \u001b[0mclf\u001b[0m\u001b[0;34m.\u001b[0m\u001b[0mfit\u001b[0m\u001b[0;34m(\u001b[0m\u001b[0mdf\u001b[0m\u001b[0;34m.\u001b[0m\u001b[0mdrop\u001b[0m\u001b[0;34m(\u001b[0m\u001b[0;34m'sentiment'\u001b[0m\u001b[0;34m,\u001b[0m \u001b[0maxis\u001b[0m\u001b[0;34m=\u001b[0m\u001b[0;36m1\u001b[0m\u001b[0;34m)\u001b[0m\u001b[0;34m)\u001b[0m\u001b[0;34m\u001b[0m\u001b[0;34m\u001b[0m\u001b[0m\n\u001b[0m\u001b[1;32m     20\u001b[0m         \u001b[0my\u001b[0m \u001b[0;34m=\u001b[0m \u001b[0mdf\u001b[0m\u001b[0;34m[\u001b[0m\u001b[0;34m'sentiment'\u001b[0m\u001b[0;34m]\u001b[0m\u001b[0;34m\u001b[0m\u001b[0;34m\u001b[0m\u001b[0m\n\u001b[1;32m     21\u001b[0m \u001b[0;34m\u001b[0m\u001b[0m\n",
      "\u001b[0;32m/usr/local/lib/python3.6/dist-packages/sklearn/pipeline.py\u001b[0m in \u001b[0;36mfit\u001b[0;34m(self, X, y, **fit_params)\u001b[0m\n\u001b[1;32m    352\u001b[0m                                  self._log_message(len(self.steps) - 1)):\n\u001b[1;32m    353\u001b[0m             \u001b[0;32mif\u001b[0m \u001b[0mself\u001b[0m\u001b[0;34m.\u001b[0m\u001b[0m_final_estimator\u001b[0m \u001b[0;34m!=\u001b[0m \u001b[0;34m'passthrough'\u001b[0m\u001b[0;34m:\u001b[0m\u001b[0;34m\u001b[0m\u001b[0;34m\u001b[0m\u001b[0m\n\u001b[0;32m--> 354\u001b[0;31m                 \u001b[0mself\u001b[0m\u001b[0;34m.\u001b[0m\u001b[0m_final_estimator\u001b[0m\u001b[0;34m.\u001b[0m\u001b[0mfit\u001b[0m\u001b[0;34m(\u001b[0m\u001b[0mXt\u001b[0m\u001b[0;34m,\u001b[0m \u001b[0my\u001b[0m\u001b[0;34m,\u001b[0m \u001b[0;34m**\u001b[0m\u001b[0mfit_params\u001b[0m\u001b[0;34m)\u001b[0m\u001b[0;34m\u001b[0m\u001b[0;34m\u001b[0m\u001b[0m\n\u001b[0m\u001b[1;32m    355\u001b[0m         \u001b[0;32mreturn\u001b[0m \u001b[0mself\u001b[0m\u001b[0;34m\u001b[0m\u001b[0;34m\u001b[0m\u001b[0m\n\u001b[1;32m    356\u001b[0m \u001b[0;34m\u001b[0m\u001b[0m\n",
      "\u001b[0;32m/usr/local/lib/python3.6/dist-packages/sklearn/neighbors/_base.py\u001b[0m in \u001b[0;36mfit\u001b[0;34m(self, X, y)\u001b[0m\n\u001b[1;32m   1124\u001b[0m         \"\"\"\n\u001b[1;32m   1125\u001b[0m         \u001b[0;32mif\u001b[0m \u001b[0;32mnot\u001b[0m \u001b[0misinstance\u001b[0m\u001b[0;34m(\u001b[0m\u001b[0mX\u001b[0m\u001b[0;34m,\u001b[0m \u001b[0;34m(\u001b[0m\u001b[0mKDTree\u001b[0m\u001b[0;34m,\u001b[0m \u001b[0mBallTree\u001b[0m\u001b[0;34m)\u001b[0m\u001b[0;34m)\u001b[0m\u001b[0;34m:\u001b[0m\u001b[0;34m\u001b[0m\u001b[0;34m\u001b[0m\u001b[0m\n\u001b[0;32m-> 1126\u001b[0;31m             \u001b[0mX\u001b[0m\u001b[0;34m,\u001b[0m \u001b[0my\u001b[0m \u001b[0;34m=\u001b[0m \u001b[0mcheck_X_y\u001b[0m\u001b[0;34m(\u001b[0m\u001b[0mX\u001b[0m\u001b[0;34m,\u001b[0m \u001b[0my\u001b[0m\u001b[0;34m,\u001b[0m \u001b[0;34m\"csr\"\u001b[0m\u001b[0;34m,\u001b[0m \u001b[0mmulti_output\u001b[0m\u001b[0;34m=\u001b[0m\u001b[0;32mTrue\u001b[0m\u001b[0;34m)\u001b[0m\u001b[0;34m\u001b[0m\u001b[0;34m\u001b[0m\u001b[0m\n\u001b[0m\u001b[1;32m   1127\u001b[0m \u001b[0;34m\u001b[0m\u001b[0m\n\u001b[1;32m   1128\u001b[0m         \u001b[0;32mif\u001b[0m \u001b[0my\u001b[0m\u001b[0;34m.\u001b[0m\u001b[0mndim\u001b[0m \u001b[0;34m==\u001b[0m \u001b[0;36m1\u001b[0m \u001b[0;32mor\u001b[0m \u001b[0my\u001b[0m\u001b[0;34m.\u001b[0m\u001b[0mndim\u001b[0m \u001b[0;34m==\u001b[0m \u001b[0;36m2\u001b[0m \u001b[0;32mand\u001b[0m \u001b[0my\u001b[0m\u001b[0;34m.\u001b[0m\u001b[0mshape\u001b[0m\u001b[0;34m[\u001b[0m\u001b[0;36m1\u001b[0m\u001b[0;34m]\u001b[0m \u001b[0;34m==\u001b[0m \u001b[0;36m1\u001b[0m\u001b[0;34m:\u001b[0m\u001b[0;34m\u001b[0m\u001b[0;34m\u001b[0m\u001b[0m\n",
      "\u001b[0;32m/usr/local/lib/python3.6/dist-packages/sklearn/utils/validation.py\u001b[0m in \u001b[0;36mcheck_X_y\u001b[0;34m(X, y, accept_sparse, accept_large_sparse, dtype, order, copy, force_all_finite, ensure_2d, allow_nd, multi_output, ensure_min_samples, ensure_min_features, y_numeric, warn_on_dtype, estimator)\u001b[0m\n\u001b[1;32m    743\u001b[0m     \"\"\"\n\u001b[1;32m    744\u001b[0m     \u001b[0;32mif\u001b[0m \u001b[0my\u001b[0m \u001b[0;32mis\u001b[0m \u001b[0;32mNone\u001b[0m\u001b[0;34m:\u001b[0m\u001b[0;34m\u001b[0m\u001b[0;34m\u001b[0m\u001b[0m\n\u001b[0;32m--> 745\u001b[0;31m         \u001b[0;32mraise\u001b[0m \u001b[0mValueError\u001b[0m\u001b[0;34m(\u001b[0m\u001b[0;34m\"y cannot be None\"\u001b[0m\u001b[0;34m)\u001b[0m\u001b[0;34m\u001b[0m\u001b[0;34m\u001b[0m\u001b[0m\n\u001b[0m\u001b[1;32m    746\u001b[0m \u001b[0;34m\u001b[0m\u001b[0m\n\u001b[1;32m    747\u001b[0m     X = check_array(X, accept_sparse=accept_sparse,\n",
      "\u001b[0;31mValueError\u001b[0m: y cannot be None"
     ]
    }
   ],
   "source": [
    "accuracy_dict = evaluate(df, cls_lst)\n",
    "accuracy_df = pd.DataFrame(accuracy_dict, index=[0])"
   ]
  },
  {
   "cell_type": "code",
   "execution_count": 60,
   "metadata": {
    "id": "mfmIP8sXl5Oc"
   },
   "outputs": [],
   "source": [
    "#First will do a vectorisation then a classification\n",
    "clf1 = Pipeline([('tfidf', tfidf), ('clf', RandomForestClassifier())])"
   ]
  },
  {
   "cell_type": "code",
   "execution_count": 61,
   "metadata": {
    "colab": {
     "base_uri": "https://localhost:8080/"
    },
    "id": "g5L3LFErmEex",
    "outputId": "32345540-4f71-4a78-bda5-6555ac1f6520"
   },
   "outputs": [
    {
     "data": {
      "text/plain": [
       "Pipeline(memory=None,\n",
       "         steps=[('tfidf',\n",
       "                 TfidfVectorizer(analyzer='word', binary=False,\n",
       "                                 decode_error='strict',\n",
       "                                 dtype=<class 'numpy.float64'>,\n",
       "                                 encoding='utf-8', input='content',\n",
       "                                 lowercase=True, max_df=1.0, max_features=None,\n",
       "                                 min_df=1, ngram_range=(1, 1), norm='l2',\n",
       "                                 preprocessor=None, smooth_idf=True,\n",
       "                                 stop_words=None, strip_accents=None,\n",
       "                                 sublinear_tf=False,\n",
       "                                 token_pattern='...\n",
       "                 RandomForestClassifier(bootstrap=True, ccp_alpha=0.0,\n",
       "                                        class_weight=None, criterion='gini',\n",
       "                                        max_depth=None, max_features='auto',\n",
       "                                        max_leaf_nodes=None, max_samples=None,\n",
       "                                        min_impurity_decrease=0.0,\n",
       "                                        min_impurity_split=None,\n",
       "                                        min_samples_leaf=1, min_samples_split=2,\n",
       "                                        min_weight_fraction_leaf=0.0,\n",
       "                                        n_estimators=100, n_jobs=None,\n",
       "                                        oob_score=False, random_state=None,\n",
       "                                        verbose=0, warm_start=False))],\n",
       "         verbose=False)"
      ]
     },
     "execution_count": 61,
     "metadata": {
      "tags": []
     },
     "output_type": "execute_result"
    }
   ],
   "source": [
    "clf1.fit(X_train, y_train)"
   ]
  },
  {
   "cell_type": "code",
   "execution_count": 64,
   "metadata": {
    "id": "7F5itlktopql"
   },
   "outputs": [],
   "source": [
    "y_pred1 = clf1.predict(X_test)"
   ]
  },
  {
   "cell_type": "code",
   "execution_count": 65,
   "metadata": {
    "colab": {
     "base_uri": "https://localhost:8080/"
    },
    "id": "gJtvvd9CpUtx",
    "outputId": "000a1784-7caf-4848-a7a8-d8fb0a53fb56"
   },
   "outputs": [
    {
     "name": "stdout",
     "output_type": "stream",
     "text": [
      "              precision    recall  f1-score   support\n",
      "\n",
      "           0       0.63      0.62      0.62      4976\n",
      "           1       0.63      0.63      0.63      5024\n",
      "\n",
      "    accuracy                           0.63     10000\n",
      "   macro avg       0.63      0.63      0.63     10000\n",
      "weighted avg       0.63      0.63      0.63     10000\n",
      "\n"
     ]
    }
   ],
   "source": [
    "print(classification_report(y_test, y_pred1))"
   ]
  }
 ],
 "metadata": {
  "colab": {
   "collapsed_sections": [],
   "name": "model_first_iteration.ipynb",
   "provenance": [],
   "toc_visible": true
  },
  "kernelspec": {
   "display_name": "Python 3",
   "language": "python",
   "name": "python3"
  },
  "language_info": {
   "codemirror_mode": {
    "name": "ipython",
    "version": 3
   },
   "file_extension": ".py",
   "mimetype": "text/x-python",
   "name": "python",
   "nbconvert_exporter": "python",
   "pygments_lexer": "ipython3",
   "version": "3.6.12"
  }
 },
 "nbformat": 4,
 "nbformat_minor": 1
}
