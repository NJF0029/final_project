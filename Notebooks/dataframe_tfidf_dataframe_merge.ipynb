{
  "nbformat": 4,
  "nbformat_minor": 0,
  "metadata": {
    "colab": {
      "name": "dataframe_tfidf_dataframe_merge.ipynb",
      "provenance": []
    },
    "kernelspec": {
      "name": "python3",
      "display_name": "Python 3"
    }
  },
  "cells": [
    {
      "cell_type": "code",
      "metadata": {
        "id": "E6NV-IYUSMdI"
      },
      "source": [
        "import pandas as pd"
      ],
      "execution_count": 1,
      "outputs": []
    },
    {
      "cell_type": "code",
      "metadata": {
        "id": "vImK1kn5SFPM"
      },
      "source": [
        "#df = pd.read_pickle('/content/drive/MyDrive/ironhack_final_project/Imdb_doc2vec_v1.pckl')"
      ],
      "execution_count": 2,
      "outputs": []
    },
    {
      "cell_type": "code",
      "metadata": {
        "id": "pdiHHVnvUiY9"
      },
      "source": [
        "#df.shape"
      ],
      "execution_count": 3,
      "outputs": []
    },
    {
      "cell_type": "code",
      "metadata": {
        "id": "_9ViiimpSXMY"
      },
      "source": [
        "#tfidf_df = pd.read_pickle('/content/drive/MyDrive/ironhack_final_project/Imdb_tfidf.pckl')"
      ],
      "execution_count": 4,
      "outputs": []
    },
    {
      "cell_type": "code",
      "metadata": {
        "id": "8kdzcZ03Ubez"
      },
      "source": [
        "#tfidf_df.shape"
      ],
      "execution_count": 5,
      "outputs": []
    },
    {
      "cell_type": "code",
      "metadata": {
        "id": "SkCSwt-cTDUA"
      },
      "source": [
        "#df = pd.concat([df, tfidf_df], axis=1)"
      ],
      "execution_count": 6,
      "outputs": []
    },
    {
      "cell_type": "code",
      "metadata": {
        "id": "rn5IRWvYUPre"
      },
      "source": [
        "#df.shape"
      ],
      "execution_count": 7,
      "outputs": []
    },
    {
      "cell_type": "code",
      "metadata": {
        "id": "XjNrj34DtT_S"
      },
      "source": [
        "df = pd.read_pickle('/content/drive/MyDrive/ironhack_final_project/Imdb_db_cleaned_merged_final.pckl')"
      ],
      "execution_count": 8,
      "outputs": []
    },
    {
      "cell_type": "code",
      "metadata": {
        "colab": {
          "base_uri": "https://localhost:8080/"
        },
        "id": "nBbjmzUBwNqm",
        "outputId": "173e996d-1436-45ba-c4a3-02b6ffd518f2"
      },
      "source": [
        "df.shape"
      ],
      "execution_count": 9,
      "outputs": [
        {
          "output_type": "execute_result",
          "data": {
            "text/plain": [
              "(50000, 5192)"
            ]
          },
          "metadata": {
            "tags": []
          },
          "execution_count": 9
        }
      ]
    },
    {
      "cell_type": "code",
      "metadata": {
        "colab": {
          "base_uri": "https://localhost:8080/",
          "height": 695
        },
        "id": "gkjjNPSWo67a",
        "outputId": "e3797a7e-d164-442c-8894-896c5e08ff8f"
      },
      "source": [
        "df.head(5)"
      ],
      "execution_count": 10,
      "outputs": [
        {
          "output_type": "execute_result",
          "data": {
            "text/html": [
              "<div>\n",
              "<style scoped>\n",
              "    .dataframe tbody tr th:only-of-type {\n",
              "        vertical-align: middle;\n",
              "    }\n",
              "\n",
              "    .dataframe tbody tr th {\n",
              "        vertical-align: top;\n",
              "    }\n",
              "\n",
              "    .dataframe thead th {\n",
              "        text-align: right;\n",
              "    }\n",
              "</style>\n",
              "<table border=\"1\" class=\"dataframe\">\n",
              "  <thead>\n",
              "    <tr style=\"text-align: right;\">\n",
              "      <th></th>\n",
              "      <th>reviews</th>\n",
              "      <th>sentiment</th>\n",
              "      <th>review_clean</th>\n",
              "      <th>neg</th>\n",
              "      <th>neu</th>\n",
              "      <th>pos</th>\n",
              "      <th>compound</th>\n",
              "      <th>nb_char</th>\n",
              "      <th>nb_words</th>\n",
              "      <th>doc2vec_vector_0</th>\n",
              "      <th>doc2vec_vector_1</th>\n",
              "      <th>doc2vec_vector_2</th>\n",
              "      <th>doc2vec_vector_3</th>\n",
              "      <th>doc2vec_vector_4</th>\n",
              "      <th>word_aaron</th>\n",
              "      <th>word_abandon</th>\n",
              "      <th>word_abc</th>\n",
              "      <th>word_ability</th>\n",
              "      <th>word_able</th>\n",
              "      <th>word_aboard</th>\n",
              "      <th>word_abound</th>\n",
              "      <th>word_abraham</th>\n",
              "      <th>word_abrupt</th>\n",
              "      <th>word_abruptly</th>\n",
              "      <th>word_absence</th>\n",
              "      <th>word_absent</th>\n",
              "      <th>word_absolute</th>\n",
              "      <th>word_absolutely</th>\n",
              "      <th>word_absorb</th>\n",
              "      <th>word_absurd</th>\n",
              "      <th>word_absurdity</th>\n",
              "      <th>word_abuse</th>\n",
              "      <th>word_abusive</th>\n",
              "      <th>word_abysmal</th>\n",
              "      <th>word_academy</th>\n",
              "      <th>word_accent</th>\n",
              "      <th>word_accept</th>\n",
              "      <th>word_acceptable</th>\n",
              "      <th>word_acceptance</th>\n",
              "      <th>word_access</th>\n",
              "      <th>...</th>\n",
              "      <th>word_worthless</th>\n",
              "      <th>word_worthwhile</th>\n",
              "      <th>word_worthy</th>\n",
              "      <th>word_would</th>\n",
              "      <th>word_wound</th>\n",
              "      <th>word_wow</th>\n",
              "      <th>word_wrap</th>\n",
              "      <th>word_wreck</th>\n",
              "      <th>word_wrench</th>\n",
              "      <th>word_wrestle</th>\n",
              "      <th>word_wretched</th>\n",
              "      <th>word_write</th>\n",
              "      <th>word_writer</th>\n",
              "      <th>word_writing</th>\n",
              "      <th>word_wrong</th>\n",
              "      <th>word_wtf</th>\n",
              "      <th>word_wwii</th>\n",
              "      <th>word_www</th>\n",
              "      <th>word_ya</th>\n",
              "      <th>word_yard</th>\n",
              "      <th>word_yawn</th>\n",
              "      <th>word_yeah</th>\n",
              "      <th>word_year</th>\n",
              "      <th>word_yearn</th>\n",
              "      <th>word_yell</th>\n",
              "      <th>word_yellow</th>\n",
              "      <th>word_yep</th>\n",
              "      <th>word_yes</th>\n",
              "      <th>word_yesterday</th>\n",
              "      <th>word_yet</th>\n",
              "      <th>word_york</th>\n",
              "      <th>word_young</th>\n",
              "      <th>word_youngster</th>\n",
              "      <th>word_youth</th>\n",
              "      <th>word_youthful</th>\n",
              "      <th>word_youtube</th>\n",
              "      <th>word_zero</th>\n",
              "      <th>word_zombie</th>\n",
              "      <th>word_zone</th>\n",
              "      <th>word_zoom</th>\n",
              "    </tr>\n",
              "  </thead>\n",
              "  <tbody>\n",
              "    <tr>\n",
              "      <th>0</th>\n",
              "      <td>Having just finished reading the book \"One of ...</td>\n",
              "      <td>0</td>\n",
              "      <td>finish reading book one kind week ago think wo...</td>\n",
              "      <td>0.071</td>\n",
              "      <td>0.820</td>\n",
              "      <td>0.109</td>\n",
              "      <td>0.9364</td>\n",
              "      <td>1629</td>\n",
              "      <td>274</td>\n",
              "      <td>-0.406136</td>\n",
              "      <td>0.168257</td>\n",
              "      <td>-0.180792</td>\n",
              "      <td>0.076184</td>\n",
              "      <td>0.573996</td>\n",
              "      <td>0.0</td>\n",
              "      <td>0.0</td>\n",
              "      <td>0.0</td>\n",
              "      <td>0.091224</td>\n",
              "      <td>0.0</td>\n",
              "      <td>0.0</td>\n",
              "      <td>0.0</td>\n",
              "      <td>0.0</td>\n",
              "      <td>0.0</td>\n",
              "      <td>0.0</td>\n",
              "      <td>0.0</td>\n",
              "      <td>0.0</td>\n",
              "      <td>0.0</td>\n",
              "      <td>0.072996</td>\n",
              "      <td>0.0</td>\n",
              "      <td>0.0</td>\n",
              "      <td>0.0</td>\n",
              "      <td>0.0</td>\n",
              "      <td>0.0</td>\n",
              "      <td>0.0</td>\n",
              "      <td>0.0</td>\n",
              "      <td>0.0</td>\n",
              "      <td>0.000000</td>\n",
              "      <td>0.0</td>\n",
              "      <td>0.0</td>\n",
              "      <td>0.0</td>\n",
              "      <td>...</td>\n",
              "      <td>0.0</td>\n",
              "      <td>0.0</td>\n",
              "      <td>0.0</td>\n",
              "      <td>0.079872</td>\n",
              "      <td>0.0</td>\n",
              "      <td>0.0</td>\n",
              "      <td>0.0</td>\n",
              "      <td>0.0</td>\n",
              "      <td>0.0</td>\n",
              "      <td>0.0</td>\n",
              "      <td>0.0</td>\n",
              "      <td>0.0</td>\n",
              "      <td>0.0</td>\n",
              "      <td>0.0</td>\n",
              "      <td>0.0</td>\n",
              "      <td>0.0</td>\n",
              "      <td>0.0</td>\n",
              "      <td>0.0</td>\n",
              "      <td>0.0</td>\n",
              "      <td>0.0</td>\n",
              "      <td>0.0</td>\n",
              "      <td>0.0</td>\n",
              "      <td>0.000000</td>\n",
              "      <td>0.0</td>\n",
              "      <td>0.0</td>\n",
              "      <td>0.0</td>\n",
              "      <td>0.0</td>\n",
              "      <td>0.000000</td>\n",
              "      <td>0.0</td>\n",
              "      <td>0.063739</td>\n",
              "      <td>0.0</td>\n",
              "      <td>0.000000</td>\n",
              "      <td>0.0</td>\n",
              "      <td>0.0</td>\n",
              "      <td>0.0</td>\n",
              "      <td>0.0</td>\n",
              "      <td>0.0</td>\n",
              "      <td>0.0</td>\n",
              "      <td>0.0</td>\n",
              "      <td>0.0</td>\n",
              "    </tr>\n",
              "    <tr>\n",
              "      <th>1</th>\n",
              "      <td>WEEE this is still jolly good fun! As with mos...</td>\n",
              "      <td>1</td>\n",
              "      <td>weee still jolly good fun friend see movie hbo...</td>\n",
              "      <td>0.079</td>\n",
              "      <td>0.747</td>\n",
              "      <td>0.175</td>\n",
              "      <td>0.7895</td>\n",
              "      <td>418</td>\n",
              "      <td>84</td>\n",
              "      <td>-0.080176</td>\n",
              "      <td>0.015398</td>\n",
              "      <td>-0.327595</td>\n",
              "      <td>0.015183</td>\n",
              "      <td>0.200012</td>\n",
              "      <td>0.0</td>\n",
              "      <td>0.0</td>\n",
              "      <td>0.0</td>\n",
              "      <td>0.000000</td>\n",
              "      <td>0.0</td>\n",
              "      <td>0.0</td>\n",
              "      <td>0.0</td>\n",
              "      <td>0.0</td>\n",
              "      <td>0.0</td>\n",
              "      <td>0.0</td>\n",
              "      <td>0.0</td>\n",
              "      <td>0.0</td>\n",
              "      <td>0.0</td>\n",
              "      <td>0.000000</td>\n",
              "      <td>0.0</td>\n",
              "      <td>0.0</td>\n",
              "      <td>0.0</td>\n",
              "      <td>0.0</td>\n",
              "      <td>0.0</td>\n",
              "      <td>0.0</td>\n",
              "      <td>0.0</td>\n",
              "      <td>0.0</td>\n",
              "      <td>0.000000</td>\n",
              "      <td>0.0</td>\n",
              "      <td>0.0</td>\n",
              "      <td>0.0</td>\n",
              "      <td>...</td>\n",
              "      <td>0.0</td>\n",
              "      <td>0.0</td>\n",
              "      <td>0.0</td>\n",
              "      <td>0.000000</td>\n",
              "      <td>0.0</td>\n",
              "      <td>0.0</td>\n",
              "      <td>0.0</td>\n",
              "      <td>0.0</td>\n",
              "      <td>0.0</td>\n",
              "      <td>0.0</td>\n",
              "      <td>0.0</td>\n",
              "      <td>0.0</td>\n",
              "      <td>0.0</td>\n",
              "      <td>0.0</td>\n",
              "      <td>0.0</td>\n",
              "      <td>0.0</td>\n",
              "      <td>0.0</td>\n",
              "      <td>0.0</td>\n",
              "      <td>0.0</td>\n",
              "      <td>0.0</td>\n",
              "      <td>0.0</td>\n",
              "      <td>0.0</td>\n",
              "      <td>0.110298</td>\n",
              "      <td>0.0</td>\n",
              "      <td>0.0</td>\n",
              "      <td>0.0</td>\n",
              "      <td>0.0</td>\n",
              "      <td>0.000000</td>\n",
              "      <td>0.0</td>\n",
              "      <td>0.000000</td>\n",
              "      <td>0.0</td>\n",
              "      <td>0.262566</td>\n",
              "      <td>0.0</td>\n",
              "      <td>0.0</td>\n",
              "      <td>0.0</td>\n",
              "      <td>0.0</td>\n",
              "      <td>0.0</td>\n",
              "      <td>0.0</td>\n",
              "      <td>0.0</td>\n",
              "      <td>0.0</td>\n",
              "    </tr>\n",
              "    <tr>\n",
              "      <th>2</th>\n",
              "      <td>Well I guess I know the answer to that questio...</td>\n",
              "      <td>0</td>\n",
              "      <td>well guess know answer question money bombard ...</td>\n",
              "      <td>0.137</td>\n",
              "      <td>0.718</td>\n",
              "      <td>0.145</td>\n",
              "      <td>-0.4044</td>\n",
              "      <td>1227</td>\n",
              "      <td>218</td>\n",
              "      <td>-0.288821</td>\n",
              "      <td>0.038533</td>\n",
              "      <td>-0.339843</td>\n",
              "      <td>0.126955</td>\n",
              "      <td>0.638754</td>\n",
              "      <td>0.0</td>\n",
              "      <td>0.0</td>\n",
              "      <td>0.0</td>\n",
              "      <td>0.000000</td>\n",
              "      <td>0.0</td>\n",
              "      <td>0.0</td>\n",
              "      <td>0.0</td>\n",
              "      <td>0.0</td>\n",
              "      <td>0.0</td>\n",
              "      <td>0.0</td>\n",
              "      <td>0.0</td>\n",
              "      <td>0.0</td>\n",
              "      <td>0.0</td>\n",
              "      <td>0.000000</td>\n",
              "      <td>0.0</td>\n",
              "      <td>0.0</td>\n",
              "      <td>0.0</td>\n",
              "      <td>0.0</td>\n",
              "      <td>0.0</td>\n",
              "      <td>0.0</td>\n",
              "      <td>0.0</td>\n",
              "      <td>0.0</td>\n",
              "      <td>0.000000</td>\n",
              "      <td>0.0</td>\n",
              "      <td>0.0</td>\n",
              "      <td>0.0</td>\n",
              "      <td>...</td>\n",
              "      <td>0.0</td>\n",
              "      <td>0.0</td>\n",
              "      <td>0.0</td>\n",
              "      <td>0.000000</td>\n",
              "      <td>0.0</td>\n",
              "      <td>0.0</td>\n",
              "      <td>0.0</td>\n",
              "      <td>0.0</td>\n",
              "      <td>0.0</td>\n",
              "      <td>0.0</td>\n",
              "      <td>0.0</td>\n",
              "      <td>0.0</td>\n",
              "      <td>0.0</td>\n",
              "      <td>0.0</td>\n",
              "      <td>0.0</td>\n",
              "      <td>0.0</td>\n",
              "      <td>0.0</td>\n",
              "      <td>0.0</td>\n",
              "      <td>0.0</td>\n",
              "      <td>0.0</td>\n",
              "      <td>0.0</td>\n",
              "      <td>0.0</td>\n",
              "      <td>0.000000</td>\n",
              "      <td>0.0</td>\n",
              "      <td>0.0</td>\n",
              "      <td>0.0</td>\n",
              "      <td>0.0</td>\n",
              "      <td>0.086481</td>\n",
              "      <td>0.0</td>\n",
              "      <td>0.000000</td>\n",
              "      <td>0.0</td>\n",
              "      <td>0.000000</td>\n",
              "      <td>0.0</td>\n",
              "      <td>0.0</td>\n",
              "      <td>0.0</td>\n",
              "      <td>0.0</td>\n",
              "      <td>0.0</td>\n",
              "      <td>0.0</td>\n",
              "      <td>0.0</td>\n",
              "      <td>0.0</td>\n",
              "    </tr>\n",
              "    <tr>\n",
              "      <th>3</th>\n",
              "      <td>This is easily one of the best movies of the 1...</td>\n",
              "      <td>1</td>\n",
              "      <td>easily one best movie otto preminger direct fo...</td>\n",
              "      <td>0.079</td>\n",
              "      <td>0.737</td>\n",
              "      <td>0.184</td>\n",
              "      <td>0.9184</td>\n",
              "      <td>628</td>\n",
              "      <td>112</td>\n",
              "      <td>0.460414</td>\n",
              "      <td>0.148562</td>\n",
              "      <td>-0.364555</td>\n",
              "      <td>0.304457</td>\n",
              "      <td>0.196561</td>\n",
              "      <td>0.0</td>\n",
              "      <td>0.0</td>\n",
              "      <td>0.0</td>\n",
              "      <td>0.000000</td>\n",
              "      <td>0.0</td>\n",
              "      <td>0.0</td>\n",
              "      <td>0.0</td>\n",
              "      <td>0.0</td>\n",
              "      <td>0.0</td>\n",
              "      <td>0.0</td>\n",
              "      <td>0.0</td>\n",
              "      <td>0.0</td>\n",
              "      <td>0.0</td>\n",
              "      <td>0.000000</td>\n",
              "      <td>0.0</td>\n",
              "      <td>0.0</td>\n",
              "      <td>0.0</td>\n",
              "      <td>0.0</td>\n",
              "      <td>0.0</td>\n",
              "      <td>0.0</td>\n",
              "      <td>0.0</td>\n",
              "      <td>0.0</td>\n",
              "      <td>0.000000</td>\n",
              "      <td>0.0</td>\n",
              "      <td>0.0</td>\n",
              "      <td>0.0</td>\n",
              "      <td>...</td>\n",
              "      <td>0.0</td>\n",
              "      <td>0.0</td>\n",
              "      <td>0.0</td>\n",
              "      <td>0.000000</td>\n",
              "      <td>0.0</td>\n",
              "      <td>0.0</td>\n",
              "      <td>0.0</td>\n",
              "      <td>0.0</td>\n",
              "      <td>0.0</td>\n",
              "      <td>0.0</td>\n",
              "      <td>0.0</td>\n",
              "      <td>0.0</td>\n",
              "      <td>0.0</td>\n",
              "      <td>0.0</td>\n",
              "      <td>0.0</td>\n",
              "      <td>0.0</td>\n",
              "      <td>0.0</td>\n",
              "      <td>0.0</td>\n",
              "      <td>0.0</td>\n",
              "      <td>0.0</td>\n",
              "      <td>0.0</td>\n",
              "      <td>0.0</td>\n",
              "      <td>0.000000</td>\n",
              "      <td>0.0</td>\n",
              "      <td>0.0</td>\n",
              "      <td>0.0</td>\n",
              "      <td>0.0</td>\n",
              "      <td>0.000000</td>\n",
              "      <td>0.0</td>\n",
              "      <td>0.000000</td>\n",
              "      <td>0.0</td>\n",
              "      <td>0.000000</td>\n",
              "      <td>0.0</td>\n",
              "      <td>0.0</td>\n",
              "      <td>0.0</td>\n",
              "      <td>0.0</td>\n",
              "      <td>0.0</td>\n",
              "      <td>0.0</td>\n",
              "      <td>0.0</td>\n",
              "      <td>0.0</td>\n",
              "    </tr>\n",
              "    <tr>\n",
              "      <th>4</th>\n",
              "      <td>The story is about Ankush (Abhay Deol) - who i...</td>\n",
              "      <td>1</td>\n",
              "      <td>story ankush abhay deol professional marriage ...</td>\n",
              "      <td>0.018</td>\n",
              "      <td>0.735</td>\n",
              "      <td>0.247</td>\n",
              "      <td>0.9992</td>\n",
              "      <td>2628</td>\n",
              "      <td>482</td>\n",
              "      <td>-0.155596</td>\n",
              "      <td>0.596693</td>\n",
              "      <td>-0.176754</td>\n",
              "      <td>0.119736</td>\n",
              "      <td>0.500467</td>\n",
              "      <td>0.0</td>\n",
              "      <td>0.0</td>\n",
              "      <td>0.0</td>\n",
              "      <td>0.000000</td>\n",
              "      <td>0.0</td>\n",
              "      <td>0.0</td>\n",
              "      <td>0.0</td>\n",
              "      <td>0.0</td>\n",
              "      <td>0.0</td>\n",
              "      <td>0.0</td>\n",
              "      <td>0.0</td>\n",
              "      <td>0.0</td>\n",
              "      <td>0.0</td>\n",
              "      <td>0.000000</td>\n",
              "      <td>0.0</td>\n",
              "      <td>0.0</td>\n",
              "      <td>0.0</td>\n",
              "      <td>0.0</td>\n",
              "      <td>0.0</td>\n",
              "      <td>0.0</td>\n",
              "      <td>0.0</td>\n",
              "      <td>0.0</td>\n",
              "      <td>0.063412</td>\n",
              "      <td>0.0</td>\n",
              "      <td>0.0</td>\n",
              "      <td>0.0</td>\n",
              "      <td>...</td>\n",
              "      <td>0.0</td>\n",
              "      <td>0.0</td>\n",
              "      <td>0.0</td>\n",
              "      <td>0.054113</td>\n",
              "      <td>0.0</td>\n",
              "      <td>0.0</td>\n",
              "      <td>0.0</td>\n",
              "      <td>0.0</td>\n",
              "      <td>0.0</td>\n",
              "      <td>0.0</td>\n",
              "      <td>0.0</td>\n",
              "      <td>0.0</td>\n",
              "      <td>0.0</td>\n",
              "      <td>0.0</td>\n",
              "      <td>0.0</td>\n",
              "      <td>0.0</td>\n",
              "      <td>0.0</td>\n",
              "      <td>0.0</td>\n",
              "      <td>0.0</td>\n",
              "      <td>0.0</td>\n",
              "      <td>0.0</td>\n",
              "      <td>0.0</td>\n",
              "      <td>0.000000</td>\n",
              "      <td>0.0</td>\n",
              "      <td>0.0</td>\n",
              "      <td>0.0</td>\n",
              "      <td>0.0</td>\n",
              "      <td>0.000000</td>\n",
              "      <td>0.0</td>\n",
              "      <td>0.000000</td>\n",
              "      <td>0.0</td>\n",
              "      <td>0.000000</td>\n",
              "      <td>0.0</td>\n",
              "      <td>0.0</td>\n",
              "      <td>0.0</td>\n",
              "      <td>0.0</td>\n",
              "      <td>0.0</td>\n",
              "      <td>0.0</td>\n",
              "      <td>0.0</td>\n",
              "      <td>0.0</td>\n",
              "    </tr>\n",
              "  </tbody>\n",
              "</table>\n",
              "<p>5 rows × 5192 columns</p>\n",
              "</div>"
            ],
            "text/plain": [
              "                                             reviews  ...  word_zoom\n",
              "0  Having just finished reading the book \"One of ...  ...        0.0\n",
              "1  WEEE this is still jolly good fun! As with mos...  ...        0.0\n",
              "2  Well I guess I know the answer to that questio...  ...        0.0\n",
              "3  This is easily one of the best movies of the 1...  ...        0.0\n",
              "4  The story is about Ankush (Abhay Deol) - who i...  ...        0.0\n",
              "\n",
              "[5 rows x 5192 columns]"
            ]
          },
          "metadata": {
            "tags": []
          },
          "execution_count": 10
        }
      ]
    },
    {
      "cell_type": "markdown",
      "metadata": {
        "id": "TpKNzlf6UenZ"
      },
      "source": [
        "## Exploration - 2"
      ]
    },
    {
      "cell_type": "code",
      "metadata": {
        "colab": {
          "base_uri": "https://localhost:8080/",
          "height": 111
        },
        "id": "pqk3oqewtOko",
        "outputId": "6f42854b-c463-4c22-d606-e1a7d891e8b3"
      },
      "source": [
        "# show is_bad_review distribution\n",
        "df[\"sentiment\"].value_counts().to_frame()"
      ],
      "execution_count": 11,
      "outputs": [
        {
          "output_type": "execute_result",
          "data": {
            "text/html": [
              "<div>\n",
              "<style scoped>\n",
              "    .dataframe tbody tr th:only-of-type {\n",
              "        vertical-align: middle;\n",
              "    }\n",
              "\n",
              "    .dataframe tbody tr th {\n",
              "        vertical-align: top;\n",
              "    }\n",
              "\n",
              "    .dataframe thead th {\n",
              "        text-align: right;\n",
              "    }\n",
              "</style>\n",
              "<table border=\"1\" class=\"dataframe\">\n",
              "  <thead>\n",
              "    <tr style=\"text-align: right;\">\n",
              "      <th></th>\n",
              "      <th>sentiment</th>\n",
              "    </tr>\n",
              "  </thead>\n",
              "  <tbody>\n",
              "    <tr>\n",
              "      <th>1</th>\n",
              "      <td>25000</td>\n",
              "    </tr>\n",
              "    <tr>\n",
              "      <th>0</th>\n",
              "      <td>25000</td>\n",
              "    </tr>\n",
              "  </tbody>\n",
              "</table>\n",
              "</div>"
            ],
            "text/plain": [
              "   sentiment\n",
              "1      25000\n",
              "0      25000"
            ]
          },
          "metadata": {
            "tags": []
          },
          "execution_count": 11
        }
      ]
    },
    {
      "cell_type": "code",
      "metadata": {
        "colab": {
          "base_uri": "https://localhost:8080/",
          "height": 359
        },
        "id": "2hIH3WgGy-l5",
        "outputId": "b282b913-3c02-440c-e3db-dd010963f3ee"
      },
      "source": [
        "# highest positive sentiment reviews (with more than 5 words)\n",
        "df[df[\"nb_words\"] >= 5].sort_values(\"pos\", ascending = False)[[\"reviews\", \"pos\"]].head(10)"
      ],
      "execution_count": 12,
      "outputs": [
        {
          "output_type": "execute_result",
          "data": {
            "text/html": [
              "<div>\n",
              "<style scoped>\n",
              "    .dataframe tbody tr th:only-of-type {\n",
              "        vertical-align: middle;\n",
              "    }\n",
              "\n",
              "    .dataframe tbody tr th {\n",
              "        vertical-align: top;\n",
              "    }\n",
              "\n",
              "    .dataframe thead th {\n",
              "        text-align: right;\n",
              "    }\n",
              "</style>\n",
              "<table border=\"1\" class=\"dataframe\">\n",
              "  <thead>\n",
              "    <tr style=\"text-align: right;\">\n",
              "      <th></th>\n",
              "      <th>reviews</th>\n",
              "      <th>pos</th>\n",
              "    </tr>\n",
              "  </thead>\n",
              "  <tbody>\n",
              "    <tr>\n",
              "      <th>41569</th>\n",
              "      <td>I smiled through the whole film. The music is ...</td>\n",
              "      <td>0.548</td>\n",
              "    </tr>\n",
              "    <tr>\n",
              "      <th>38103</th>\n",
              "      <td>Great movie, great actors, great soundtrack! I...</td>\n",
              "      <td>0.531</td>\n",
              "    </tr>\n",
              "    <tr>\n",
              "      <th>37425</th>\n",
              "      <td>Great story, great music. A heartwarming love ...</td>\n",
              "      <td>0.528</td>\n",
              "    </tr>\n",
              "    <tr>\n",
              "      <th>24206</th>\n",
              "      <td>I LOVE this movie! Beautifully funny and utter...</td>\n",
              "      <td>0.523</td>\n",
              "    </tr>\n",
              "    <tr>\n",
              "      <th>32910</th>\n",
              "      <td>The premise is a bit better than the execution...</td>\n",
              "      <td>0.507</td>\n",
              "    </tr>\n",
              "    <tr>\n",
              "      <th>13991</th>\n",
              "      <td>this is a great movie. I love the series on tv...</td>\n",
              "      <td>0.506</td>\n",
              "    </tr>\n",
              "    <tr>\n",
              "      <th>16638</th>\n",
              "      <td>This is an excellent movie and should be prese...</td>\n",
              "      <td>0.504</td>\n",
              "    </tr>\n",
              "    <tr>\n",
              "      <th>49645</th>\n",
              "      <td>This is definitely a girl movie. My husband fo...</td>\n",
              "      <td>0.503</td>\n",
              "    </tr>\n",
              "    <tr>\n",
              "      <th>7819</th>\n",
              "      <td>This film ain't half bad. It may be a little l...</td>\n",
              "      <td>0.497</td>\n",
              "    </tr>\n",
              "    <tr>\n",
              "      <th>25898</th>\n",
              "      <td>Smallville episode Justice is the best episode...</td>\n",
              "      <td>0.495</td>\n",
              "    </tr>\n",
              "  </tbody>\n",
              "</table>\n",
              "</div>"
            ],
            "text/plain": [
              "                                                 reviews    pos\n",
              "41569  I smiled through the whole film. The music is ...  0.548\n",
              "38103  Great movie, great actors, great soundtrack! I...  0.531\n",
              "37425  Great story, great music. A heartwarming love ...  0.528\n",
              "24206  I LOVE this movie! Beautifully funny and utter...  0.523\n",
              "32910  The premise is a bit better than the execution...  0.507\n",
              "13991  this is a great movie. I love the series on tv...  0.506\n",
              "16638  This is an excellent movie and should be prese...  0.504\n",
              "49645  This is definitely a girl movie. My husband fo...  0.503\n",
              "7819   This film ain't half bad. It may be a little l...  0.497\n",
              "25898  Smallville episode Justice is the best episode...  0.495"
            ]
          },
          "metadata": {
            "tags": []
          },
          "execution_count": 12
        }
      ]
    },
    {
      "cell_type": "code",
      "metadata": {
        "colab": {
          "base_uri": "https://localhost:8080/",
          "height": 359
        },
        "id": "TiMxQRq2UNfR",
        "outputId": "c21213d9-07d2-4048-9773-b9c7e3aa4d42"
      },
      "source": [
        "# lowest negative sentiment reviews (with more than 5 words)\n",
        "df[df[\"nb_words\"] >= 5].sort_values(\"neg\", ascending = False)[[\"reviews\", \"neg\"]].head(10)"
      ],
      "execution_count": 13,
      "outputs": [
        {
          "output_type": "execute_result",
          "data": {
            "text/html": [
              "<div>\n",
              "<style scoped>\n",
              "    .dataframe tbody tr th:only-of-type {\n",
              "        vertical-align: middle;\n",
              "    }\n",
              "\n",
              "    .dataframe tbody tr th {\n",
              "        vertical-align: top;\n",
              "    }\n",
              "\n",
              "    .dataframe thead th {\n",
              "        text-align: right;\n",
              "    }\n",
              "</style>\n",
              "<table border=\"1\" class=\"dataframe\">\n",
              "  <thead>\n",
              "    <tr style=\"text-align: right;\">\n",
              "      <th></th>\n",
              "      <th>reviews</th>\n",
              "      <th>neg</th>\n",
              "    </tr>\n",
              "  </thead>\n",
              "  <tbody>\n",
              "    <tr>\n",
              "      <th>27040</th>\n",
              "      <td>This was truly horrible. Bad acting, bad writi...</td>\n",
              "      <td>0.580</td>\n",
              "    </tr>\n",
              "    <tr>\n",
              "      <th>11961</th>\n",
              "      <td>Horrible movie. This movie beat out revenge of...</td>\n",
              "      <td>0.466</td>\n",
              "    </tr>\n",
              "    <tr>\n",
              "      <th>21824</th>\n",
              "      <td>Horrible movie. This movie beat out revenge of...</td>\n",
              "      <td>0.466</td>\n",
              "    </tr>\n",
              "    <tr>\n",
              "      <th>7519</th>\n",
              "      <td>I've seen several of these body snatcher type ...</td>\n",
              "      <td>0.454</td>\n",
              "    </tr>\n",
              "    <tr>\n",
              "      <th>22806</th>\n",
              "      <td>I guess I've seen worse films, but that may be...</td>\n",
              "      <td>0.452</td>\n",
              "    </tr>\n",
              "    <tr>\n",
              "      <th>18826</th>\n",
              "      <td>the tortuous emotional impact is degrading, wh...</td>\n",
              "      <td>0.438</td>\n",
              "    </tr>\n",
              "    <tr>\n",
              "      <th>3647</th>\n",
              "      <td>I am the kind of person who can enjoy a good B...</td>\n",
              "      <td>0.438</td>\n",
              "    </tr>\n",
              "    <tr>\n",
              "      <th>22388</th>\n",
              "      <td>This pile of sh!t is tied in my book as the wo...</td>\n",
              "      <td>0.428</td>\n",
              "    </tr>\n",
              "    <tr>\n",
              "      <th>24763</th>\n",
              "      <td>The English translation of the title on the DV...</td>\n",
              "      <td>0.428</td>\n",
              "    </tr>\n",
              "    <tr>\n",
              "      <th>43963</th>\n",
              "      <td>This movie is pathetic in every way possible. ...</td>\n",
              "      <td>0.424</td>\n",
              "    </tr>\n",
              "  </tbody>\n",
              "</table>\n",
              "</div>"
            ],
            "text/plain": [
              "                                                 reviews    neg\n",
              "27040  This was truly horrible. Bad acting, bad writi...  0.580\n",
              "11961  Horrible movie. This movie beat out revenge of...  0.466\n",
              "21824  Horrible movie. This movie beat out revenge of...  0.466\n",
              "7519   I've seen several of these body snatcher type ...  0.454\n",
              "22806  I guess I've seen worse films, but that may be...  0.452\n",
              "18826  the tortuous emotional impact is degrading, wh...  0.438\n",
              "3647   I am the kind of person who can enjoy a good B...  0.438\n",
              "22388  This pile of sh!t is tied in my book as the wo...  0.428\n",
              "24763  The English translation of the title on the DV...  0.428\n",
              "43963  This movie is pathetic in every way possible. ...  0.424"
            ]
          },
          "metadata": {
            "tags": []
          },
          "execution_count": 13
        }
      ]
    },
    {
      "cell_type": "code",
      "metadata": {
        "colab": {
          "base_uri": "https://localhost:8080/",
          "height": 367
        },
        "id": "WO6h5XdEVEhY",
        "outputId": "ad8ec49e-a647-41ec-9491-989567e68d43"
      },
      "source": [
        "# plot sentiment distribution for positive and negative reviews\n",
        "\n",
        "import seaborn as sns\n",
        "\n",
        "for x in [0, 1]:\n",
        "    subset = df[df['sentiment'] == x]\n",
        "    \n",
        "    # Draw the density plot\n",
        "    if x == 1:\n",
        "        label = \"Good reviews\"\n",
        "    else:\n",
        "        label = \"Bad reviews\"\n",
        "    sns.distplot(subset['compound'],hist = False, label = label)\n",
        "    "
      ],
      "execution_count": 14,
      "outputs": [
        {
          "output_type": "stream",
          "text": [
            "/usr/local/lib/python3.6/dist-packages/seaborn/distributions.py:2551: FutureWarning: `distplot` is a deprecated function and will be removed in a future version. Please adapt your code to use either `displot` (a figure-level function with similar flexibility) or `kdeplot` (an axes-level function for kernel density plots).\n",
            "  warnings.warn(msg, FutureWarning)\n",
            "/usr/local/lib/python3.6/dist-packages/seaborn/distributions.py:2551: FutureWarning: `distplot` is a deprecated function and will be removed in a future version. Please adapt your code to use either `displot` (a figure-level function with similar flexibility) or `kdeplot` (an axes-level function for kernel density plots).\n",
            "  warnings.warn(msg, FutureWarning)\n"
          ],
          "name": "stderr"
        },
        {
          "output_type": "display_data",
          "data": {
            "image/png": "[encoded data removed]",
            "text/plain": [
              "<Figure size 432x288 with 1 Axes>"
            ]
          },
          "metadata": {
            "tags": [],
            "needs_background": "light"
          }
        }
      ]
    },
    {
      "cell_type": "markdown",
      "metadata": {
        "id": "9QNyoRJJYeF_"
      },
      "source": [
        "### Train Model "
      ]
    },
    {
      "cell_type": "code",
      "metadata": {
        "id": "YqaX3R0uYciX"
      },
      "source": [
        "# feature selection\n",
        "y_label = \"sentiment\"\n",
        "#features = df.drop(label,\"review\", \"review_clean\",axis=1)\n",
        "drop_cols = [y_label, \"reviews\", \"review_clean\"]\n",
        "X_features = [column for column in df.columns if column not in drop_cols]\n",
        "\n"
      ],
      "execution_count": 15,
      "outputs": []
    },
    {
      "cell_type": "code",
      "metadata": {
        "id": "hlVXwi0Da714"
      },
      "source": [
        "# split the data into train and test\n",
        "from sklearn.ensemble import RandomForestClassifier\n",
        "from sklearn.tree import DecisionTreeClassifier\n",
        "from sklearn.metrics import plot_confusion_matrix, classification_report, accuracy_score\n",
        "from sklearn.model_selection import train_test_split\n",
        "\n",
        "X_train, X_test, y_train, y_test = train_test_split(df[X_features], df[y_label], test_size = 0.33, random_state = 42)"
      ],
      "execution_count": 16,
      "outputs": []
    },
    {
      "cell_type": "code",
      "metadata": {
        "id": "tRDSxJiIc9H3"
      },
      "source": [
        "# train a random forest classifier\n",
        "rfc = RandomForestClassifier(n_estimators = 100, random_state = 42)\n",
        "rfc.fit(X_train, y_train)\n",
        "pred = rfc.predict(X_test)"
      ],
      "execution_count": 17,
      "outputs": []
    },
    {
      "cell_type": "code",
      "metadata": {
        "colab": {
          "base_uri": "https://localhost:8080/"
        },
        "id": "AJgIDlP7dsVS",
        "outputId": "752467f0-a6c6-48ad-abb0-ad43c4f9f961"
      },
      "source": [
        "# show confusion matrix\n",
        "print(classification_report(y_test, pred))\n",
        "print(accuracy_score(y_test, pred))"
      ],
      "execution_count": 18,
      "outputs": [
        {
          "output_type": "stream",
          "text": [
            "              precision    recall  f1-score   support\n",
            "\n",
            "           0       0.84      0.85      0.85      8230\n",
            "           1       0.85      0.84      0.84      8270\n",
            "\n",
            "    accuracy                           0.85     16500\n",
            "   macro avg       0.85      0.85      0.85     16500\n",
            "weighted avg       0.85      0.85      0.85     16500\n",
            "\n",
            "0.845030303030303\n"
          ],
          "name": "stdout"
        }
      ]
    },
    {
      "cell_type": "code",
      "metadata": {
        "colab": {
          "base_uri": "https://localhost:8080/",
          "height": 327
        },
        "id": "G5qtle0leRYB",
        "outputId": "0142f5b2-249e-4784-ddfa-86cefdbe2713"
      },
      "source": [
        "disp = plot_confusion_matrix(rfc, X_test, y_test,\n",
        "                     display_labels= [\"Negative\", 'Positive'])\n",
        "\n",
        "disp.ax_.set_title(\"Confusion Matrix \\n Random Forest\")"
      ],
      "execution_count": 19,
      "outputs": [
        {
          "output_type": "execute_result",
          "data": {
            "text/plain": [
              "Text(0.5, 1.0, 'Confusion Matrix \\n Random Forest')"
            ]
          },
          "metadata": {
            "tags": []
          },
          "execution_count": 19
        },
        {
          "output_type": "display_data",
          "data": {
            "image/png": "[encoded data removed]",
            "text/plain": [
              "<Figure size 432x288 with 2 Axes>"
            ]
          },
          "metadata": {
            "tags": [],
            "needs_background": "light"
          }
        }
      ]
    },
    {
      "cell_type": "code",
      "metadata": {
        "colab": {
          "base_uri": "https://localhost:8080/",
          "height": 359
        },
        "id": "TeokcFJ9e3xs",
        "outputId": "3b79dec2-25d7-4000-af62-9017fa42a070"
      },
      "source": [
        "# show feature importance\n",
        "feature_importances_df = pd.DataFrame({\"feature\": X_features, \"importance\": rfc.feature_importances_}).sort_values(\"importance\", ascending = False)\n",
        "feature_importances_df.head(10)"
      ],
      "execution_count": 20,
      "outputs": [
        {
          "output_type": "execute_result",
          "data": {
            "text/html": [
              "<div>\n",
              "<style scoped>\n",
              "    .dataframe tbody tr th:only-of-type {\n",
              "        vertical-align: middle;\n",
              "    }\n",
              "\n",
              "    .dataframe tbody tr th {\n",
              "        vertical-align: top;\n",
              "    }\n",
              "\n",
              "    .dataframe thead th {\n",
              "        text-align: right;\n",
              "    }\n",
              "</style>\n",
              "<table border=\"1\" class=\"dataframe\">\n",
              "  <thead>\n",
              "    <tr style=\"text-align: right;\">\n",
              "      <th></th>\n",
              "      <th>feature</th>\n",
              "      <th>importance</th>\n",
              "    </tr>\n",
              "  </thead>\n",
              "  <tbody>\n",
              "    <tr>\n",
              "      <th>3</th>\n",
              "      <td>compound</td>\n",
              "      <td>0.036460</td>\n",
              "    </tr>\n",
              "    <tr>\n",
              "      <th>2</th>\n",
              "      <td>pos</td>\n",
              "      <td>0.033540</td>\n",
              "    </tr>\n",
              "    <tr>\n",
              "      <th>0</th>\n",
              "      <td>neg</td>\n",
              "      <td>0.033342</td>\n",
              "    </tr>\n",
              "    <tr>\n",
              "      <th>356</th>\n",
              "      <td>word_bad</td>\n",
              "      <td>0.024954</td>\n",
              "    </tr>\n",
              "    <tr>\n",
              "      <th>7</th>\n",
              "      <td>doc2vec_vector_1</td>\n",
              "      <td>0.015323</td>\n",
              "    </tr>\n",
              "    <tr>\n",
              "      <th>10</th>\n",
              "      <td>doc2vec_vector_4</td>\n",
              "      <td>0.013252</td>\n",
              "    </tr>\n",
              "    <tr>\n",
              "      <th>6</th>\n",
              "      <td>doc2vec_vector_0</td>\n",
              "      <td>0.012736</td>\n",
              "    </tr>\n",
              "    <tr>\n",
              "      <th>2031</th>\n",
              "      <td>word_great</td>\n",
              "      <td>0.011692</td>\n",
              "    </tr>\n",
              "    <tr>\n",
              "      <th>5038</th>\n",
              "      <td>word_waste</td>\n",
              "      <td>0.009660</td>\n",
              "    </tr>\n",
              "    <tr>\n",
              "      <th>8</th>\n",
              "      <td>doc2vec_vector_2</td>\n",
              "      <td>0.008117</td>\n",
              "    </tr>\n",
              "  </tbody>\n",
              "</table>\n",
              "</div>"
            ],
            "text/plain": [
              "               feature  importance\n",
              "3             compound    0.036460\n",
              "2                  pos    0.033540\n",
              "0                  neg    0.033342\n",
              "356           word_bad    0.024954\n",
              "7     doc2vec_vector_1    0.015323\n",
              "10    doc2vec_vector_4    0.013252\n",
              "6     doc2vec_vector_0    0.012736\n",
              "2031        word_great    0.011692\n",
              "5038        word_waste    0.009660\n",
              "8     doc2vec_vector_2    0.008117"
            ]
          },
          "metadata": {
            "tags": []
          },
          "execution_count": 20
        }
      ]
    },
    {
      "cell_type": "code",
      "metadata": {
        "colab": {
          "base_uri": "https://localhost:8080/",
          "height": 621
        },
        "id": "G3HC01YPfoau",
        "outputId": "a2dfb5b7-db08-4ff5-b66f-e48f6e01deea"
      },
      "source": [
        "# ROC curve\n",
        "\n",
        "from sklearn.metrics import roc_curve, auc, roc_auc_score\n",
        "import matplotlib.pyplot as plt\n",
        "\n",
        "y_pred = [x[1] for x in rfc.predict_proba(X_test)]\n",
        "fpr, tpr, thresholds = roc_curve(y_test, y_pred, pos_label = 1)\n",
        "\n",
        "roc_auc = auc(fpr, tpr)\n",
        "\n",
        "plt.figure(1, figsize = (15, 10))\n",
        "lw = 2\n",
        "plt.plot(fpr, tpr, color='darkorange',\n",
        "         lw=lw, label='ROC curve (area = %0.2f)' % roc_auc)\n",
        "plt.plot([0, 1], [0, 1], lw=lw, linestyle='--')\n",
        "plt.xlim([0.0, 1.0])\n",
        "plt.ylim([0.0, 1.0])\n",
        "plt.xlabel('False Positive Rate')\n",
        "plt.ylabel('True Positive Rate')\n",
        "plt.title('Receiver operating characteristic example')\n",
        "plt.legend(loc=\"lower right\")\n",
        "plt.show()"
      ],
      "execution_count": 21,
      "outputs": [
        {
          "output_type": "display_data",
          "data": {
            "image/png": "[encoded data removed]",
            "text/plain": [
              "<Figure size 1080x720 with 1 Axes>"
            ]
          },
          "metadata": {
            "tags": [],
            "needs_background": "light"
          }
        }
      ]
    },
    {
      "cell_type": "markdown",
      "metadata": {
        "id": "aQt9I42ihqGT"
      },
      "source": [
        "This seems to be goood!!!!"
      ]
    },
    {
      "cell_type": "code",
      "metadata": {
        "id": "AfjQAwJXhtNB"
      },
      "source": [
        "# PR curve\n",
        "\n",
        "from sklearn.metrics import average_precision_score, precision_recall_curve\n",
        "#from sklearn.utils.fixes import signature"
      ],
      "execution_count": 22,
      "outputs": []
    },
    {
      "cell_type": "code",
      "metadata": {
        "id": "EKjYmRYAiptl"
      },
      "source": [
        "try:\n",
        "    from inspect import signature\n",
        "except ImportError:\n",
        "    from sklearn.externals.funcsigs import signature"
      ],
      "execution_count": 23,
      "outputs": []
    },
    {
      "cell_type": "code",
      "metadata": {
        "colab": {
          "base_uri": "https://localhost:8080/",
          "height": 638
        },
        "id": "zx48y2dziLlr",
        "outputId": "8e553b86-ad34-4f6d-b787-0a0e729739d5"
      },
      "source": [
        "average_precision = average_precision_score(y_test, y_pred)\n",
        "\n",
        "precision, recall, _ = precision_recall_curve(y_test, y_pred)\n",
        "\n",
        "# In matplotlib < 1.5, plt.fill_between does not have a 'step' argument\n",
        "step_kwargs = ({'step': 'post'}\n",
        "               if 'step' in signature(plt.fill_between).parameters\n",
        "               else {})\n",
        "\n",
        "plt.figure(1, figsize = (15, 10))\n",
        "plt.step(recall, precision, color='b', alpha=0.2,\n",
        "         where='post')\n",
        "plt.fill_between(recall, precision, alpha=0.2, color='b', **step_kwargs)\n",
        "\n",
        "plt.xlabel('Recall')\n",
        "plt.ylabel('Precision')\n",
        "plt.ylim([0.0, 1.05])\n",
        "plt.xlim([0.0, 1.0])\n",
        "plt.title('2-class Precision-Recall curve: AP={0:0.2f}'.format(average_precision))"
      ],
      "execution_count": 24,
      "outputs": [
        {
          "output_type": "execute_result",
          "data": {
            "text/plain": [
              "Text(0.5, 1.0, '2-class Precision-Recall curve: AP=0.92')"
            ]
          },
          "metadata": {
            "tags": []
          },
          "execution_count": 24
        },
        {
          "output_type": "display_data",
          "data": {
            "image/png": "[encoded data removed]",
            "text/plain": [
              "<Figure size 1080x720 with 1 Axes>"
            ]
          },
          "metadata": {
            "tags": [],
            "needs_background": "light"
          }
        }
      ]
    },
    {
      "cell_type": "code",
      "metadata": {
        "id": "c7l21KZeWqp6"
      },
      "source": [
        ""
      ],
      "execution_count": null,
      "outputs": []
    },
    {
      "cell_type": "code",
      "metadata": {
        "id": "o6Kk_wK0pHPr"
      },
      "source": [
        "from sklearn.neural_network import MLPClassifier\n",
        "from sklearn.neighbors import KNeighborsClassifier\n",
        "from sklearn.svm import SVC\n",
        "from sklearn.gaussian_process import GaussianProcessClassifier\n",
        "from sklearn.gaussian_process.kernels import RBF\n",
        "from sklearn.tree import DecisionTreeClassifier\n",
        "from sklearn.ensemble import AdaBoostClassifier\n",
        "from sklearn.naive_bayes import GaussianNB\n",
        "from sklearn.discriminant_analysis import QuadraticDiscriminantAnalysis\n",
        "\n",
        "cls_lst = [KNeighborsClassifier(),\n",
        "          SVC(),\n",
        "          GaussianProcessClassifier(),\n",
        "          DecisionTreeClassifier(),\n",
        "          RandomForestClassifier(),\n",
        "          AdaBoostClassifier(),\n",
        "          GaussianNB(),\n",
        "          QuadraticDiscriminantAnalysis()\n",
        "           ]\n",
        "\n",
        "def evaluate(df, cls):\n",
        "    accuracies = {}\n",
        "    \n",
        "    for cl in cls:\n",
        "\n",
        "        # feature selection\n",
        "        y_label = \"sentiment\"\n",
        "        #features = df.drop(label,\"review\", \"review_clean\",axis=1)\n",
        "        drop_cols = [y_label, \"reviews\", \"review_clean\"]\n",
        "        X_features = [column for column in df.columns if column not in drop_cols]\n",
        "\n",
        "        X_train, X_test, y_train, y_test = train_test_split(df[X_features], df[y_label], test_size = 0.33, random_state = 42)\n",
        "    \n",
        "        cl.fit(X_train, y_train)\n",
        "        pred = cl.predict(X_test)\n",
        "        # print(classification_report(y_test, pred))\n",
        "        accuracies[cl.__class__.__name__] = accuracy_score(y_test, pred)\n",
        "        #print(accuracy_score(y_test, pred))\n",
        "    return accuracies\n"
      ],
      "execution_count": 25,
      "outputs": []
    },
    {
      "cell_type": "code",
      "metadata": {
        "id": "ClfaVbW211Xa"
      },
      "source": [
        "accuracy_dict = evaluate(df, cls_lst)"
      ],
      "execution_count": null,
      "outputs": []
    },
    {
      "cell_type": "code",
      "metadata": {
        "id": "ZdTViVXEACAy"
      },
      "source": [
        "accuracy_df = pd.DataFrame(accuracy_dict, index=[0])"
      ],
      "execution_count": null,
      "outputs": []
    },
    {
      "cell_type": "code",
      "metadata": {
        "id": "-EBdGbAKAL_i"
      },
      "source": [
        "accuracy_df.T.plot(kind='bar')"
      ],
      "execution_count": null,
      "outputs": []
    }
  ]
}